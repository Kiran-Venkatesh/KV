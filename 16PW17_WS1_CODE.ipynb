{
  "nbformat": 4,
  "nbformat_minor": 0,
  "metadata": {
    "colab": {
      "name": "16PW17_WS1_CODE.ipynb",
      "provenance": [],
      "collapsed_sections": [],
      "include_colab_link": true
    },
    "kernelspec": {
      "name": "python3",
      "display_name": "Python 3"
    }
  },
  "cells": [
    {
      "cell_type": "markdown",
      "metadata": {
        "id": "view-in-github",
        "colab_type": "text"
      },
      "source": [
        "<a href=\"https://colab.research.google.com/github/Kiran-Venkatesh/KV/blob/master/16PW17_WS1_CODE.ipynb\" target=\"_parent\"><img src=\"https://colab.research.google.com/assets/colab-badge.svg\" alt=\"Open In Colab\"/></a>"
      ]
    },
    {
      "cell_type": "code",
      "metadata": {
        "id": "m5i1hnlSNjeX",
        "colab": {
          "base_uri": "https://localhost:8080/",
          "height": 190
        },
        "outputId": "daba6f25-aec6-44e6-dcc9-90738c4de0cb"
      },
      "source": [
        "import sys\n",
        "import keras\n",
        "from keras.utils import to_categorical\n",
        "from keras.applications.vgg16 import VGG16\n",
        "from keras.models import Model\n",
        "from keras.layers import Dense\n",
        "from keras.layers import Flatten\n",
        "from keras.layers import GlobalAveragePooling2D\n",
        "from keras.layers import Dropout\n",
        "from keras.callbacks import ModelCheckpoint\n",
        "from keras.optimizers import SGD\n",
        "from keras.preprocessing.image import ImageDataGenerator\n",
        "from keras.models import Sequential\n",
        "from keras.layers import Dense, Activation, Dropout, Flatten, Conv2D, MaxPooling2D\n",
        "from keras.layers.normalization import BatchNormalization\n",
        "import numpy as np\n",
        "import pandas as pd\n",
        "\n",
        "def define_model():\n",
        "  model = Sequential()\n",
        "\n",
        "  model.add(Conv2D(filters=6, input_shape=(28,28,1), kernel_size=(5,5), strides=(1,1), padding='same'))\n",
        "  model.add(MaxPooling2D(pool_size=(2, 2)))\n",
        "  model.add(Activation(\"sigmoid\"))\n",
        "\n",
        "  model.add(Conv2D(filters=16, kernel_size=(5,5), strides=(1,1), padding='same'))\n",
        "  model.add(MaxPooling2D(pool_size=(2, 2)))\n",
        "  model.add(Activation(\"sigmoid\"))\n",
        "  model.add(Dropout(0.5))\n",
        "\n",
        "  model.add(Conv2D(filters=120, kernel_size=(1,1), strides=(1,1), padding='same'))\n",
        "  \n",
        "  model.add(Flatten())\n",
        "  model.add(Dense(84))\n",
        "  model.add(Activation(\"sigmoid\"))\n",
        "  model.add(Dense(10))\n",
        "  model.add(Activation('softmax'))\n",
        "  \n",
        "  \n",
        "  model.compile(optimizer='adam', loss='categorical_crossentropy', metrics=['accuracy'])\n",
        "  return model\n",
        "def summarize_diagnostics(history):\n",
        "  pyplot.subplot(211)\n",
        "  pyplot.title('Cross Entropy Loss')\n",
        "  pyplot.plot(history.history['loss'], color='blue', label='train')\n",
        "  pyplot.plot(history.history['val_loss'], color='orange', label='test')\n",
        "  pyplot.subplot(212)\n",
        "  pyplot.title('Classification Accuracy')\n",
        "  pyplot.plot(history.history['accuracy'], color='blue', label='train')\n",
        "  pyplot.plot(history.history['val_accuracy'], color='orange', label='test')\n",
        "  filename = sys.argv[0].split('/')[-1]\n",
        "  pyplot.savefig(filename + '_plot.png')\n",
        "  pyplot.close()\n",
        "\n",
        "\n",
        "model=define_model()\n",
        "train = pd.read_csv(\"/content/train.csv\")\n",
        "test=pd.read_csv(\"/content/test.csv\")\n",
        "X_train = (train.iloc[:,1:].values).astype('float32') # all pixel values\n",
        "y_train = train.iloc[:,0].values.astype('int32') # only labels i.e targets digits\n",
        "X_test = test.values.astype('float32')\n",
        "X_train = X_train.reshape(X_train.shape[0], 28, 28)\n",
        "X_train = X_train.reshape(X_train.shape[0], 28, 28,1)\n",
        "X_test = X_test.reshape(X_test.shape[0], 28, 28,1)\n",
        "mean_px = X_train.mean().astype(np.float32)\n",
        "std_px = X_train.std().astype(np.float32)\n",
        "\n",
        "def standardize(x): \n",
        "    return (x-mean_px)/std_px\n",
        "\n",
        "X_train=standardize(X_train)\n",
        "\n",
        "y_train= to_categorical(y_train)\n",
        "print(X_train.shape,X_test.shape,y_train.shape)\n",
        "num_classes = y_train.shape[1]\n",
        "\n",
        "X_train, X_val, y_train, y_val = train_test_split(X_train, y_train, test_size=0.10, random_state=42)\n",
        "from keras.preprocessing import image\n",
        "gen = image.ImageDataGenerator()\n",
        "\n",
        "batches = gen.flow(X_train, y_train, batch_size=64)\n",
        "val_batches=gen.flow(X_val, y_val, batch_size=64)\n",
        "\n",
        "history=model.fit_generator(batches, steps_per_epoch=len(batches),validation_data=val_batches, validation_steps=len(val_batches), epochs=2,verbose=1)\n",
        "\n",
        "_, acc = model.evaluate_generator(val_batches, steps=len(val_batches),verbose=0)\n",
        "print('> %.3f' % (acc * 100.0))\n",
        "summarize_diagnostics(history)"
      ],
      "execution_count": null,
      "outputs": [
        {
          "output_type": "stream",
          "text": [
            "(42000, 28, 28, 1) (28000, 28, 28, 1) (42000, 10)\n",
            "Epoch 1/2\n",
            "591/591 [==============================] - 27s 46ms/step - loss: 0.8774 - accuracy: 0.7129 - val_loss: 0.2520 - val_accuracy: 0.9298\n",
            "Epoch 2/2\n",
            "591/591 [==============================] - 27s 46ms/step - loss: 0.2422 - accuracy: 0.9276 - val_loss: 0.1436 - val_accuracy: 0.9602\n",
            "WARNING:tensorflow:From <ipython-input-18-26bd0d3263fa>:86: Model.evaluate_generator (from tensorflow.python.keras.engine.training) is deprecated and will be removed in a future version.\n",
            "Instructions for updating:\n",
            "Please use Model.evaluate, which supports generators.\n",
            "> 96.024\n"
          ],
          "name": "stdout"
        }
      ]
    },
    {
      "cell_type": "markdown",
      "metadata": {
        "id": "e4oFfWiOnt-P"
      },
      "source": [
        "***P5) MLP for MNIST Dataset Handwritten Digit Classification*** "
      ]
    },
    {
      "cell_type": "code",
      "metadata": {
        "id": "4CUfSTbyWz9p"
      },
      "source": [
        "import pandas as pd\n",
        "from sklearn import datasets,preprocessing\n",
        "from sklearn.model_selection import train_test_split\n",
        "import matplotlib.pyplot as plt \n",
        "from sklearn.metrics import classification_report,roc_auc_score,f1_score,precision_recall_fscore_support,precision_score,recall_score,accuracy_score\n",
        "\n",
        "mnist = datasets.load_digits()\n",
        "DATA=mnist\n",
        "X = DATA.data\n",
        "Y = DATA.target\n"
      ],
      "execution_count": null,
      "outputs": []
    },
    {
      "cell_type": "code",
      "metadata": {
        "id": "T5euee9Yx3QL"
      },
      "source": [
        "import math\n",
        "def forward_backward_softmax_cross_entropy(x,y,v,w,eta,epochs,xt,yt):\n",
        "  E=[]\n",
        "  xe=[]\n",
        "  c=0\n",
        "  ycap=[]\n",
        "  print(\"Initial Weights between i/p & hidden:\",v)\n",
        "  print(\"Initial Weights between hidden & o/p:\",w)\n",
        "    \n",
        "  #Training Part\n",
        "  for t in range(epochs):\n",
        "    Error=0\n",
        "    for i in range(len(y)):\n",
        "      Ii=x[i]\n",
        "      Ii=np.insert(Ii, 0, 1, axis=0)\n",
        "      Oi=Ii\n",
        "      Ih=np.matmul(np.transpose(v),Oi)\n",
        "      Oh=1/(1+np.exp(-Ih))\n",
        "      Oh=np.insert(Oh, 0, 1, axis=0)\n",
        "      Io=np.matmul(np.transpose(w),Oh)\n",
        "      Oo=[]\n",
        "      for io in Io:\n",
        "        Oo.append(np.exp(io)/np.sum(np.exp(Io)))\n",
        "\n",
        "      Error+=-sum(y[i]*np.log2(Oo))\n",
        "      yc=[0]*len(Oo)\n",
        "      yc[np.argmax(Oo)]=1\n",
        "      if yc==list(y[i]):\n",
        "        c=c+1\n",
        "        continue\n",
        "      else:\n",
        "        Ebyw1=-(y[i]-Oo)\n",
        "        Ebyw1=Ebyw1.reshape(-1,1)\n",
        "        #Oh=np.array([hk+2.5 for hk in Oh])\n",
        "        Oh=Oh.reshape(-1,1)\n",
        "        delEbydelw=np.dot(Oh,np.transpose(Ebyw1))\n",
        "        delEbydelv=np.dot(w,Ebyw1)\n",
        "        #print(Ih)\n",
        "        #print(\"Hi1:\",delEbydelv)\n",
        "        Ii=Ii.reshape(-1,1)\n",
        "        delEbydelv=delEbydelv*Oh*(1-Oh)\n",
        "        #print(Oh)\n",
        "        #print(1-Oh)\n",
        "        #print(\"Hi2:\",delEbydelv)\n",
        "        #with_bias=Oh*(1-Oh)*Ii\n",
        "        delEbydelv=np.delete(delEbydelv,0)\n",
        "        delEbydelv=delEbydelv.reshape(-1,1)\n",
        "        delEbydelv=np.dot(Ii,np.transpose(delEbydelv))\n",
        "        #print(\"Hi3:\",delEbydelv)\n",
        "        w=w-np.dot(eta,delEbydelw)\n",
        "        v=v-np.dot(eta,delEbydelv)\n",
        "        #print(Ih,Oh,Io,Oo,delEbydelw,delEbydelv)\n",
        "        #print(w,v)\n",
        "\n",
        "    E.append(Error)\n",
        "    xe.append(t)\n",
        "    if c==len(y):\n",
        "      print(\"Convergence\")\n",
        "      break\n",
        "    else:\n",
        "      c=0\n",
        "  print(\"Total Epochs:\",t)\n",
        "  print(\"Final Weights between i/p & hidden:\",v)\n",
        "  print(\"Final Weights between hidden & o/p:\",w)\n",
        "  print(\"Final Training Error:\",Error)\n",
        "  \n",
        "  fig = plt.figure(figsize = (10, 5))\n",
        "  plt.plot(xe,E,color=\"blue\")\n",
        "  plt.xlabel(\"Number of epochs\")\n",
        "  plt.ylabel(\"Error Loss\")\n",
        "  plt.show()\n",
        "\n",
        "  #Testing Part\n",
        "  crct=0\n",
        "  y_pred=[]\n",
        "  for i in range(len(yt)):\n",
        "    yc=[]\n",
        "    Ii=xt[i]\n",
        "    Ii=np.insert(Ii, 0, 1, axis=0)\n",
        "    Oi=Ii\n",
        "    Ih=np.matmul(np.transpose(v),Oi)\n",
        "    Oh=1/(1+np.exp(-Ih))\n",
        "    #Oh=np.array([hk+2.5 for hk in Oh])\n",
        "        \n",
        "    Oh=np.insert(Oh, 0, 1, axis=0)\n",
        "    Io=np.matmul(np.transpose(w),Oh)\n",
        "    Oo=[]\n",
        "    for io in Io:\n",
        "      Oo.append(np.exp(io)/np.sum(np.exp(Io)))\n",
        "\n",
        "      \n",
        "    yc=[0]*len(Oo)\n",
        "    yc[np.argmax(Oo)]=1\n",
        "    y_pred.append(yc)\n",
        "    if list(yt[i])==yc:\n",
        "      crct+=1\n",
        "  print(\"Test Accuracy:\",crct/len(yt))\n",
        "  y_est=y_pred\n",
        "  y_pred=np.argmax(np.array(y_pred), axis=1)\n",
        "  y_true=np.argmax(np.array(yt), axis=1)\n",
        "  print(classification_report(y_true, y_pred))\n",
        "  print(precision_recall_fscore_support(y_true, y_pred))\n",
        "  print(\"Accuracy:\",accuracy_score(y_true,y_pred))\n",
        "  print(\"Precision:\",precision_score(y_true,y_pred,average='weighted'))\n",
        "  print(\"Recall:\",recall_score(y_true,y_pred,average='weighted'))\n",
        "  print(\"F1_score:\",f1_score(y_true,y_pred,average='weighted'))\n",
        "  print(\"ROC_AUC_Score_array:\",roc_auc_score(yt,y_est,average=None))\n",
        "  print(\"ROC_AUC_Score_array:\",roc_auc_score(yt,y_est,average='weighted'))\n"
      ],
      "execution_count": null,
      "outputs": []
    },
    {
      "cell_type": "code",
      "metadata": {
        "id": "nbuvucg4eLQQ",
        "colab": {
          "base_uri": "https://localhost:8080/",
          "height": 1000
        },
        "outputId": "7c4fab57-4913-4d16-9a15-d3b18c22298c"
      },
      "source": [
        "X = preprocessing.normalize(X)\n",
        "Y=pd.get_dummies(Y)\n",
        "X_train, X_test, Y_train, Y_test = train_test_split(X, Y, test_size=0.3, random_state=42)\n",
        "num_input = X_train.shape[1]\n",
        "num_hidden = 32\n",
        "num_output = Y_test.shape[1]\n",
        "v = np.random.rand(num_input+1,num_hidden)   #(l+1)xm\n",
        "w = np.random.rand(num_hidden+1,num_output)  #(m+1)xn\n",
        "\n",
        "Y_train=np.array(Y_train)\n",
        "Y_test=np.array(Y_test)\n",
        "\n",
        "print(X_train.shape, X_test.shape, Y_train.shape, Y_test.shape)\n",
        "eta=0.1\n",
        "epochs=100\n",
        "#forward_backward_relu(X_train,y_train,v,w,eta,epochs,X_test,y_test)\n",
        "#forward_backward(X_train,Y_train,v,w,eta,epochs,X_test,Y_test)\n",
        "forward_backward_softmax_cross_entropy(X_train,Y_train,v,w,eta,epochs,X_test,Y_test)\n"
      ],
      "execution_count": null,
      "outputs": [
        {
          "output_type": "stream",
          "text": [
            "(1257, 64) (540, 64) (1257, 10) (540, 10)\n",
            "Initial Weights between i/p & hidden: [[0.47015996 0.25012152 0.42678434 ... 0.91952756 0.82432607 0.06523987]\n",
            " [0.47969456 0.27002939 0.05383192 ... 0.53128216 0.05168841 0.58255965]\n",
            " [0.14571525 0.7779985  0.94812423 ... 0.36343146 0.7954323  0.72654494]\n",
            " ...\n",
            " [0.820961   0.41119103 0.03905607 ... 0.38678399 0.19509065 0.55573547]\n",
            " [0.3813642  0.23106817 0.32708594 ... 0.3592931  0.45700224 0.49255249]\n",
            " [0.97716212 0.61860724 0.0298887  ... 0.35953287 0.9918361  0.75820998]]\n",
            "Initial Weights between hidden & o/p: [[0.45724672 0.60717341 0.25495759 0.04736414 0.98894912 0.8385059\n",
            "  0.83780173 0.75050451 0.32594548 0.44813434]\n",
            " [0.76785891 0.82249907 0.81346324 0.83553562 0.37660203 0.8030187\n",
            "  0.57280432 0.32968774 0.48054287 0.92147048]\n",
            " [0.74852131 0.37884655 0.72726938 0.07357466 0.47841642 0.07136477\n",
            "  0.2541375  0.34837475 0.74382263 0.61639914]\n",
            " [0.56776377 0.59756491 0.09199813 0.83982462 0.99287352 0.5759899\n",
            "  0.27630082 0.62176271 0.43997891 0.64469729]\n",
            " [0.71812949 0.47904948 0.34305638 0.97346738 0.05274586 0.12251557\n",
            "  0.3485613  0.1217325  0.19069072 0.12547146]\n",
            " [0.90727706 0.35586859 0.28748642 0.92284152 0.44164494 0.98122306\n",
            "  0.94438271 0.98821652 0.19266831 0.69141966]\n",
            " [0.7163243  0.26085884 0.88285279 0.95458153 0.97107502 0.67415429\n",
            "  0.58851059 0.86160758 0.65130337 0.42171707]\n",
            " [0.10383286 0.10495571 0.60727351 0.88130954 0.85121999 0.89146424\n",
            "  0.82523588 0.77373432 0.77132329 0.03423444]\n",
            " [0.64915328 0.71728702 0.22409069 0.68929556 0.66884069 0.06840098\n",
            "  0.39561159 0.33354506 0.49032873 0.3091465 ]\n",
            " [0.67223754 0.41115297 0.3673217  0.98816288 0.30383716 0.88589969\n",
            "  0.00643486 0.00627012 0.26502141 0.9891421 ]\n",
            " [0.2736498  0.12405734 0.63457824 0.31672747 0.91931281 0.49041793\n",
            "  0.58002316 0.61063794 0.53424362 0.85612991]\n",
            " [0.49987268 0.17648348 0.30613794 0.06246048 0.58607009 0.13478929\n",
            "  0.37616574 0.39684051 0.45303827 0.4267686 ]\n",
            " [0.32220519 0.21481942 0.37574408 0.08738981 0.91870368 0.10184599\n",
            "  0.71135647 0.95823285 0.07231373 0.52262267]\n",
            " [0.01247015 0.38149619 0.96953511 0.5097879  0.24776867 0.0714632\n",
            "  0.7520107  0.91967849 0.35404218 0.70269445]\n",
            " [0.50147269 0.73075447 0.87704931 0.76580969 0.27097195 0.09923365\n",
            "  0.65718996 0.92512751 0.35844283 0.39511955]\n",
            " [0.61390466 0.15384802 0.87463822 0.38429478 0.33000309 0.75094616\n",
            "  0.5259001  0.38579871 0.46095091 0.99052482]\n",
            " [0.80136453 0.04824423 0.77493215 0.29526872 0.64089977 0.39750121\n",
            "  0.36187135 0.45418619 0.50920278 0.74362671]\n",
            " [0.85785096 0.39843068 0.07530047 0.03572192 0.43802146 0.79093248\n",
            "  0.94462311 0.58482542 0.92796167 0.67298649]\n",
            " [0.01421405 0.79835755 0.25033786 0.02085336 0.90685899 0.18966872\n",
            "  0.24507304 0.08619526 0.90947034 0.86687376]\n",
            " [0.33765179 0.96370038 0.80416885 0.88568473 0.12887893 0.79626786\n",
            "  0.57483596 0.12807423 0.15195432 0.10684088]\n",
            " [0.15534573 0.49855129 0.59504567 0.36197848 0.31005224 0.93122913\n",
            "  0.56190601 0.68754972 0.53088286 0.64112069]\n",
            " [0.17980969 0.42351081 0.55062248 0.43600587 0.45856092 0.7769799\n",
            "  0.61216667 0.06239143 0.4376724  0.0654182 ]\n",
            " [0.31622711 0.97169811 0.40042781 0.88800771 0.90660887 0.33968865\n",
            "  0.74035431 0.84731651 0.2536839  0.11338983]\n",
            " [0.77136559 0.50491944 0.08263043 0.20813766 0.10331589 0.80379964\n",
            "  0.54843287 0.27364973 0.72290191 0.07221466]\n",
            " [0.89217409 0.39357743 0.27394323 0.3795726  0.86573413 0.59227653\n",
            "  0.29224237 0.97966791 0.06645246 0.46715817]\n",
            " [0.03448283 0.55324881 0.96264904 0.64364461 0.95508459 0.22598701\n",
            "  0.03062765 0.15017332 0.02253917 0.10540955]\n",
            " [0.92975505 0.90398544 0.78760503 0.02071368 0.04960898 0.99231307\n",
            "  0.82122518 0.1016935  0.05753768 0.66355656]\n",
            " [0.99792565 0.48398323 0.88892142 0.92177694 0.03828909 0.45266412\n",
            "  0.2012255  0.58769447 0.77910994 0.17271451]\n",
            " [0.02538692 0.74906697 0.44307338 0.4737543  0.56416461 0.33963531\n",
            "  0.17207995 0.90642839 0.34210483 0.61085651]\n",
            " [0.64223251 0.28622349 0.33876528 0.81584754 0.08667794 0.71279801\n",
            "  0.17619343 0.29398056 0.57469185 0.29587157]\n",
            " [0.8179308  0.31113677 0.23671795 0.06691044 0.16401046 0.63072911\n",
            "  0.46556883 0.54946813 0.17613892 0.59489395]\n",
            " [0.48018016 0.32366527 0.33785507 0.70488975 0.89028796 0.866339\n",
            "  0.47496064 0.28584853 0.41628014 0.74493928]\n",
            " [0.93505027 0.00109332 0.94368709 0.89692542 0.34955814 0.19594372\n",
            "  0.69046615 0.51651031 0.96322946 0.14733096]]\n",
            "Total Epochs: 99\n",
            "Final Weights between i/p & hidden: [[-2.07972439 -1.68925764 -1.14621319 ... -1.40896832 -1.69089582\n",
            "  -2.08507211]\n",
            " [ 0.47969456  0.27002939  0.05383192 ...  0.53128216  0.05168841\n",
            "   0.58255965]\n",
            " [ 0.18574281  0.47510079  0.99445385 ...  0.43359783  0.84268883\n",
            "   0.71660473]\n",
            " ...\n",
            " [ 0.63632174 -0.39786417 -2.18157628 ... -0.21317924 -0.20458018\n",
            "   0.42545229]\n",
            " [ 0.16547327  0.0023507  -1.10097523 ...  0.02763486  0.19548576\n",
            "   0.85595388]\n",
            " [ 0.81504874  0.8438334  -0.38519497 ...  0.20449929  0.9553764\n",
            "   0.29977901]]\n",
            "Final Weights between hidden & o/p: [[ 3.62347476e-01  8.72080892e-01 -3.74584092e-01 -1.60150000e-02\n",
            "   1.03496818e+00  9.97826837e-01  7.23560965e-01  8.66938668e-01\n",
            "   7.64178798e-01  3.25280207e-01]\n",
            " [ 4.03541491e-01 -2.65438659e-01  5.74220010e-01  1.44978725e+00\n",
            "  -2.88929144e-01  1.89806621e+00 -3.02957428e-01  2.21402432e-01\n",
            "   1.11422207e+00  1.91956874e+00]\n",
            " [ 2.61366345e+00  1.41367421e+00  2.65010592e-01 -3.29774243e+00\n",
            "   6.67813791e-01 -3.74720729e-01 -7.98890978e-02  6.35483390e-01\n",
            "   1.21302151e+00  1.38441238e+00]\n",
            " [ 1.24146855e+00 -4.78575277e-01 -3.10823061e+00  8.30946434e-01\n",
            "   2.47415993e+00  2.41478218e+00 -2.79758717e+00  3.22109834e+00\n",
            "  -4.25010954e-01  2.27570315e+00]\n",
            " [ 6.34159961e-02  1.68112254e+00  2.66162702e+00  1.56786561e+00\n",
            "  -1.57467532e+00 -3.01201315e-01  2.31069574e-01 -1.80928956e+00\n",
            "   8.42242246e-01  1.13243333e-01]\n",
            " [ 1.60933060e-01 -5.58656936e-01 -1.06385655e+00  6.39331213e-01\n",
            "   1.01966518e+00  2.55199392e+00  9.10750256e-01  1.61276834e+00\n",
            "  -4.10813547e-01  1.85091385e+00]\n",
            " [-4.35450588e-02 -5.46459434e-01  1.41979813e+00  1.71065913e+00\n",
            "   6.74691836e-01  1.24523328e+00 -3.81201651e-01  1.55620627e+00\n",
            "   1.22281016e+00  1.24792711e-01]\n",
            " [-2.01846337e+00  4.51608891e-01  9.05293373e-01  1.32170081e+00\n",
            "   1.13923729e+00 -3.43576007e-01  2.28757634e+00  1.11795439e+00\n",
            "   2.56032228e+00 -1.57707024e+00]\n",
            " [-1.53697490e+00  1.89710520e+00  9.48755361e-02  1.15971809e+00\n",
            "   1.94310659e+00 -3.55475548e+00  5.39437882e-01  1.65173579e+00\n",
            "   1.72526556e+00  6.26185813e-01]\n",
            " [ 7.77908687e-01  4.83495136e-01 -1.50824523e+00  2.08134856e+00\n",
            "  -1.95196309e+00  2.71531992e+00 -5.31604704e-01 -1.55987871e+00\n",
            "   1.56222310e+00  2.82687677e+00]\n",
            " [ 5.83101672e-01 -3.38305226e-01  1.28191987e+00 -1.39595970e-01\n",
            "   2.50773822e+00 -4.34476588e-01 -2.17244452e-01  2.43477168e+00\n",
            "  -7.86191667e-01  4.48060684e-01]\n",
            " [ 1.15041605e+00  8.90236685e-01 -1.13439252e+00 -2.06889265e-01\n",
            "   5.29644601e-01 -3.32415641e-01  1.76116604e+00 -1.54615013e+00\n",
            "   8.17926114e-01  1.48908516e+00]\n",
            " [-2.30733495e-01  8.14928581e-01  6.08646255e-01  7.24316404e-02\n",
            "   1.45756527e-01 -8.45179017e-01  1.50044295e+00  1.73749285e+00\n",
            "   4.59278546e-01  2.21690579e-02]\n",
            " [-4.38139220e-01  1.66592624e-01  1.46308808e+00  2.44811946e-01\n",
            "  -3.86771207e-01  1.26406064e-01  9.21375079e-01  1.87031302e+00\n",
            "   2.74376357e-01  6.78894319e-01]\n",
            " [-5.89940081e-01  7.47314596e-01  8.89931433e-01  1.85379722e+00\n",
            "  -1.42880187e+00  3.17780149e-01  1.79236872e+00  1.39887196e-01\n",
            "   1.60926063e+00  2.49573614e-01]\n",
            " [ 1.36158338e+00 -4.36077497e-01 -1.60578253e-01  7.10341201e-03\n",
            "   4.39874494e-02  2.68371174e+00 -6.33139185e-02 -7.57933638e-01\n",
            "  -5.42516462e-01  3.33484324e+00]\n",
            " [ 8.50324195e-03 -3.05175576e-02  1.14960001e+00  3.01339979e-01\n",
            "   1.85519217e+00  5.46424616e-01  1.12975041e-01  8.24128435e-01\n",
            "   4.23616763e-01 -1.64165049e-01]\n",
            " [ 5.89092229e+00 -1.14905260e+00 -1.96372164e+00 -1.17929715e+00\n",
            "   2.03479231e+00  4.10629214e-01  3.81676458e+00 -1.48851522e+00\n",
            "   8.79150603e-02 -7.33782184e-01]\n",
            " [-2.24450392e-01  2.35214051e+00 -1.62343087e+00 -2.86263442e+00\n",
            "   4.80057052e+00 -1.16119818e+00  2.07917470e+00 -2.67334629e+00\n",
            "   3.32268310e+00  2.78394233e-01]\n",
            " [-1.67764430e+00  1.82898177e+00  3.44343923e+00  3.61653396e+00\n",
            "  -2.23570005e+00  1.81618013e-01  1.19870195e+00 -2.07084725e+00\n",
            "  -3.22720192e-01  9.15694800e-01]\n",
            " [-5.70076085e-01  2.42040177e+00  1.53360160e-01  3.31225204e-02\n",
            "  -6.20694678e-01  4.44091493e-01 -3.85350776e-01  3.91639398e-01\n",
            "   1.31137332e+00  2.09579468e+00]\n",
            " [-5.00986430e-02 -1.41776114e-01  1.01469739e+00  7.82659284e-01\n",
            "   9.99256251e-01  2.14580470e+00  4.36402404e-01 -4.63459309e-01\n",
            "   5.84581722e-02 -7.78805774e-01]\n",
            " [ 4.76924453e-01  1.27815025e+00 -8.00749608e-01  9.05300775e-01\n",
            "   2.23620754e+00 -4.00645379e-01  1.24571567e+00  2.58058803e+00\n",
            "  -1.48835533e+00 -2.55733592e-01]\n",
            " [ 1.03891209e+00  8.56850524e-01  2.63354054e-01  3.13914187e-02\n",
            "   1.28005896e-01  1.41560168e+00  2.03071983e+00 -8.42840210e-02\n",
            "   4.02448533e-02 -1.62942852e+00]\n",
            " [ 1.06119357e+00  6.17150297e-01 -3.28719592e-01 -9.32603279e-02\n",
            "   1.34969759e+00  7.60945139e-01  1.85878083e-01  2.18119701e+00\n",
            "  -9.11787675e-01  3.80504837e-01]\n",
            " [-7.16840306e-01  3.24863776e+00  3.06746270e+00 -1.15103296e+00\n",
            "   1.82554193e+00 -1.71686258e+00 -1.18896386e+00  1.49685922e+00\n",
            "  -5.69241354e-02 -1.12403118e+00]\n",
            " [ 1.31465531e+00  1.42395391e+00  3.91220203e+00 -1.06130662e+00\n",
            "  -4.83190462e-01  5.99489862e-01  3.07799672e+00 -5.38220375e-01\n",
            "  -8.01232265e-01 -2.11635393e+00]\n",
            " [ 1.09312866e+00  1.52488228e-01  2.38059545e+00  1.54340443e+00\n",
            "  -1.47439681e+00  2.06487872e+00 -1.96005260e+00 -3.33444036e-02\n",
            "   1.81447128e+00 -5.68680922e-02]\n",
            " [-9.33292354e-01  6.30881304e-01 -4.89707565e-01  7.45987543e-01\n",
            "  -8.29167306e-01  5.68648045e-01 -5.50436524e-01  2.15167388e+00\n",
            "   4.10435823e-01  2.92152834e+00]\n",
            " [ 5.70221015e-01  4.68454482e-01 -2.76870757e-01  8.54574674e-01\n",
            "   1.10155691e-01  9.21924921e-01 -7.17955800e-02  4.31337453e-01\n",
            "   1.04639640e+00  1.68883883e-01]\n",
            " [ 1.14165875e+00 -6.99965518e-01 -2.20530304e-01  5.79584204e-02\n",
            "   1.18776903e+00  1.53502385e+00  6.12842164e-01  1.03812171e+00\n",
            "  -4.62251510e-01 -1.77121224e-01]\n",
            " [-1.65966800e-01  7.40337401e-01 -1.90266735e-01  1.31080234e+00\n",
            "   7.58211720e-01  2.07522263e+00 -5.24538755e-01  2.95493802e-01\n",
            "   1.88851164e-03  1.22406169e+00]\n",
            " [ 3.15601873e+00 -3.39919185e+00  3.70706814e+00  2.88235387e+00\n",
            "  -2.66265938e+00 -2.50338911e+00  1.52612673e-01  6.87632708e-01\n",
            "   1.77839723e+00  1.84095184e+00]]\n",
            "Final Training Error: 478.06699312804125\n"
          ],
          "name": "stdout"
        },
        {
          "output_type": "display_data",
          "data": {
            "image/png": "[encoded data removed]",
            "text/plain": [
              "<Figure size 720x360 with 1 Axes>"
            ]
          },
          "metadata": {
            "tags": [],
            "needs_background": "light"
          }
        },
        {
          "output_type": "stream",
          "text": [
            "Test Accuracy: 0.9574074074074074\n",
            "              precision    recall  f1-score   support\n",
            "\n",
            "           0       0.98      0.96      0.97        53\n",
            "           1       0.94      0.96      0.95        50\n",
            "           2       0.96      0.94      0.95        47\n",
            "           3       1.00      0.94      0.97        54\n",
            "           4       0.97      1.00      0.98        60\n",
            "           5       0.95      0.89      0.92        66\n",
            "           6       0.98      0.98      0.98        53\n",
            "           7       1.00      0.98      0.99        55\n",
            "           8       0.84      0.95      0.89        43\n",
            "           9       0.95      0.97      0.96        59\n",
            "\n",
            "    accuracy                           0.96       540\n",
            "   macro avg       0.96      0.96      0.96       540\n",
            "weighted avg       0.96      0.96      0.96       540\n",
            "\n",
            "(array([0.98076923, 0.94117647, 0.95652174, 1.        , 0.96774194,\n",
            "       0.9516129 , 0.98113208, 1.        , 0.83673469, 0.95      ]), array([0.96226415, 0.96      , 0.93617021, 0.94444444, 1.        ,\n",
            "       0.89393939, 0.98113208, 0.98181818, 0.95348837, 0.96610169]), array([0.97142857, 0.95049505, 0.94623656, 0.97142857, 0.98360656,\n",
            "       0.921875  , 0.98113208, 0.99082569, 0.89130435, 0.95798319]), array([53, 50, 47, 54, 60, 66, 53, 55, 43, 59]))\n",
            "Accuracy: 0.9574074074074074\n",
            "Precision: 0.9590679149592253\n",
            "Recall: 0.9574074074074074\n",
            "F1_score: 0.9576729250818838\n",
            "ROC_AUC_Score_array: [0.98010538 0.97693878 0.96605671 0.97222222 0.99791667 0.94380514\n",
            " 0.98953934 0.99090909 0.9686959  0.97993234]\n",
            "ROC_AUC_Score_array: 0.9764423067016398\n"
          ],
          "name": "stdout"
        }
      ]
    },
    {
      "cell_type": "code",
      "metadata": {
        "id": "F7yTo3OldEv_",
        "colab": {
          "base_uri": "https://localhost:8080/",
          "height": 34
        },
        "outputId": "a5eca263-8059-48bf-8c1c-0b0f3402142a"
      },
      "source": [
        "[0,0,1]*np.log2([1,3,4])\n"
      ],
      "execution_count": null,
      "outputs": [
        {
          "output_type": "execute_result",
          "data": {
            "text/plain": [
              "array([0., 0., 2.])"
            ]
          },
          "metadata": {
            "tags": []
          },
          "execution_count": 72
        }
      ]
    },
    {
      "cell_type": "markdown",
      "metadata": {
        "id": "bpr5HhiiWi3S"
      },
      "source": [
        "***P2) Sigmoid Neuron for Iris 2 classes***"
      ]
    },
    {
      "cell_type": "code",
      "metadata": {
        "id": "y8an1Dak1bAo",
        "colab": {
          "base_uri": "https://localhost:8080/",
          "height": 847
        },
        "outputId": "8bca7347-e30a-477b-aaef-29245215a527"
      },
      "source": [
        "def c(x):\n",
        "  return np.double(x)\n",
        "\n",
        "def sigmoid_neuron(x,y,w,eta,epochs,xt,yt):\n",
        "  t=0\n",
        "  ycap=1\n",
        "  E=[]\n",
        "  xe=[]\n",
        "  cnt=0\n",
        "  f=False\n",
        "  #Training Part\n",
        "  while not f:\n",
        "    t=t+1\n",
        "    Error=0\n",
        "    prev=w\n",
        "    for i in range(len(y)):\n",
        "      Ii=x.iloc[i].values\n",
        "      Ii=np.insert(Ii, 0, 1, axis=0)\n",
        "      Oi=Ii\n",
        "      Io=np.matmul(np.transpose(w),Oi)\n",
        "      Oo=1/(1+np.exp(-Io))\n",
        "      Error+=((y.iloc[i]-Oo)**2)/2\n",
        "      if Oo>=0.5:\n",
        "        ycap=1\n",
        "      else:\n",
        "        ycap=0\n",
        "      if ycap==y.iloc[i]:\n",
        "        continue\n",
        "      else:\n",
        "        dohLbydohw=-np.dot(w,(y.iloc[i]-Oo)*Oo*(1-Oo))\n",
        "        w=w-np.dot(eta,dohLbydohw)\n",
        "    E.append(Error)\n",
        "    xe.append(t)\n",
        "    v = np.array(prev) == np.array(w)\n",
        "    if v.all()==True:\n",
        "      print(\"Convergence:\",v.all())\n",
        "      f=True\n",
        "      break\n",
        "  print(\"Total Epochs:\",t)\n",
        "  print(\"Final Weights between i/p & o/p:\",w)\n",
        "  print(\"Final Training Error:\",Error)\n",
        "    \n",
        "  fig = plt.figure(figsize = (10, 5))\n",
        "  plt.plot(xe,E,color=\"blue\")\n",
        "  plt.xlabel(\"Number of epochs\")\n",
        "  plt.ylabel(\"Error Loss\")\n",
        "  plt.show()\n",
        "\n",
        "  #Test Part\n",
        "  crct=0\n",
        "  y_pred=[]\n",
        "  \n",
        "  for i in range(len(yt)):\n",
        "    Ii=xt.iloc[i].values\n",
        "    Ii=np.insert(Ii, 0, 1, axis=0)\n",
        "    Oi=Ii\n",
        "    Io=np.matmul(np.transpose(w),Oi)\n",
        "    Oo=1/(1+np.exp(-Io))\n",
        "    if Oo>=0.5:\n",
        "      ycap=1\n",
        "    else:\n",
        "      ycap=0\n",
        "    y_pred.append(ycap)\n",
        "    if yt.iloc[i]==ycap:\n",
        "      crct+=1\n",
        "  \n",
        "  print(\"Test Accuracy:\",crct/len(yt))\n",
        "  y_est=y_pred\n",
        "  y_true=yt\n",
        "  print(\"Predicted:\",y_pred)\n",
        "  print(\"Actual:\",list(y_true))\n",
        "  print(classification_report(y_true, y_pred))\n",
        "  print(precision_recall_fscore_support(y_true, y_pred))\n",
        "  print(\"Accuracy:\",accuracy_score(y_true,y_pred))\n",
        "  print(\"Precision:\",precision_score(y_true,y_pred,average='weighted'))\n",
        "  print(\"Recall:\",recall_score(y_true,y_pred,average='weighted'))\n",
        "  print(\"F1_score:\",f1_score(y_true,y_pred,average='weighted'))\n",
        "  print(\"ROC_AUC_Score_array:\",roc_auc_score(yt,y_est,average=None))\n",
        "  print(\"ROC_AUC_Score_array:\",roc_auc_score(yt,y_est,average='weighted'))\n",
        "\n",
        "\n",
        "  \n",
        "\n",
        "\n",
        "\n",
        "    \n",
        "        \n",
        "      \n",
        "\n",
        "\n",
        "import pandas as pd\n",
        "import numpy as np\n",
        "\n",
        "df=pd.read_csv(\"Iris.csv\")\n",
        "sgdf=df.loc[df[\"Species\"].isin([\"Iris-versicolor\",\"Iris-setosa\"])]\n",
        "X=sgdf[['SepalLengthCm', 'SepalWidthCm', 'PetalLengthCm', 'PetalWidthCm']]\n",
        "X_norm=(X-X.min())/(X.max()-X.min())\n",
        "Y=sgdf['Species'].astype('category')\n",
        "Y_one_hot=Y.cat.codes\n",
        "#w=[c(1.0),c(2.0),c(3.0),c(4.0),c(5.0)]\n",
        "w=np.random.rand(5)\n",
        "eta=0.15\n",
        "epochs=1000\n",
        "X_train, X_test, Y_train, Y_test = train_test_split(X_norm, Y_one_hot, test_size=0.3,stratify=Y_one_hot)\n",
        "print(X_train.shape, X_test.shape, Y_train.shape, Y_test.shape)\n",
        "print(\"Initial Weights between i/p & o/p:\",w)\n",
        "  \n",
        "sigmoid_neuron(X_train,Y_train,w,eta,epochs,X_test,Y_test)\n",
        "#print(Y_train)\n",
        "\n",
        "\n",
        "\n"
      ],
      "execution_count": null,
      "outputs": [
        {
          "output_type": "stream",
          "text": [
            "(70, 4) (30, 4) (70,) (30,)\n",
            "Initial Weights between i/p & o/p: [0.76986949 0.79606339 0.7422891  0.48631902 0.56684723]\n",
            "Convergence: True\n",
            "Total Epochs: 1119\n",
            "Final Weights between i/p & o/p: [1.33e-322 1.33e-322 1.33e-322 1.33e-322 1.33e-322]\n",
            "Final Training Error: 8.75\n"
          ],
          "name": "stdout"
        },
        {
          "output_type": "display_data",
          "data": {
            "image/png": "[encoded data removed]",
            "text/plain": [
              "<Figure size 720x360 with 1 Axes>"
            ]
          },
          "metadata": {
            "tags": [],
            "needs_background": "light"
          }
        },
        {
          "output_type": "stream",
          "text": [
            "Test Accuracy: 0.5\n",
            "Predicted: [1, 1, 1, 1, 1, 1, 1, 1, 1, 1, 1, 1, 1, 1, 1, 1, 1, 1, 1, 1, 1, 1, 1, 1, 1, 1, 1, 1, 1, 1]\n",
            "Actual: [1, 1, 0, 1, 1, 0, 1, 0, 0, 0, 0, 0, 0, 1, 1, 1, 0, 0, 0, 0, 0, 1, 1, 1, 1, 0, 1, 1, 0, 1]\n",
            "              precision    recall  f1-score   support\n",
            "\n",
            "           0       0.00      0.00      0.00        15\n",
            "           1       0.50      1.00      0.67        15\n",
            "\n",
            "    accuracy                           0.50        30\n",
            "   macro avg       0.25      0.50      0.33        30\n",
            "weighted avg       0.25      0.50      0.33        30\n",
            "\n",
            "(array([0. , 0.5]), array([0., 1.]), array([0.        , 0.66666667]), array([15, 15]))\n",
            "Accuracy: 0.5\n",
            "Precision: 0.25\n",
            "Recall: 0.5\n",
            "F1_score: 0.3333333333333333\n",
            "ROC_AUC_Score_array: 0.5\n",
            "ROC_AUC_Score_array: 0.5\n"
          ],
          "name": "stdout"
        },
        {
          "output_type": "stream",
          "text": [
            "/usr/local/lib/python3.6/dist-packages/sklearn/metrics/_classification.py:1272: UndefinedMetricWarning: Precision and F-score are ill-defined and being set to 0.0 in labels with no predicted samples. Use `zero_division` parameter to control this behavior.\n",
            "  _warn_prf(average, modifier, msg_start, len(result))\n",
            "/usr/local/lib/python3.6/dist-packages/sklearn/metrics/_classification.py:1272: UndefinedMetricWarning: Precision is ill-defined and being set to 0.0 in labels with no predicted samples. Use `zero_division` parameter to control this behavior.\n",
            "  _warn_prf(average, modifier, msg_start, len(result))\n"
          ],
          "name": "stderr"
        }
      ]
    },
    {
      "cell_type": "markdown",
      "metadata": {
        "id": "i7BVJKFfe1a5"
      },
      "source": [
        "***P4) MLP for IRIS Dataset (3-class classification)***"
      ]
    },
    {
      "cell_type": "code",
      "metadata": {
        "id": "G4tvBkCrGAxk"
      },
      "source": [
        "def forward_backward_sum_of_square_sigmoid(x,y,v,w,eta,epochs,xt,yt):\n",
        "  E=[]\n",
        "  xe=[]\n",
        "  c=0\n",
        "  ycap=[]\n",
        "  #Training Part\n",
        "  for t in range(epochs):\n",
        "    Error=0\n",
        "    for i in range(len(y)):\n",
        "      Ii=x[i]\n",
        "      Ii=np.insert(Ii, 0, 1, axis=0)\n",
        "      Oi=Ii\n",
        "      Ih=np.matmul(np.transpose(v),Oi)\n",
        "      Oh=1/(1+np.exp(-Ih))\n",
        "      Oh=np.insert(Oh, 0, 1, axis=0)\n",
        "      Io=np.matmul(np.transpose(w),Oh)\n",
        "      Oo=1/(1+np.exp(-Io))\n",
        "      Error+=sum((y[i]-Oo)**2)/2\n",
        "      yc=[0]*len(Oo)\n",
        "      yc[np.argmax(Oo)]=1\n",
        "      if yc==list(y[i]):\n",
        "        c=c+1\n",
        "        continue\n",
        "      else:\n",
        "        Ebyw1=-(y[i]-Oo)*Oo*(1-Oo)\n",
        "        Ebyw1=Ebyw1.reshape(-1,1)\n",
        "        #Oh=np.array([hk+2.5 for hk in Oh])\n",
        "        Oh=Oh.reshape(-1,1)\n",
        "        delEbydelw=np.dot(Oh,np.transpose(Ebyw1))\n",
        "        delEbydelv=np.dot(w,Ebyw1)\n",
        "        #print(Ih)\n",
        "        #print(\"Hi1:\",delEbydelv)\n",
        "        Ii=Ii.reshape(-1,1)\n",
        "        delEbydelv=delEbydelv*Oh*(1-Oh)\n",
        "        #print(Oh)\n",
        "        #print(1-Oh)\n",
        "        #print(\"Hi2:\",delEbydelv)\n",
        "        #with_bias=Oh*(1-Oh)*Ii\n",
        "        delEbydelv=delEbydelv[list(range(1,len(Oh)))]\n",
        "        delEbydelv=np.dot(Ii,np.transpose(delEbydelv))\n",
        "        #print(\"Hi3:\",delEbydelv)\n",
        "        w=w-np.dot(eta,delEbydelw)\n",
        "        v=v-np.dot(eta,delEbydelv)\n",
        "        #print(Ih,Oh,Io,Oo,delEbydelw,delEbydelv)\n",
        "        #print(w,v)\n",
        "\n",
        "    E.append(Error)\n",
        "    xe.append(t)\n",
        "    print(\"Epochs:\",t)\n",
        "    print(\"Weights between i/p & hidden:\",v)\n",
        "    print(\"Weights between hidden & o/p:\",w)\n",
        "    print(\"Error:\",Error)\n",
        "    print(c)\n",
        "    if c==len(y):\n",
        "      print(\"Convergence\")\n",
        "      break\n",
        "    else:\n",
        "      c=0\n",
        "\n",
        "  fig = plt.figure(figsize = (10, 5))\n",
        "  plt.plot(xe,E,color=\"blue\")\n",
        "  plt.xlabel(\"Number of epochs\")\n",
        "  plt.ylabel(\"Error Loss\")\n",
        "  plt.show()\n",
        "\n",
        "  #Test Part\n",
        "  crct=0\n",
        "  y_pred=[]\n",
        "  for i in range(len(yt)):\n",
        "    yc=[]\n",
        "    Ii=xt[i]\n",
        "    Ii=np.insert(Ii, 0, 1, axis=0)\n",
        "    Oi=Ii\n",
        "    Ih=np.matmul(np.transpose(v),Oi)\n",
        "    Oh=1/(1+np.exp(-Ih))\n",
        "    #Oh=np.array([hk+2.5 for hk in Oh])\n",
        "        \n",
        "    Oh=np.insert(Oh, 0, 1, axis=0)\n",
        "    Io=np.matmul(np.transpose(w),Oh)\n",
        "    Oo=1/(1+np.exp(-Io))\n",
        "    yc=[0]*len(Oo)\n",
        "    yc[np.argmax(Oo)]=1\n",
        "    y_pred.append(yc)\n",
        "    if list(yt[i])==yc:\n",
        "      crct+=1\n",
        "  print(\"Test Accuracy:\",crct/len(yt))\n",
        "  y_est=y_pred\n",
        "  y_pred=np.argmax(np.array(y_pred), axis=1)\n",
        "  y_true=np.argmax(np.array(yt), axis=1)\n",
        "  print(y_est)\n",
        "  print(y_pred)\n",
        "  print(y_true)\n",
        "  print(classification_report(y_true, y_pred))\n",
        "  print(precision_recall_fscore_support(y_true, y_pred))\n",
        "  print(\"Accuracy:\",accuracy_score(y_true,y_pred))\n",
        "  print(\"Precision:\",precision_score(y_true,y_pred,average='weighted'))\n",
        "  print(\"Recall:\",recall_score(y_true,y_pred,average='weighted'))\n",
        "  print(\"F1_score:\",f1_score(y_true,y_pred,average='weighted'))\n",
        "  print(\"ROC_AUC_Score_array:\",roc_auc_score(yt,y_est,average=None))\n",
        "  print(\"ROC_AUC_Score_array:\",roc_auc_score(yt,y_est,average='weighted'))\n"
      ],
      "execution_count": null,
      "outputs": []
    },
    {
      "cell_type": "code",
      "metadata": {
        "id": "d09s0LrA3Dmq",
        "colab": {
          "base_uri": "https://localhost:8080/",
          "height": 34
        },
        "outputId": "83ac8d36-00cc-4f1a-e484-6e3390e0f1ba"
      },
      "source": [
        "u=[2,2]\n",
        "u=[uo+2 for uo in u]\n",
        "u"
      ],
      "execution_count": null,
      "outputs": [
        {
          "output_type": "execute_result",
          "data": {
            "text/plain": [
              "[4, 4]"
            ]
          },
          "metadata": {
            "tags": []
          },
          "execution_count": 122
        }
      ]
    },
    {
      "cell_type": "code",
      "metadata": {
        "id": "AYtbmZDMITdE",
        "colab": {
          "base_uri": "https://localhost:8080/",
          "height": 1000
        },
        "outputId": "ea8984b8-1dba-477f-ebec-f50f77f07c44"
      },
      "source": [
        "iris= datasets.load_iris()\n",
        "DATA=iris\n",
        "X = DATA.data\n",
        "Y = DATA.target\n",
        "\n",
        "X = preprocessing.normalize(X)\n",
        "Y=pd.get_dummies(Y)\n",
        "X_train, X_test, Y_train, Y_test = train_test_split(X, Y, test_size=0.3, random_state=42)\n",
        "num_input = X_train.shape[1]\n",
        "num_hidden = 3\n",
        "num_output = Y_test.shape[1]\n",
        "v = np.random.rand(num_input+1,num_hidden)   #(l+1)xm\n",
        "w = np.random.rand(num_hidden+1,num_output)  #(m+1)xn\n",
        "\n",
        "Y_train=np.array(Y_train)\n",
        "Y_test=np.array(Y_test)\n",
        "\n",
        "print(X_train.shape, X_test.shape, Y_train.shape, Y_test.shape)\n",
        "eta=0.1\n",
        "epochs=100\n",
        "#forward_backward_relu(X_train,y_train,v,w,eta,epochs,X_test,y_test)\n",
        "#forward_backward(X_train,Y_train,v,w,eta,epochs,X_test,Y_test)\n",
        "forward_backward_softmax_cross_entropy(X_train,Y_train,v,w,eta,epochs,X_test,Y_test)\n"
      ],
      "execution_count": null,
      "outputs": [
        {
          "output_type": "stream",
          "text": [
            "(105, 4) (45, 4) (105, 3) (45, 3)\n",
            "Initial Weights between i/p & hidden: [[0.28273777 0.80920727 0.61917192]\n",
            " [0.62656997 0.98609832 0.46435833]\n",
            " [0.69255013 0.36257124 0.18110154]\n",
            " [0.42354322 0.29642281 0.17393194]\n",
            " [0.4687635  0.57837129 0.19825032]]\n",
            "Initial Weights between hidden & o/p: [[0.62504887 0.22413867 0.91138663]\n",
            " [0.95955867 0.12521873 0.07317864]\n",
            " [0.73137478 0.12103872 0.4348588 ]\n",
            " [0.56184461 0.33960828 0.06876594]]\n",
            "Total Epochs: 99\n",
            "Final Weights between i/p & hidden: [[-0.31631817 -0.07634455 -0.15949124]\n",
            " [ 1.70112899 -0.06543882 -0.09203237]\n",
            " [ 2.86092    -0.55585037 -0.39244856]\n",
            " [-4.30980966  0.99309969  0.18532722]\n",
            " [-1.91876303  0.99811064  0.14072995]]\n",
            "Final Weights between hidden & o/p: [[-1.0184139   1.1684555   1.61053256]\n",
            " [ 4.69675195 -0.62627174 -2.91252418]\n",
            " [-1.19216224  0.991123    1.48831155]\n",
            " [-0.44916936  0.82267204  0.59671615]]\n",
            "Final Training Error: 100.02424007454688\n"
          ],
          "name": "stdout"
        },
        {
          "output_type": "display_data",
          "data": {
            "image/png": "[encoded data removed]",
            "text/plain": [
              "<Figure size 720x360 with 1 Axes>"
            ]
          },
          "metadata": {
            "tags": [],
            "needs_background": "light"
          }
        },
        {
          "output_type": "stream",
          "text": [
            "Test Accuracy: 0.9777777777777777\n",
            "              precision    recall  f1-score   support\n",
            "\n",
            "           0       1.00      1.00      1.00        19\n",
            "           1       1.00      0.92      0.96        13\n",
            "           2       0.93      1.00      0.96        13\n",
            "\n",
            "    accuracy                           0.98        45\n",
            "   macro avg       0.98      0.97      0.97        45\n",
            "weighted avg       0.98      0.98      0.98        45\n",
            "\n",
            "(array([1.        , 1.        , 0.92857143]), array([1.        , 0.92307692, 1.        ]), array([1.        , 0.96      , 0.96296296]), array([19, 13, 13]))\n",
            "Accuracy: 0.9777777777777777\n",
            "Precision: 0.9793650793650793\n",
            "Recall: 0.9777777777777777\n",
            "F1_score: 0.9777448559670783\n",
            "ROC_AUC_Score_array: [1.         0.96153846 0.984375  ]\n",
            "ROC_AUC_Score_array: 0.984375\n"
          ],
          "name": "stdout"
        }
      ]
    },
    {
      "cell_type": "code",
      "metadata": {
        "id": "PVvntHR64JzU",
        "colab": {
          "base_uri": "https://localhost:8080/",
          "height": 34
        },
        "outputId": "f06f6a32-b383-42b3-c3c2-261cc42851a8"
      },
      "source": [
        "[1,1,0]==[1,0,1]"
      ],
      "execution_count": null,
      "outputs": [
        {
          "output_type": "execute_result",
          "data": {
            "text/plain": [
              "False"
            ]
          },
          "metadata": {
            "tags": []
          },
          "execution_count": 71
        }
      ]
    },
    {
      "cell_type": "markdown",
      "metadata": {
        "id": "CHvmYlOQfAkm"
      },
      "source": [
        "***P3) MLP for XOR Gate***"
      ]
    },
    {
      "cell_type": "code",
      "metadata": {
        "id": "IL4CQFRhcTcf",
        "colab": {
          "base_uri": "https://localhost:8080/",
          "height": 841
        },
        "outputId": "7e6de05c-dae5-4791-caeb-c8731bdafd7f"
      },
      "source": [
        "import numpy as np\n",
        "import matplotlib.pyplot as plt \n",
        "x0=1\n",
        "x1=[0,1,0,1]\n",
        "x2=[1,0,0,1]\n",
        "y=[1,1,0,0]\n",
        "test_data=[2,2]\n",
        "v=[[np.double(-1.0),np.double(35.0)],[np.double(20),np.double(-10)],[np.double(10),np.double(-30)]]\n",
        "w=[-20,25,10]\n",
        "print(\"Initial Weights between i/p & hidden:\",v)\n",
        "print(\"Initial Weights between hidden & o/p:\",w)\n",
        "  \n",
        "#v=[[np.double(-1.1),np.double(2.2)],[np.double(1.0),np.double(1.5)],[np.double(1.5),np.double(0.5)]]\n",
        "#w=[1.0,0.5,0.5]\n",
        "#v=np.random.rand(3,2)\n",
        "#w=np.random.rand(3,1)\n",
        "eta=0.1\n",
        "epochs=100\n",
        "vbest=np.random.uniform(size=(3,2))\n",
        "wbest=np.random.uniform(size=(3))\n",
        "minepoch=0\n",
        "Emin=1000\n",
        "E=[]\n",
        "xe=[]\n",
        "ycap=[0,0,0,0]\n",
        "t=0\n",
        "#Training Part\n",
        "while ycap!=y:\n",
        "  t=t+1\n",
        "  Error=0\n",
        "  for i in range(len(y)):\n",
        "    Ii=[x0,np.float(x1[i]),np.float(x2[i])]\n",
        "    Oi=Ii\n",
        "    Ih=np.matmul(np.transpose(v),Oi)\n",
        "    Oh=1/(1+np.exp(-Ih))\n",
        "    Oh=np.insert(Oh, 0, 1, axis=0)\n",
        "    Io=np.matmul(np.transpose(w),Oh)\n",
        "    Oo=1/(1+np.exp(-Io))\n",
        "    Error+=((y[i]-Oo)**2)/2\n",
        "    if Oo>=0.5:\n",
        "      ycap[i]=1\n",
        "    else:\n",
        "      ycap[i]=0\n",
        "    if ycap[i]==y[i]:\n",
        "      continue\n",
        "    else:\n",
        "      Ebyw1=-(y[i]-Oo)*Oo*(1-Oo)\n",
        "      \n",
        "      Ebyw1=Ebyw1.reshape(-1,1)\n",
        "      Oh=Oh.reshape(-1,1)\n",
        "      w=np.array(w).reshape(-1,1)\n",
        "      delEbydelw=np.dot(Oh,np.transpose(Ebyw1))\n",
        "      delEbydelv=np.dot(w,Ebyw1)\n",
        "      Ii=np.array(Ii).reshape(-1,1)\n",
        "      delEbydelv=delEbydelv*Oh*(1-Oh)\n",
        "      #with_bias=Oh*(1-Oh)*Ii\n",
        "      delEbydelv=delEbydelv[list(range(1,len(Oh)))]\n",
        "      delEbydelv=np.dot(Ii,np.transpose(delEbydelv))\n",
        "      w=w-np.dot(eta,delEbydelw)\n",
        "      v=v-np.dot(eta,delEbydelv)\n",
        "      '''\n",
        "      delEbydelw=-(y[i]-Oo)*Oo*(1-Oo)*Oh\n",
        "      delEbydelv=np.dot(w,(y[i]-Oo)*Oo*(1-Oo))\n",
        "      with_bias=Oh*(1-Oh)*Ii\n",
        "      without_bias=np.array(with_bias[list(range(1,len(Oh)))]).reshape(-1,1)\n",
        "      delEbydelv=np.array(delEbydelv).reshape(-1,1)\n",
        "      delEbydelv=-np.dot(delEbydelv,np.transpose(without_bias))\n",
        "      w=w-np.dot(eta,delEbydelw)\n",
        "      v=v-np.dot(eta,delEbydelv)\n",
        "      '''\n",
        "      #print(Ih,Oh,Io,Oo,delEbydelw,delEbydelv)\n",
        "      #print(w,v)\n",
        "  if Error<Emin:\n",
        "    Emin=Error\n",
        "    vbest=v\n",
        "    wbest=w\n",
        "    minepoch=t\n",
        "  E.append(Error)\n",
        "  xe.append(t)\n",
        "print(\"Final Epochs:\",t)\n",
        "print(\"Final Weights between i/p & hidden:\",v)\n",
        "print(\"Final Weights between hidden & o/p:\",w)\n",
        "print(\"Final Error:\",Error)\n",
        "\n",
        "x = np.linspace(-6, 6, 100) \n",
        "\n",
        "m = -(v[1][0] / v[2][0])\n",
        "c=-(v[0][0]/v[2][0])\n",
        "h1 = m*x+c\n",
        "o1=1/(1+np.exp(-h1))\n",
        "m = -(v[1][1] / v[2][1])\n",
        "c=-(v[0][1]/v[2][1])\n",
        "h2 = m*x+c\n",
        "o2=1/(1+np.exp(-h2))\n",
        "Or=o1*w[1]+o2*w[2]+w[0]\n",
        "yr=1/(1+np.exp(-Or))\n",
        "\n",
        "\n",
        "fig = plt.figure(figsize = (10, 5))\n",
        "for i in range(len(y)):\n",
        "  plt.plot(x1[i],x2[i],'ro' if (y[i]== 1.0) else 'bo') \n",
        "plt.plot(x, h1,color=\"black\")\n",
        "plt.plot(x, h2,color=\"black\")\n",
        "plt.plot(x, Or,color=\"orange\")  \n",
        "plt.plot(x, yr,color=\"brown\")\n",
        "\n",
        "plt.xlim(-5, 5)\n",
        "plt.ylim(-5, 5) \n",
        "plt.show() \n",
        "  \n",
        "print(\"Convergence Predicted:\",ycap)\n",
        "print(\"Convergence Actual:\",y)\n",
        "fig = plt.figure(figsize = (10, 5))\n",
        "plt.plot(xe,E,color=\"blue\")\n",
        "plt.xlabel(\"Number of epochs\")\n",
        "plt.ylabel(\"Error Loss\")\n",
        "plt.show()\n",
        "\n",
        "  \n"
      ],
      "execution_count": null,
      "outputs": [
        {
          "output_type": "stream",
          "text": [
            "Initial Weights between i/p & hidden: [[-1.0, 35.0], [20.0, -10.0], [10.0, -30.0]]\n",
            "Initial Weights between hidden & o/p: [-20, 25, 10]\n",
            "Final Epochs: 880\n",
            "Final Weights between i/p & hidden: [[ -1.          34.86364008]\n",
            " [ 20.         -10.13635992]\n",
            " [ 10.         -30.13635992]]\n",
            "Final Weights between hidden & o/p: [[-22.52826373]\n",
            " [ 22.47173627]\n",
            " [  9.98627918]]\n",
            "Final Error: [0.12350187]\n"
          ],
          "name": "stdout"
        },
        {
          "output_type": "display_data",
          "data": {
            "image/png": "[encoded data removed]",
            "text/plain": [
              "<Figure size 720x360 with 1 Axes>"
            ]
          },
          "metadata": {
            "tags": [],
            "needs_background": "light"
          }
        },
        {
          "output_type": "stream",
          "text": [
            "Convergence Predicted: [1, 1, 0, 0]\n",
            "Convergence Actual: [1, 1, 0, 0]\n"
          ],
          "name": "stdout"
        },
        {
          "output_type": "display_data",
          "data": {
            "image/png": "[encoded data removed]",
            "text/plain": [
              "<Figure size 720x360 with 1 Axes>"
            ]
          },
          "metadata": {
            "tags": [],
            "needs_background": "light"
          }
        }
      ]
    },
    {
      "cell_type": "code",
      "metadata": {
        "id": "G4IdbjRj7jnN",
        "colab": {
          "base_uri": "https://localhost:8080/",
          "height": 187
        },
        "outputId": "79ac948d-1393-4837-9f14-44c0d1ea3571"
      },
      "source": [
        "#Test Part\n",
        "def test_data_xor(v,w,ts):\n",
        "  Ii=[x0,np.float(ts[0]),np.float(ts[1])]\n",
        "  Oi=Ii\n",
        "  Ih=np.matmul(np.transpose(v),Oi)\n",
        "  Oh=1/(1+np.exp(-Ih))\n",
        "  Oh=np.insert(Oh, 0, 1, axis=0)\n",
        "  Io=np.matmul(np.transpose(w),Oh)\n",
        "  Oo=1/(1+np.exp(-Io))\n",
        "  print(Oo)\n",
        "  return Oo[0]\n",
        "yc=[]\n",
        "for i in range(len(x1)):\n",
        "  ycap=test_data_xor(v,w,[x1[i],x2[i]])\n",
        "  yc.append(ycap)\n",
        "\n",
        "print(\"Predicted_value:\",yc)\n",
        "print(\"Optimal_values:\",Emin,vbest,wbest,minepoch)\n"
      ],
      "execution_count": null,
      "outputs": [
        {
          "output_type": "stream",
          "text": [
            "[0.99994669]\n",
            "[0.9999513]\n",
            "[0.00150358]\n",
            "[0.49699242]\n",
            "Predicted_value: [0.9999466919844291, 0.9999512984791125, 0.0015035766661579658, 0.4969924230559699]\n",
            "Optimal_values: [0.12350187] [[ -1.          34.86364008]\n",
            " [ 20.         -10.13635992]\n",
            " [ 10.         -30.13635992]] [[-22.52826373]\n",
            " [ 22.47173627]\n",
            " [  9.98627918]] 880\n"
          ],
          "name": "stdout"
        }
      ]
    },
    {
      "cell_type": "markdown",
      "metadata": {
        "id": "yj_MggICfH2m"
      },
      "source": [
        "***P1) MP Neuron for AND,OR,NOR,NAND Gate***"
      ]
    },
    {
      "cell_type": "code",
      "metadata": {
        "id": "Mk0oQlR8-67x",
        "colab": {
          "base_uri": "https://localhost:8080/",
          "height": 422
        },
        "outputId": "3c2509cb-57a0-4a6c-a996-3d9e37a4f0c7"
      },
      "source": [
        "import numpy as np\n",
        "import matplotlib.pyplot as plt \n",
        "x1=[0,0,1,1]\n",
        "x2=[0,1,0,1]\n",
        "y=[1,1,1,0]\n",
        "w=[1,0.5,0.5]\n",
        "print(\"Initial_Weights:\",w)\n",
        "f=False\n",
        "eta=1    \n",
        "epochs=0\n",
        "x0=1\n",
        "while not f:\n",
        "  prev=w\n",
        "  for i in range(len(y)):\n",
        "    X=[x0,np.float(x1[i]),np.float(x2[i])]\n",
        "    Y=np.matmul(w,X)\n",
        "    if Y>=0.5:\n",
        "      yc=1\n",
        "    else:\n",
        "      yc=0\n",
        "    if yc==y[i]:\n",
        "      continue\n",
        "    else:\n",
        "      if y[i]==0 and yc==1:\n",
        "        w=np.stack(w)-np.stack(eta*np.stack(X))\n",
        "      elif y[i]==1 and yc==0:\n",
        "        w=np.stack(w)+np.stack(eta*np.stack(X)) \n",
        "  v = np.array(prev) == np.array(w)\n",
        "  print(\"Convergence:\",v.all())\n",
        "  if v.all()==True:\n",
        "    f=True\n",
        "    break\n",
        "  else:\n",
        "    epochs+=1\n",
        "  \n",
        "\n",
        "print(\"Total Epochs:\",epochs)\n",
        "print(\"Final Weights:\",w)\n",
        "    \n",
        "x = np.linspace(-6, 6, 100) \n",
        "m = -(w[1] / w[2])\n",
        "c=-(w[0] / w[2])\n",
        "yr = m*x+c\n",
        "\n",
        "fig = plt.figure(figsize = (10, 5))\n",
        "for i in range(len(y)):\n",
        "  plt.plot(x1[i],x2[i],'ro' if (y[i]== 1.0) else 'bo') \n",
        "plt.plot(x, yr,color=\"black\")\n",
        "plt.xlim(-5, 5)\n",
        "plt.ylim(-5, 5) \n",
        "plt.show() \n",
        "\n",
        "\n",
        "\n"
      ],
      "execution_count": null,
      "outputs": [
        {
          "output_type": "stream",
          "text": [
            "Initial_Weights: [1, 0.5, 0.5]\n",
            "Convergence: False\n",
            "Convergence: False\n",
            "Convergence: True\n",
            "Total Epochs: 2\n",
            "Final Weights: [ 1.  -0.5 -0.5]\n"
          ],
          "name": "stdout"
        },
        {
          "output_type": "display_data",
          "data": {
            "image/png": "[encoded data removed]",
            "text/plain": [
              "<Figure size 720x360 with 1 Axes>"
            ]
          },
          "metadata": {
            "tags": [],
            "needs_background": "light"
          }
        }
      ]
    }
  ]
}