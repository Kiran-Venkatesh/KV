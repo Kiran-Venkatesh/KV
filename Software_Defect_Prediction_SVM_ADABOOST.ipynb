{
  "nbformat": 4,
  "nbformat_minor": 0,
  "metadata": {
    "colab": {
      "name": "Software_Defect_Prediction_SVM_ADABOOST.ipynb",
      "provenance": [],
      "collapsed_sections": [],
      "toc_visible": true,
      "authorship_tag": "ABX9TyNLMXiJGWEHR5dGqhs1ldk0",
      "include_colab_link": true
    },
    "kernelspec": {
      "name": "python3",
      "display_name": "Python 3"
    }
  },
  "cells": [
    {
      "cell_type": "markdown",
      "metadata": {
        "id": "view-in-github",
        "colab_type": "text"
      },
      "source": [
        "<a href=\"https://colab.research.google.com/github/Kiran-Venkatesh/KV/blob/master/Software_Defect_Prediction_SVM_ADABOOST.ipynb\" target=\"_parent\"><img src=\"https://colab.research.google.com/assets/colab-badge.svg\" alt=\"Open In Colab\"/></a>"
      ]
    },
    {
      "cell_type": "code",
      "metadata": {
        "id": "5CkBJYm-rvrN",
        "colab": {
          "base_uri": "https://localhost:8080/",
          "height": 224
        },
        "outputId": "81744040-9cf9-44f8-d181-421dee1da556"
      },
      "source": [
        "!pip install pymrmr"
      ],
      "execution_count": null,
      "outputs": [
        {
          "output_type": "stream",
          "text": [
            "Collecting pymrmr\n",
            "\u001b[?25l  Downloading https://files.pythonhosted.org/packages/b3/ab/903712947a2f5cd1af249132885dbd81ae8bf8cfd30fb3b3f2beddab23e8/pymrmr-0.1.8.tar.gz (65kB)\n",
            "\r\u001b[K     |█████                           | 10kB 19.8MB/s eta 0:00:01\r\u001b[K     |██████████                      | 20kB 2.2MB/s eta 0:00:01\r\u001b[K     |███████████████                 | 30kB 2.5MB/s eta 0:00:01\r\u001b[K     |███████████████████▉            | 40kB 2.1MB/s eta 0:00:01\r\u001b[K     |████████████████████████▉       | 51kB 2.3MB/s eta 0:00:01\r\u001b[K     |█████████████████████████████▉  | 61kB 2.8MB/s eta 0:00:01\r\u001b[K     |████████████████████████████████| 71kB 2.5MB/s \n",
            "\u001b[?25hRequirement already satisfied: numpy>=1.12.0 in /usr/local/lib/python3.6/dist-packages (from pymrmr) (1.17.5)\n",
            "Building wheels for collected packages: pymrmr\n",
            "  Building wheel for pymrmr (setup.py) ... \u001b[?25l\u001b[?25hdone\n",
            "  Created wheel for pymrmr: filename=pymrmr-0.1.8-cp36-cp36m-linux_x86_64.whl size=256804 sha256=8c040b88e5b831d3eb5cddf5dc28b2218251f863795304562eee1ad9bee74b2f\n",
            "  Stored in directory: /root/.cache/pip/wheels/5b/ce/3a/bc9b80047f68973d909a35bb8e3062b7c7377510607ec35998\n",
            "Successfully built pymrmr\n",
            "Installing collected packages: pymrmr\n",
            "Successfully installed pymrmr-0.1.8\n"
          ],
          "name": "stdout"
        }
      ]
    },
    {
      "cell_type": "code",
      "metadata": {
        "id": "GYAQM0-tRqUY",
        "colab": {
          "base_uri": "https://localhost:8080/",
          "height": 139
        },
        "outputId": "2a580e1d-dfad-4d77-f90c-022bb9a7b81f"
      },
      "source": [
        "!pip install imblearn"
      ],
      "execution_count": null,
      "outputs": [
        {
          "output_type": "stream",
          "text": [
            "Requirement already satisfied: imblearn in /usr/local/lib/python3.6/dist-packages (0.0)\n",
            "Requirement already satisfied: imbalanced-learn in /usr/local/lib/python3.6/dist-packages (from imblearn) (0.4.3)\n",
            "Requirement already satisfied: scikit-learn>=0.20 in /usr/local/lib/python3.6/dist-packages (from imbalanced-learn->imblearn) (0.22.1)\n",
            "Requirement already satisfied: scipy>=0.13.3 in /usr/local/lib/python3.6/dist-packages (from imbalanced-learn->imblearn) (1.4.1)\n",
            "Requirement already satisfied: numpy>=1.8.2 in /usr/local/lib/python3.6/dist-packages (from imbalanced-learn->imblearn) (1.17.5)\n",
            "Requirement already satisfied: joblib>=0.11 in /usr/local/lib/python3.6/dist-packages (from scikit-learn>=0.20->imbalanced-learn->imblearn) (0.14.1)\n"
          ],
          "name": "stdout"
        }
      ]
    },
    {
      "cell_type": "code",
      "metadata": {
        "id": "9VJvg4PlHIHz"
      },
      "source": [
        "res_boost=[]\n",
        "res_svm=[]\n",
        "res_RF=[]"
      ],
      "execution_count": null,
      "outputs": []
    },
    {
      "cell_type": "code",
      "metadata": {
        "id": "7pxEluKFvk9a",
        "colab": {
          "base_uri": "https://localhost:8080/",
          "height": 34
        },
        "outputId": "4aa835e9-409b-4ac8-a8a8-0d27f0f59be0"
      },
      "source": [
        "import pandas as pd\n",
        "files=['pc2.csv','PC3.xlsx','pc4.csv']\n",
        "selec=2\n",
        "print(files[selec])\n",
        "try:\n",
        "  df=pd.read_excel(files[selec])\n",
        "except:\n",
        "  df=pd.read_csv(files[selec])"
      ],
      "execution_count": null,
      "outputs": [
        {
          "output_type": "stream",
          "text": [
            "pc4.csv\n"
          ],
          "name": "stdout"
        }
      ]
    },
    {
      "cell_type": "markdown",
      "metadata": {
        "id": "ME1a0pjFzArV"
      },
      "source": [
        "**DATA PREPROCESSING**"
      ]
    },
    {
      "cell_type": "code",
      "metadata": {
        "id": "7D44dpMEyLE3"
      },
      "source": [
        "\n",
        "df.loc[df['HALSTEAD_LENGTH']!=df['NUM_OPERANDS']+df['NUM_OPERATORS']]\n",
        "df.loc[df['CYCLOMATIC_COMPLEXITY']>1+df['NUM_OPERATORS']]\n",
        "df.loc[df['CALL_PAIRS']>df['NUM_OPERATORS']]\n",
        "df['CYCLOMATIC_COMPLEXITY'].sum()/len(df)\n",
        "max(df['CYCLOMATIC_COMPLEXITY'])\n",
        "df=df.loc[df['LOC_COMMENTS']<=df['LOC_TOTAL']]\n",
        "df.columns\n",
        "df.isna().sum()\n",
        "X=df.drop('c',axis=1)"
      ],
      "execution_count": null,
      "outputs": []
    },
    {
      "cell_type": "code",
      "metadata": {
        "id": "zgHNgK_zALaP",
        "colab": {
          "base_uri": "https://localhost:8080/",
          "height": 224
        },
        "outputId": "f4d904f4-007e-41d1-c3a3-e24f0a7dc9cc"
      },
      "source": [
        "df.head()"
      ],
      "execution_count": null,
      "outputs": [
        {
          "output_type": "execute_result",
          "data": {
            "text/html": [
              "<div>\n",
              "<style scoped>\n",
              "    .dataframe tbody tr th:only-of-type {\n",
              "        vertical-align: middle;\n",
              "    }\n",
              "\n",
              "    .dataframe tbody tr th {\n",
              "        vertical-align: top;\n",
              "    }\n",
              "\n",
              "    .dataframe thead th {\n",
              "        text-align: right;\n",
              "    }\n",
              "</style>\n",
              "<table border=\"1\" class=\"dataframe\">\n",
              "  <thead>\n",
              "    <tr style=\"text-align: right;\">\n",
              "      <th></th>\n",
              "      <th>LOC_BLANK</th>\n",
              "      <th>BRANCH_COUNT</th>\n",
              "      <th>CALL_PAIRS</th>\n",
              "      <th>LOC_CODE_AND_COMMENT</th>\n",
              "      <th>LOC_COMMENTS</th>\n",
              "      <th>CONDITION_COUNT</th>\n",
              "      <th>CYCLOMATIC_COMPLEXITY</th>\n",
              "      <th>CYCLOMATIC_DENSITY</th>\n",
              "      <th>DECISION_COUNT</th>\n",
              "      <th>DECISION_DENSITY</th>\n",
              "      <th>DESIGN_COMPLEXITY</th>\n",
              "      <th>DESIGN_DENSITY</th>\n",
              "      <th>EDGE_COUNT</th>\n",
              "      <th>ESSENTIAL_COMPLEXITY</th>\n",
              "      <th>ESSENTIAL_DENSITY</th>\n",
              "      <th>LOC_EXECUTABLE</th>\n",
              "      <th>PARAMETER_COUNT</th>\n",
              "      <th>HALSTEAD_CONTENT</th>\n",
              "      <th>HALSTEAD_DIFFICULTY</th>\n",
              "      <th>HALSTEAD_EFFORT</th>\n",
              "      <th>HALSTEAD_ERROR_EST</th>\n",
              "      <th>HALSTEAD_LENGTH</th>\n",
              "      <th>HALSTEAD_LEVEL</th>\n",
              "      <th>HALSTEAD_PROG_TIME</th>\n",
              "      <th>HALSTEAD_VOLUME</th>\n",
              "      <th>MAINTENANCE_SEVERITY</th>\n",
              "      <th>MODIFIED_CONDITION_COUNT</th>\n",
              "      <th>MULTIPLE_CONDITION_COUNT</th>\n",
              "      <th>NODE_COUNT</th>\n",
              "      <th>NORMALIZED_CYLOMATIC_COMPLEXITY</th>\n",
              "      <th>NUM_OPERANDS</th>\n",
              "      <th>NUM_OPERATORS</th>\n",
              "      <th>NUM_UNIQUE_OPERANDS</th>\n",
              "      <th>NUM_UNIQUE_OPERATORS</th>\n",
              "      <th>NUMBER_OF_LINES</th>\n",
              "      <th>PERCENT_COMMENTS</th>\n",
              "      <th>LOC_TOTAL</th>\n",
              "      <th>c</th>\n",
              "    </tr>\n",
              "  </thead>\n",
              "  <tbody>\n",
              "    <tr>\n",
              "      <th>0</th>\n",
              "      <td>17</td>\n",
              "      <td>11</td>\n",
              "      <td>5</td>\n",
              "      <td>2</td>\n",
              "      <td>8</td>\n",
              "      <td>20</td>\n",
              "      <td>6</td>\n",
              "      <td>0.25</td>\n",
              "      <td>10</td>\n",
              "      <td>2</td>\n",
              "      <td>4</td>\n",
              "      <td>0.67</td>\n",
              "      <td>29</td>\n",
              "      <td>1</td>\n",
              "      <td>0</td>\n",
              "      <td>22</td>\n",
              "      <td>7</td>\n",
              "      <td>37.84</td>\n",
              "      <td>13.83</td>\n",
              "      <td>7233.63</td>\n",
              "      <td>0.17</td>\n",
              "      <td>102</td>\n",
              "      <td>0.07</td>\n",
              "      <td>401.87</td>\n",
              "      <td>523.19</td>\n",
              "      <td>0.17</td>\n",
              "      <td>5</td>\n",
              "      <td>10</td>\n",
              "      <td>25</td>\n",
              "      <td>0.11</td>\n",
              "      <td>53</td>\n",
              "      <td>49</td>\n",
              "      <td>23</td>\n",
              "      <td>12</td>\n",
              "      <td>57</td>\n",
              "      <td>31.25</td>\n",
              "      <td>24</td>\n",
              "      <td>False</td>\n",
              "    </tr>\n",
              "    <tr>\n",
              "      <th>1</th>\n",
              "      <td>2</td>\n",
              "      <td>9</td>\n",
              "      <td>3</td>\n",
              "      <td>0</td>\n",
              "      <td>1</td>\n",
              "      <td>16</td>\n",
              "      <td>5</td>\n",
              "      <td>0.56</td>\n",
              "      <td>6</td>\n",
              "      <td>2</td>\n",
              "      <td>3</td>\n",
              "      <td>0.60</td>\n",
              "      <td>17</td>\n",
              "      <td>4</td>\n",
              "      <td>0</td>\n",
              "      <td>9</td>\n",
              "      <td>1</td>\n",
              "      <td>12.50</td>\n",
              "      <td>13.00</td>\n",
              "      <td>2112.70</td>\n",
              "      <td>0.05</td>\n",
              "      <td>37</td>\n",
              "      <td>0.08</td>\n",
              "      <td>117.37</td>\n",
              "      <td>162.52</td>\n",
              "      <td>0.80</td>\n",
              "      <td>5</td>\n",
              "      <td>8</td>\n",
              "      <td>14</td>\n",
              "      <td>0.36</td>\n",
              "      <td>13</td>\n",
              "      <td>24</td>\n",
              "      <td>7</td>\n",
              "      <td>14</td>\n",
              "      <td>14</td>\n",
              "      <td>10.00</td>\n",
              "      <td>9</td>\n",
              "      <td>False</td>\n",
              "    </tr>\n",
              "    <tr>\n",
              "      <th>2</th>\n",
              "      <td>2</td>\n",
              "      <td>5</td>\n",
              "      <td>1</td>\n",
              "      <td>1</td>\n",
              "      <td>1</td>\n",
              "      <td>6</td>\n",
              "      <td>3</td>\n",
              "      <td>0.17</td>\n",
              "      <td>2</td>\n",
              "      <td>3</td>\n",
              "      <td>2</td>\n",
              "      <td>0.67</td>\n",
              "      <td>8</td>\n",
              "      <td>3</td>\n",
              "      <td>1</td>\n",
              "      <td>17</td>\n",
              "      <td>1</td>\n",
              "      <td>15.99</td>\n",
              "      <td>12.44</td>\n",
              "      <td>2476.90</td>\n",
              "      <td>0.07</td>\n",
              "      <td>44</td>\n",
              "      <td>0.08</td>\n",
              "      <td>137.61</td>\n",
              "      <td>199.04</td>\n",
              "      <td>1.00</td>\n",
              "      <td>2</td>\n",
              "      <td>3</td>\n",
              "      <td>7</td>\n",
              "      <td>0.13</td>\n",
              "      <td>16</td>\n",
              "      <td>28</td>\n",
              "      <td>9</td>\n",
              "      <td>14</td>\n",
              "      <td>23</td>\n",
              "      <td>10.53</td>\n",
              "      <td>18</td>\n",
              "      <td>False</td>\n",
              "    </tr>\n",
              "    <tr>\n",
              "      <th>3</th>\n",
              "      <td>4</td>\n",
              "      <td>5</td>\n",
              "      <td>1</td>\n",
              "      <td>0</td>\n",
              "      <td>0</td>\n",
              "      <td>8</td>\n",
              "      <td>3</td>\n",
              "      <td>0.30</td>\n",
              "      <td>4</td>\n",
              "      <td>2</td>\n",
              "      <td>2</td>\n",
              "      <td>0.67</td>\n",
              "      <td>11</td>\n",
              "      <td>1</td>\n",
              "      <td>0</td>\n",
              "      <td>10</td>\n",
              "      <td>0</td>\n",
              "      <td>21.06</td>\n",
              "      <td>5.85</td>\n",
              "      <td>720.66</td>\n",
              "      <td>0.04</td>\n",
              "      <td>29</td>\n",
              "      <td>0.17</td>\n",
              "      <td>40.04</td>\n",
              "      <td>123.19</td>\n",
              "      <td>0.33</td>\n",
              "      <td>2</td>\n",
              "      <td>4</td>\n",
              "      <td>10</td>\n",
              "      <td>0.19</td>\n",
              "      <td>13</td>\n",
              "      <td>16</td>\n",
              "      <td>10</td>\n",
              "      <td>9</td>\n",
              "      <td>16</td>\n",
              "      <td>0.00</td>\n",
              "      <td>10</td>\n",
              "      <td>False</td>\n",
              "    </tr>\n",
              "    <tr>\n",
              "      <th>4</th>\n",
              "      <td>7</td>\n",
              "      <td>5</td>\n",
              "      <td>1</td>\n",
              "      <td>3</td>\n",
              "      <td>0</td>\n",
              "      <td>0</td>\n",
              "      <td>3</td>\n",
              "      <td>0.15</td>\n",
              "      <td>0</td>\n",
              "      <td>0</td>\n",
              "      <td>1</td>\n",
              "      <td>0.33</td>\n",
              "      <td>11</td>\n",
              "      <td>1</td>\n",
              "      <td>0</td>\n",
              "      <td>17</td>\n",
              "      <td>2</td>\n",
              "      <td>21.09</td>\n",
              "      <td>13.00</td>\n",
              "      <td>3563.68</td>\n",
              "      <td>0.09</td>\n",
              "      <td>72</td>\n",
              "      <td>0.08</td>\n",
              "      <td>197.98</td>\n",
              "      <td>274.13</td>\n",
              "      <td>0.33</td>\n",
              "      <td>0</td>\n",
              "      <td>0</td>\n",
              "      <td>10</td>\n",
              "      <td>0.11</td>\n",
              "      <td>26</td>\n",
              "      <td>46</td>\n",
              "      <td>7</td>\n",
              "      <td>7</td>\n",
              "      <td>28</td>\n",
              "      <td>15.00</td>\n",
              "      <td>20</td>\n",
              "      <td>False</td>\n",
              "    </tr>\n",
              "  </tbody>\n",
              "</table>\n",
              "</div>"
            ],
            "text/plain": [
              "   LOC_BLANK  BRANCH_COUNT  CALL_PAIRS  ...  PERCENT_COMMENTS  LOC_TOTAL      c\n",
              "0         17            11           5  ...             31.25         24  False\n",
              "1          2             9           3  ...             10.00          9  False\n",
              "2          2             5           1  ...             10.53         18  False\n",
              "3          4             5           1  ...              0.00         10  False\n",
              "4          7             5           1  ...             15.00         20  False\n",
              "\n",
              "[5 rows x 38 columns]"
            ]
          },
          "metadata": {
            "tags": []
          },
          "execution_count": 610
        }
      ]
    },
    {
      "cell_type": "markdown",
      "metadata": {
        "id": "uSw-u4xPCnJZ"
      },
      "source": [
        "**DATA DISCRETIZATION**"
      ]
    },
    {
      "cell_type": "code",
      "metadata": {
        "id": "l06tAbOO_lDS"
      },
      "source": [
        "from sklearn.preprocessing import KBinsDiscretizer  \n",
        "est = KBinsDiscretizer(n_bins=3, encode='ordinal', strategy='uniform')\n",
        "Xt = est.fit_transform(X) "
      ],
      "execution_count": null,
      "outputs": []
    },
    {
      "cell_type": "markdown",
      "metadata": {
        "id": "uzv9BUyNFWqp"
      },
      "source": [
        "**FEATURE SELECTION**"
      ]
    },
    {
      "cell_type": "code",
      "metadata": {
        "id": "RIq6_CurAVNd",
        "colab": {
          "base_uri": "https://localhost:8080/",
          "height": 153
        },
        "outputId": "76853f3a-41f2-4f68-dbb4-7d2e88281ddb"
      },
      "source": [
        "af=pd.DataFrame(Xt)\n",
        "af['c']=df['c']\n",
        "print(af.head())\n",
        "af=af.fillna(0)"
      ],
      "execution_count": null,
      "outputs": [
        {
          "output_type": "stream",
          "text": [
            "     0    1    2    3    4    5    6  ...   31   32   33   34   35   36      c\n",
            "0  0.0  0.0  0.0  0.0  0.0  0.0  0.0  ...  0.0  0.0  0.0  0.0  1.0  0.0  False\n",
            "1  0.0  0.0  0.0  0.0  0.0  0.0  0.0  ...  0.0  0.0  1.0  0.0  0.0  0.0  False\n",
            "2  0.0  0.0  0.0  0.0  0.0  0.0  0.0  ...  0.0  0.0  1.0  0.0  0.0  0.0  False\n",
            "3  0.0  0.0  0.0  0.0  0.0  0.0  0.0  ...  0.0  0.0  0.0  0.0  0.0  0.0  False\n",
            "4  0.0  0.0  0.0  0.0  0.0  0.0  0.0  ...  0.0  0.0  0.0  0.0  0.0  0.0  False\n",
            "\n",
            "[5 rows x 38 columns]\n"
          ],
          "name": "stdout"
        }
      ]
    },
    {
      "cell_type": "code",
      "metadata": {
        "id": "9lpr6IW6cnC0"
      },
      "source": [
        "af.columns=df.columns"
      ],
      "execution_count": null,
      "outputs": []
    },
    {
      "cell_type": "code",
      "metadata": {
        "id": "mU-sfBGeaSnE",
        "colab": {
          "base_uri": "https://localhost:8080/",
          "height": 224
        },
        "outputId": "f9288466-cf6a-40a0-9f2d-a1f18545f9f1"
      },
      "source": [
        "import pymrmr\n",
        "cols=pymrmr.mRMR(af, 'MIQ',10)\n",
        "data=af[cols]\n",
        "data.head()"
      ],
      "execution_count": null,
      "outputs": [
        {
          "output_type": "execute_result",
          "data": {
            "text/html": [
              "<div>\n",
              "<style scoped>\n",
              "    .dataframe tbody tr th:only-of-type {\n",
              "        vertical-align: middle;\n",
              "    }\n",
              "\n",
              "    .dataframe tbody tr th {\n",
              "        vertical-align: top;\n",
              "    }\n",
              "\n",
              "    .dataframe thead th {\n",
              "        text-align: right;\n",
              "    }\n",
              "</style>\n",
              "<table border=\"1\" class=\"dataframe\">\n",
              "  <thead>\n",
              "    <tr style=\"text-align: right;\">\n",
              "      <th></th>\n",
              "      <th>LOC_COMMENTS</th>\n",
              "      <th>HALSTEAD_CONTENT</th>\n",
              "      <th>HALSTEAD_DIFFICULTY</th>\n",
              "      <th>LOC_CODE_AND_COMMENT</th>\n",
              "      <th>CYCLOMATIC_DENSITY</th>\n",
              "      <th>MODIFIED_CONDITION_COUNT</th>\n",
              "      <th>LOC_EXECUTABLE</th>\n",
              "      <th>DESIGN_DENSITY</th>\n",
              "      <th>DECISION_COUNT</th>\n",
              "      <th>PERCENT_COMMENTS</th>\n",
              "    </tr>\n",
              "  </thead>\n",
              "  <tbody>\n",
              "    <tr>\n",
              "      <th>0</th>\n",
              "      <td>0.0</td>\n",
              "      <td>0.0</td>\n",
              "      <td>0.0</td>\n",
              "      <td>0.0</td>\n",
              "      <td>0.0</td>\n",
              "      <td>0.0</td>\n",
              "      <td>0.0</td>\n",
              "      <td>1.0</td>\n",
              "      <td>0.0</td>\n",
              "      <td>1.0</td>\n",
              "    </tr>\n",
              "    <tr>\n",
              "      <th>1</th>\n",
              "      <td>0.0</td>\n",
              "      <td>0.0</td>\n",
              "      <td>0.0</td>\n",
              "      <td>0.0</td>\n",
              "      <td>1.0</td>\n",
              "      <td>0.0</td>\n",
              "      <td>0.0</td>\n",
              "      <td>1.0</td>\n",
              "      <td>0.0</td>\n",
              "      <td>0.0</td>\n",
              "    </tr>\n",
              "    <tr>\n",
              "      <th>2</th>\n",
              "      <td>0.0</td>\n",
              "      <td>0.0</td>\n",
              "      <td>0.0</td>\n",
              "      <td>0.0</td>\n",
              "      <td>0.0</td>\n",
              "      <td>0.0</td>\n",
              "      <td>0.0</td>\n",
              "      <td>1.0</td>\n",
              "      <td>0.0</td>\n",
              "      <td>0.0</td>\n",
              "    </tr>\n",
              "    <tr>\n",
              "      <th>3</th>\n",
              "      <td>0.0</td>\n",
              "      <td>0.0</td>\n",
              "      <td>0.0</td>\n",
              "      <td>0.0</td>\n",
              "      <td>0.0</td>\n",
              "      <td>0.0</td>\n",
              "      <td>0.0</td>\n",
              "      <td>1.0</td>\n",
              "      <td>0.0</td>\n",
              "      <td>0.0</td>\n",
              "    </tr>\n",
              "    <tr>\n",
              "      <th>4</th>\n",
              "      <td>0.0</td>\n",
              "      <td>0.0</td>\n",
              "      <td>0.0</td>\n",
              "      <td>0.0</td>\n",
              "      <td>0.0</td>\n",
              "      <td>0.0</td>\n",
              "      <td>0.0</td>\n",
              "      <td>0.0</td>\n",
              "      <td>0.0</td>\n",
              "      <td>0.0</td>\n",
              "    </tr>\n",
              "  </tbody>\n",
              "</table>\n",
              "</div>"
            ],
            "text/plain": [
              "   LOC_COMMENTS  HALSTEAD_CONTENT  ...  DECISION_COUNT  PERCENT_COMMENTS\n",
              "0           0.0               0.0  ...             0.0               1.0\n",
              "1           0.0               0.0  ...             0.0               0.0\n",
              "2           0.0               0.0  ...             0.0               0.0\n",
              "3           0.0               0.0  ...             0.0               0.0\n",
              "4           0.0               0.0  ...             0.0               0.0\n",
              "\n",
              "[5 rows x 10 columns]"
            ]
          },
          "metadata": {
            "tags": []
          },
          "execution_count": 614
        }
      ]
    },
    {
      "cell_type": "code",
      "metadata": {
        "id": "Y_VrPITX9IHI"
      },
      "source": [
        ""
      ],
      "execution_count": null,
      "outputs": []
    },
    {
      "cell_type": "code",
      "metadata": {
        "id": "yyzp-UCzfp5z",
        "colab": {
          "base_uri": "https://localhost:8080/",
          "height": 187
        },
        "outputId": "61b02d58-f2e1-4c05-8e6b-e90862889e74"
      },
      "source": [
        "pymrmr.mRMR(af, 'MID',10)"
      ],
      "execution_count": null,
      "outputs": [
        {
          "output_type": "execute_result",
          "data": {
            "text/plain": [
              "['LOC_COMMENTS',\n",
              " 'HALSTEAD_DIFFICULTY',\n",
              " 'LOC_CODE_AND_COMMENT',\n",
              " 'DECISION_COUNT',\n",
              " 'CYCLOMATIC_DENSITY',\n",
              " 'LOC_EXECUTABLE',\n",
              " 'HALSTEAD_CONTENT',\n",
              " 'MODIFIED_CONDITION_COUNT',\n",
              " 'PERCENT_COMMENTS',\n",
              " 'DESIGN_DENSITY']"
            ]
          },
          "metadata": {
            "tags": []
          },
          "execution_count": 615
        }
      ]
    },
    {
      "cell_type": "markdown",
      "metadata": {
        "id": "0Y5LDL3aFbt5"
      },
      "source": [
        "**MODEL BUILDING**"
      ]
    },
    {
      "cell_type": "code",
      "metadata": {
        "id": "RcoZY1_XhH5T",
        "colab": {
          "base_uri": "https://localhost:8080/",
          "height": 51
        },
        "outputId": "51ead8b8-5969-43cd-a03d-c2fc44d3f5e8"
      },
      "source": [
        "\n",
        "from sklearn.model_selection import train_test_split\n",
        "X_train, X_test, y_train, y_test = train_test_split(data,af['c'], test_size=0.3)\n",
        "print(X_train.shape, y_train.shape)\n",
        "print(X_test.shape, y_test.shape)\n",
        "#from imblearn.over_sampling import SMOTE \n",
        "#sm = SMOTE(random_state = 2) \n",
        "#X_train_res, y_train_res = sm.fit_sample(X_train, y_train.ravel())\n",
        "#print(X_train_res.shape, y_train_res.shape)\n",
        "#print(X_test.shape, y_test.shape)\n"
      ],
      "execution_count": null,
      "outputs": [
        {
          "output_type": "stream",
          "text": [
            "(975, 10) (975,)\n",
            "(419, 10) (419,)\n"
          ],
          "name": "stdout"
        }
      ]
    },
    {
      "cell_type": "code",
      "metadata": {
        "id": "fDNL2ytLSokU"
      },
      "source": [
        "#pd.DataFrame(y_train_res)"
      ],
      "execution_count": null,
      "outputs": []
    },
    {
      "cell_type": "code",
      "metadata": {
        "id": "27VPNgJDh63y"
      },
      "source": [
        "y_train=y_train.astype('int')"
      ],
      "execution_count": null,
      "outputs": []
    },
    {
      "cell_type": "code",
      "metadata": {
        "id": "RP3w9P3L604p"
      },
      "source": [
        ""
      ],
      "execution_count": null,
      "outputs": []
    },
    {
      "cell_type": "code",
      "metadata": {
        "id": "y4odHC3Y7Vdj",
        "colab": {
          "base_uri": "https://localhost:8080/",
          "height": 241
        },
        "outputId": "c21edd58-d3b9-4912-ec90-d2b928fab5db"
      },
      "source": [
        "from sklearn.svm import SVC\n",
        "from sklearn.ensemble import AdaBoostClassifier\n",
        "from sklearn.linear_model import Perceptron\n",
        "from sklearn.ensemble import RandomForestRegressor\n",
        "regressor = RandomForestRegressor(n_estimators=20, random_state=0)\n",
        "regressor.fit(X_train, y_train)\n",
        "y_pred_3 = regressor.predict(X_test)\n",
        "reslt=classification_report(y_test.astype('int'),y_pred_3.astype('int'),target_names=['Non-Defect','Defect'],output_dict=True)\n",
        "print(reslt)\n",
        "\n",
        "clf2=SVC(kernel='rbf', random_state=0, gamma=0.001)\n",
        "#clf2=SVC(kernel='linear', random_state=0)\n",
        "\n",
        "clf2.fit(X_train,y_train)\n",
        "clf = AdaBoostClassifier(SVC(kernel='rbf', random_state=0, gamma=1000),n_estimators=10,       learning_rate=0.4, algorithm='SAMME')\n",
        "clf.fit(X_train,y_train)\n",
        "\n"
      ],
      "execution_count": null,
      "outputs": [
        {
          "output_type": "stream",
          "text": [
            "{'Non-Defect': {'precision': 0.8615751789976134, 'recall': 1.0, 'f1-score': 0.9256410256410257, 'support': 361}, 'Defect': {'precision': 0.0, 'recall': 0.0, 'f1-score': 0.0, 'support': 58}, 'accuracy': 0.8615751789976134, 'macro avg': {'precision': 0.4307875894988067, 'recall': 0.5, 'f1-score': 0.46282051282051284, 'support': 419}, 'weighted avg': {'precision': 0.7423117890647695, 'recall': 0.8615751789976134, 'f1-score': 0.7975093323542011, 'support': 419}}\n"
          ],
          "name": "stdout"
        },
        {
          "output_type": "stream",
          "text": [
            "/usr/local/lib/python3.6/dist-packages/sklearn/metrics/_classification.py:1272: UndefinedMetricWarning: Precision and F-score are ill-defined and being set to 0.0 in labels with no predicted samples. Use `zero_division` parameter to control this behavior.\n",
            "  _warn_prf(average, modifier, msg_start, len(result))\n"
          ],
          "name": "stderr"
        },
        {
          "output_type": "execute_result",
          "data": {
            "text/plain": [
              "AdaBoostClassifier(algorithm='SAMME',\n",
              "                   base_estimator=SVC(C=1.0, break_ties=False, cache_size=200,\n",
              "                                      class_weight=None, coef0=0.0,\n",
              "                                      decision_function_shape='ovr', degree=3,\n",
              "                                      gamma=1000, kernel='rbf', max_iter=-1,\n",
              "                                      probability=False, random_state=0,\n",
              "                                      shrinking=True, tol=0.001,\n",
              "                                      verbose=False),\n",
              "                   learning_rate=0.4, n_estimators=10, random_state=None)"
            ]
          },
          "metadata": {
            "tags": []
          },
          "execution_count": 619
        }
      ]
    },
    {
      "cell_type": "code",
      "metadata": {
        "id": "gc-vIJgv7z55",
        "colab": {
          "base_uri": "https://localhost:8080/",
          "height": 221
        },
        "outputId": "94e1de77-ef09-441c-94b7-04b89f3aec6e"
      },
      "source": [
        "y_test"
      ],
      "execution_count": null,
      "outputs": [
        {
          "output_type": "execute_result",
          "data": {
            "text/plain": [
              "925     False\n",
              "710     False\n",
              "296     False\n",
              "1003    False\n",
              "913     False\n",
              "        ...  \n",
              "1214    False\n",
              "850     False\n",
              "44      False\n",
              "250     False\n",
              "98      False\n",
              "Name: c, Length: 419, dtype: object"
            ]
          },
          "metadata": {
            "tags": []
          },
          "execution_count": 620
        }
      ]
    },
    {
      "cell_type": "code",
      "metadata": {
        "id": "5bg-BCIQ_ZJh"
      },
      "source": [
        "y_test=y_test.astype('int')"
      ],
      "execution_count": null,
      "outputs": []
    },
    {
      "cell_type": "markdown",
      "metadata": {
        "id": "EVpLMzTVFg8l"
      },
      "source": [
        "**EVALUATION METRICS**"
      ]
    },
    {
      "cell_type": "code",
      "metadata": {
        "id": "x_IlPg_6-_CA",
        "colab": {
          "base_uri": "https://localhost:8080/",
          "height": 88
        },
        "outputId": "630e63c9-e204-443f-bc82-374ba76c2306"
      },
      "source": [
        "y_pred=clf.predict(X_test)\n",
        "y_pred_2=clf2.predict(X_test)\n",
        "from sklearn.metrics import classification_report\n",
        "classification_report(y_test, y_pred)\n",
        "classification_report(y_test, y_pred_2)"
      ],
      "execution_count": null,
      "outputs": [
        {
          "output_type": "stream",
          "text": [
            "/usr/local/lib/python3.6/dist-packages/sklearn/metrics/_classification.py:1272: UndefinedMetricWarning: Precision and F-score are ill-defined and being set to 0.0 in labels with no predicted samples. Use `zero_division` parameter to control this behavior.\n",
            "  _warn_prf(average, modifier, msg_start, len(result))\n"
          ],
          "name": "stderr"
        },
        {
          "output_type": "execute_result",
          "data": {
            "text/plain": [
              "'              precision    recall  f1-score   support\\n\\n           0       0.86      1.00      0.93       361\\n           1       0.00      0.00      0.00        58\\n\\n    accuracy                           0.86       419\\n   macro avg       0.43      0.50      0.46       419\\nweighted avg       0.74      0.86      0.80       419\\n'"
            ]
          },
          "metadata": {
            "tags": []
          },
          "execution_count": 622
        }
      ]
    },
    {
      "cell_type": "code",
      "metadata": {
        "id": "qX4lRLr-AeLz",
        "colab": {
          "base_uri": "https://localhost:8080/",
          "height": 445
        },
        "outputId": "f94aa983-f3b2-4d6b-e564-8b929877c3e9"
      },
      "source": [
        "from sklearn.metrics import precision_score,recall_score, confusion_matrix, classification_report,accuracy_score, f1_score\n",
        "print('Accuracy:', accuracy_score(y_test, y_pred))\n",
        "print('F1 score:', f1_score(y_test, y_pred))\n",
        "print('Recall:', recall_score(y_test, y_pred))\n",
        "print('Precision:', precision_score(y_test, y_pred))\n",
        "print('\\n clasification report:\\n', classification_report(y_test,y_pred,target_names=['Non-Defect','Defect']))\n",
        "print('\\n confussion matrix:\\n',confusion_matrix(y_test, y_pred))\n",
        "reslt=classification_report(y_test,y_pred,target_names=['Non-Defect','Defect'],output_dict=True)\n",
        "print(reslt)\n",
        "res_boost.append([files[selec],reslt['accuracy'],reslt['Non-Defect']['precision'],reslt['Non-Defect']['recall'],reslt['Non-Defect']['f1-score']])"
      ],
      "execution_count": null,
      "outputs": [
        {
          "output_type": "stream",
          "text": [
            "Accuracy: 0.8615751789976134\n",
            "F1 score: 0.0\n",
            "Recall: 0.0\n",
            "Precision: 0.0\n",
            "\n",
            " clasification report:\n",
            "               precision    recall  f1-score   support\n",
            "\n",
            "  Non-Defect       0.86      1.00      0.93       361\n",
            "      Defect       0.00      0.00      0.00        58\n",
            "\n",
            "    accuracy                           0.86       419\n",
            "   macro avg       0.43      0.50      0.46       419\n",
            "weighted avg       0.74      0.86      0.80       419\n",
            "\n",
            "\n",
            " confussion matrix:\n",
            " [[361   0]\n",
            " [ 58   0]]\n",
            "{'Non-Defect': {'precision': 0.8615751789976134, 'recall': 1.0, 'f1-score': 0.9256410256410257, 'support': 361}, 'Defect': {'precision': 0.0, 'recall': 0.0, 'f1-score': 0.0, 'support': 58}, 'accuracy': 0.8615751789976134, 'macro avg': {'precision': 0.4307875894988067, 'recall': 0.5, 'f1-score': 0.46282051282051284, 'support': 419}, 'weighted avg': {'precision': 0.7423117890647695, 'recall': 0.8615751789976134, 'f1-score': 0.7975093323542011, 'support': 419}}\n"
          ],
          "name": "stdout"
        },
        {
          "output_type": "stream",
          "text": [
            "/usr/local/lib/python3.6/dist-packages/sklearn/metrics/_classification.py:1272: UndefinedMetricWarning: Precision is ill-defined and being set to 0.0 due to no predicted samples. Use `zero_division` parameter to control this behavior.\n",
            "  _warn_prf(average, modifier, msg_start, len(result))\n",
            "/usr/local/lib/python3.6/dist-packages/sklearn/metrics/_classification.py:1272: UndefinedMetricWarning: Precision and F-score are ill-defined and being set to 0.0 in labels with no predicted samples. Use `zero_division` parameter to control this behavior.\n",
            "  _warn_prf(average, modifier, msg_start, len(result))\n"
          ],
          "name": "stderr"
        }
      ]
    },
    {
      "cell_type": "code",
      "metadata": {
        "id": "41kpwiO_Dtni",
        "colab": {
          "base_uri": "https://localhost:8080/",
          "height": 445
        },
        "outputId": "129984f6-e130-481c-d6eb-299dba75b882"
      },
      "source": [
        "print('Accuracy:', accuracy_score(y_test, y_pred_2))\n",
        "print('F1 score:', f1_score(y_test, y_pred_2))\n",
        "print('Recall:', recall_score(y_test, y_pred_2))\n",
        "print('Precision:', precision_score(y_test, y_pred_2))\n",
        "print('\\n clasification report:\\n', classification_report(y_test,y_pred_2,target_names=['Non-Defect','Defect']))\n",
        "print('\\n confussion matrix:\\n',confusion_matrix(y_test, y_pred_2))\n",
        "result=classification_report(y_test,y_pred_2,target_names=['Non-Defect','Defect'],output_dict=True)\n",
        "print(result)\n",
        "res_svm.append([files[selec],result['accuracy'],result['Non-Defect']['precision'],result['Non-Defect']['recall'],result['Non-Defect']['f1-score']])"
      ],
      "execution_count": null,
      "outputs": [
        {
          "output_type": "stream",
          "text": [
            "Accuracy: 0.8615751789976134\n",
            "F1 score: 0.0\n",
            "Recall: 0.0\n",
            "Precision: 0.0\n",
            "\n",
            " clasification report:\n",
            "               precision    recall  f1-score   support\n",
            "\n",
            "  Non-Defect       0.86      1.00      0.93       361\n",
            "      Defect       0.00      0.00      0.00        58\n",
            "\n",
            "    accuracy                           0.86       419\n",
            "   macro avg       0.43      0.50      0.46       419\n",
            "weighted avg       0.74      0.86      0.80       419\n",
            "\n",
            "\n",
            " confussion matrix:\n",
            " [[361   0]\n",
            " [ 58   0]]\n",
            "{'Non-Defect': {'precision': 0.8615751789976134, 'recall': 1.0, 'f1-score': 0.9256410256410257, 'support': 361}, 'Defect': {'precision': 0.0, 'recall': 0.0, 'f1-score': 0.0, 'support': 58}, 'accuracy': 0.8615751789976134, 'macro avg': {'precision': 0.4307875894988067, 'recall': 0.5, 'f1-score': 0.46282051282051284, 'support': 419}, 'weighted avg': {'precision': 0.7423117890647695, 'recall': 0.8615751789976134, 'f1-score': 0.7975093323542011, 'support': 419}}\n"
          ],
          "name": "stdout"
        },
        {
          "output_type": "stream",
          "text": [
            "/usr/local/lib/python3.6/dist-packages/sklearn/metrics/_classification.py:1272: UndefinedMetricWarning: Precision is ill-defined and being set to 0.0 due to no predicted samples. Use `zero_division` parameter to control this behavior.\n",
            "  _warn_prf(average, modifier, msg_start, len(result))\n",
            "/usr/local/lib/python3.6/dist-packages/sklearn/metrics/_classification.py:1272: UndefinedMetricWarning: Precision and F-score are ill-defined and being set to 0.0 in labels with no predicted samples. Use `zero_division` parameter to control this behavior.\n",
            "  _warn_prf(average, modifier, msg_start, len(result))\n"
          ],
          "name": "stderr"
        }
      ]
    },
    {
      "cell_type": "code",
      "metadata": {
        "id": "amcpO9mT6Qtu",
        "colab": {
          "base_uri": "https://localhost:8080/",
          "height": 1000
        },
        "outputId": "213102d5-5e47-453a-f244-fd2094779b27"
      },
      "source": [
        "y_pred_3"
      ],
      "execution_count": null,
      "outputs": [
        {
          "output_type": "execute_result",
          "data": {
            "text/plain": [
              "array([0.08921566, 0.        , 0.06581502, 0.06581502, 0.08921566,\n",
              "       0.11822733, 0.02583883, 0.10422092, 0.12825549, 0.08921566,\n",
              "       0.16777639, 0.12825549, 0.12825549, 0.12825549, 0.12825549,\n",
              "       0.12825549, 0.12825549, 0.08921566, 0.16777639, 0.12825549,\n",
              "       0.12825549, 0.09673224, 0.09673224, 0.12307713, 0.12307713,\n",
              "       0.12825549, 0.12825549, 0.08921566, 0.12825549, 0.09673224,\n",
              "       0.06581502, 0.02730263, 0.12825549, 0.09673224, 0.12825549,\n",
              "       0.        , 0.08921566, 0.06108219, 0.75      , 0.09673224,\n",
              "       0.        , 0.12825549, 0.        , 0.12307713, 0.12307713,\n",
              "       0.12825549, 0.16777639, 0.12825549, 0.02304035, 0.11822733,\n",
              "       0.02583883, 0.08921566, 0.16777639, 0.08921566, 0.00553633,\n",
              "       0.1       , 0.16777639, 0.11822733, 0.35349747, 0.00629731,\n",
              "       0.67869048, 0.12307713, 0.02583883, 0.11822733, 0.11822733,\n",
              "       0.12307713, 0.12825549, 0.10422092, 0.12825549, 0.12307713,\n",
              "       0.02583883, 0.225     , 0.08921566, 0.11822733, 0.08921566,\n",
              "       0.27359314, 0.16777639, 0.12825549, 0.12825549, 0.12825549,\n",
              "       0.12825549, 0.09673224, 0.28464286, 0.12825549, 0.12307713,\n",
              "       0.09673224, 0.09673224, 0.05      , 0.12825549, 0.06581502,\n",
              "       0.02583883, 0.12825549, 0.35349747, 0.09673224, 0.12825549,\n",
              "       0.02583883, 0.        , 0.08921566, 0.11822733, 0.30026101,\n",
              "       0.        , 0.11822733, 0.02583883, 0.12825549, 0.12575397,\n",
              "       0.11822733, 0.11822733, 0.02304035, 0.12825549, 0.12307713,\n",
              "       0.35349747, 0.09673224, 0.12825549, 0.02583883, 0.        ,\n",
              "       0.12307713, 0.35349747, 0.12825549, 0.09673224, 0.12825549,\n",
              "       0.08921566, 0.0375    , 0.11822733, 0.12825549, 0.16777639,\n",
              "       0.12307713, 0.08114828, 0.06581502, 0.10422092, 0.09673224,\n",
              "       0.09673224, 0.12307713, 0.25525974, 0.02583883, 0.72035714,\n",
              "       0.16777639, 0.10422092, 0.12307713, 0.12307713, 0.09673224,\n",
              "       0.09673224, 0.35      , 0.02583883, 0.09673224, 0.09673224,\n",
              "       0.06581502, 0.27359314, 0.08921566, 0.09673224, 0.12825549,\n",
              "       0.10422092, 0.10422092, 0.12825549, 0.12307713, 0.12825549,\n",
              "       0.10422092, 0.12307713, 0.12825549, 0.12825549, 0.10422092,\n",
              "       0.06108219, 0.09673224, 0.16777639, 0.12825549, 0.12825549,\n",
              "       0.09673224, 0.075     , 0.09673224, 0.12825549, 0.09673224,\n",
              "       0.10487658, 0.09673224, 0.65      , 0.        , 0.        ,\n",
              "       0.08921566, 0.12825549, 0.08114828, 0.09673224, 0.02583883,\n",
              "       0.12307713, 0.12825549, 0.08114828, 0.12307713, 0.12825549,\n",
              "       0.28464286, 0.09673224, 0.75      , 0.2672619 , 0.1172619 ,\n",
              "       0.02583883, 0.12307713, 0.08921566, 0.02583883, 0.11822733,\n",
              "       0.08921566, 0.09673224, 0.07169695, 0.11822733, 0.10422092,\n",
              "       0.09673224, 0.12825549, 0.06108219, 0.12825549, 0.09673224,\n",
              "       0.12825549, 0.12825549, 0.12825549, 0.06108219, 0.12825549,\n",
              "       0.12307713, 0.09673224, 0.12825549, 0.09673224, 0.02583883,\n",
              "       0.09673224, 0.12307713, 0.09673224, 0.72035714, 0.08921566,\n",
              "       0.12307713, 0.12825549, 0.12307713, 0.25525974, 0.09673224,\n",
              "       0.12825549, 0.12825549, 0.09673224, 0.12307713, 0.12825549,\n",
              "       0.12825549, 0.08921566, 0.08921566, 0.12825549, 0.09673224,\n",
              "       0.09673224, 0.20173507, 0.09673224, 0.11822733, 0.16777639,\n",
              "       0.00798611, 0.12825549, 0.11822733, 0.09673224, 0.12825549,\n",
              "       0.12307713, 0.12825549, 0.09673224, 0.12825549, 0.09673224,\n",
              "       0.12825549, 0.10422092, 0.16777639, 0.11822733, 0.12825549,\n",
              "       0.12825549, 0.27359314, 0.12307713, 0.12307713, 0.12825549,\n",
              "       0.12825549, 0.08114828, 0.08114828, 0.16777639, 0.66535714,\n",
              "       0.12825549, 0.10422092, 0.12825549, 0.12825549, 0.31666667,\n",
              "       0.16777639, 0.02583883, 0.12825549, 0.12825549, 0.09673224,\n",
              "       0.20173507, 0.12825549, 0.09673224, 0.        , 0.12307713,\n",
              "       0.12825549, 0.09673224, 0.05798611, 0.06108219, 0.12825549,\n",
              "       0.12825549, 0.12825549, 0.02583883, 0.11822733, 0.08114828,\n",
              "       0.08921566, 0.09673224, 0.27359314, 0.25525974, 0.06581502,\n",
              "       0.10422092, 0.06581502, 0.55833333, 0.1       , 0.        ,\n",
              "       0.27359314, 0.16777639, 0.12825549, 0.12825549, 0.11822733,\n",
              "       0.28464286, 0.        , 0.31309343, 0.12825549, 0.10422092,\n",
              "       0.10422092, 0.12825549, 0.12825549, 0.12825549, 0.12825549,\n",
              "       0.09673224, 0.16777639, 0.06581502, 0.12825549, 0.08921566,\n",
              "       0.08921566, 0.12825549, 0.0375    , 0.09673224, 0.1       ,\n",
              "       0.09673224, 0.12307713, 0.08921566, 0.12307713, 0.12825549,\n",
              "       0.12825549, 0.02583883, 0.12825549, 0.08114828, 0.09673224,\n",
              "       0.13632906, 0.06581502, 0.08921566, 0.09673224, 0.09673224,\n",
              "       0.        , 0.12825549, 0.25525974, 0.12825549, 0.06108219,\n",
              "       0.075     , 0.10422092, 0.12825549, 0.07510857, 0.10422092,\n",
              "       0.09673224, 0.12575397, 0.08921566, 0.05      , 0.12825549,\n",
              "       0.12825549, 0.12825549, 0.09673224, 0.12307713, 0.12825549,\n",
              "       0.12825549, 0.12825549, 0.12825549, 0.10422092, 0.09673224,\n",
              "       0.08921566, 0.12825549, 0.12825549, 0.16777639, 0.09673224,\n",
              "       0.12307713, 0.10422092, 0.09673224, 0.        , 0.        ,\n",
              "       0.12307713, 0.08921566, 0.12825549, 0.16777639, 0.09673224,\n",
              "       0.10422092, 0.11822733, 0.10422092, 0.27359314, 0.31309343,\n",
              "       0.13632906, 0.11822733, 0.09673224, 0.12307713, 0.09673224,\n",
              "       0.72035714, 0.12307713, 0.11822733, 0.09673224, 0.10422092,\n",
              "       0.09673224, 0.05      , 0.12825549, 0.16777639, 0.00798611,\n",
              "       0.12825549, 0.08114828, 0.11822733, 0.10422092, 0.12825549,\n",
              "       0.12825549, 0.27359314, 0.09673224, 0.30253968, 0.12825549,\n",
              "       0.28464286, 0.09673224, 0.27359314, 0.12825549, 0.11822733,\n",
              "       0.12307713, 0.30510204, 0.08114828, 0.27359314])"
            ]
          },
          "metadata": {
            "tags": []
          },
          "execution_count": 625
        }
      ]
    },
    {
      "cell_type": "code",
      "metadata": {
        "id": "TdkZlTW45iBi",
        "colab": {
          "base_uri": "https://localhost:8080/",
          "height": 88
        },
        "outputId": "72e64f19-cf7d-47c6-e095-dcb20e8ebed2"
      },
      "source": [
        "resul=classification_report(y_test.astype('int'),y_pred_3.astype('int'),target_names=['Non-Defect','Defect'],output_dict=True)\n",
        "print(resul)\n",
        "res_RF.append([files[selec],resul['accuracy'],resul['Non-Defect']['precision'],resul['Non-Defect']['recall'],resul['Non-Defect']['f1-score']])"
      ],
      "execution_count": null,
      "outputs": [
        {
          "output_type": "stream",
          "text": [
            "{'Non-Defect': {'precision': 0.8615751789976134, 'recall': 1.0, 'f1-score': 0.9256410256410257, 'support': 361}, 'Defect': {'precision': 0.0, 'recall': 0.0, 'f1-score': 0.0, 'support': 58}, 'accuracy': 0.8615751789976134, 'macro avg': {'precision': 0.4307875894988067, 'recall': 0.5, 'f1-score': 0.46282051282051284, 'support': 419}, 'weighted avg': {'precision': 0.7423117890647695, 'recall': 0.8615751789976134, 'f1-score': 0.7975093323542011, 'support': 419}}\n"
          ],
          "name": "stdout"
        },
        {
          "output_type": "stream",
          "text": [
            "/usr/local/lib/python3.6/dist-packages/sklearn/metrics/_classification.py:1272: UndefinedMetricWarning: Precision and F-score are ill-defined and being set to 0.0 in labels with no predicted samples. Use `zero_division` parameter to control this behavior.\n",
            "  _warn_prf(average, modifier, msg_start, len(result))\n"
          ],
          "name": "stderr"
        }
      ]
    },
    {
      "cell_type": "code",
      "metadata": {
        "id": "Q2QWfLk1H4ZK"
      },
      "source": [
        "Hybrid=pd.DataFrame(res_boost)\n",
        "SVM=pd.DataFrame(res_svm)\n",
        "RF=pd.DataFrame(res_RF)"
      ],
      "execution_count": null,
      "outputs": []
    },
    {
      "cell_type": "code",
      "metadata": {
        "id": "Il9kR-ZyIUmU"
      },
      "source": [
        "Data_Columns=['Data_Set','Accuracy','Precision','Recall','F1_Score']\n",
        "Hybrid.columns=Data_Columns\n",
        "SVM.columns=Data_Columns\n",
        "RF.columns=Data_Columns"
      ],
      "execution_count": null,
      "outputs": []
    },
    {
      "cell_type": "code",
      "metadata": {
        "id": "7nXsP5PsTh-W",
        "colab": {
          "base_uri": "https://localhost:8080/",
          "height": 142
        },
        "outputId": "16973fdc-addf-4588-927e-f2e584084420"
      },
      "source": [
        "RF"
      ],
      "execution_count": null,
      "outputs": [
        {
          "output_type": "execute_result",
          "data": {
            "text/html": [
              "<div>\n",
              "<style scoped>\n",
              "    .dataframe tbody tr th:only-of-type {\n",
              "        vertical-align: middle;\n",
              "    }\n",
              "\n",
              "    .dataframe tbody tr th {\n",
              "        vertical-align: top;\n",
              "    }\n",
              "\n",
              "    .dataframe thead th {\n",
              "        text-align: right;\n",
              "    }\n",
              "</style>\n",
              "<table border=\"1\" class=\"dataframe\">\n",
              "  <thead>\n",
              "    <tr style=\"text-align: right;\">\n",
              "      <th></th>\n",
              "      <th>Data_Set</th>\n",
              "      <th>Accuracy</th>\n",
              "      <th>Precision</th>\n",
              "      <th>Recall</th>\n",
              "      <th>F1_Score</th>\n",
              "    </tr>\n",
              "  </thead>\n",
              "  <tbody>\n",
              "    <tr>\n",
              "      <th>0</th>\n",
              "      <td>pc2.csv</td>\n",
              "      <td>0.995698</td>\n",
              "      <td>0.995698</td>\n",
              "      <td>1.0</td>\n",
              "      <td>0.997844</td>\n",
              "    </tr>\n",
              "    <tr>\n",
              "      <th>1</th>\n",
              "      <td>PC3.xlsx</td>\n",
              "      <td>0.911111</td>\n",
              "      <td>0.911111</td>\n",
              "      <td>1.0</td>\n",
              "      <td>0.953488</td>\n",
              "    </tr>\n",
              "    <tr>\n",
              "      <th>2</th>\n",
              "      <td>pc4.csv</td>\n",
              "      <td>0.861575</td>\n",
              "      <td>0.861575</td>\n",
              "      <td>1.0</td>\n",
              "      <td>0.925641</td>\n",
              "    </tr>\n",
              "  </tbody>\n",
              "</table>\n",
              "</div>"
            ],
            "text/plain": [
              "   Data_Set  Accuracy  Precision  Recall  F1_Score\n",
              "0   pc2.csv  0.995698   0.995698     1.0  0.997844\n",
              "1  PC3.xlsx  0.911111   0.911111     1.0  0.953488\n",
              "2   pc4.csv  0.861575   0.861575     1.0  0.925641"
            ]
          },
          "metadata": {
            "tags": []
          },
          "execution_count": 629
        }
      ]
    },
    {
      "cell_type": "code",
      "metadata": {
        "id": "Gg_169FgKTnf",
        "colab": {
          "base_uri": "https://localhost:8080/",
          "height": 142
        },
        "outputId": "71649c44-58db-4719-9425-dc6b5b4dc0ce"
      },
      "source": [
        "Hybrid"
      ],
      "execution_count": null,
      "outputs": [
        {
          "output_type": "execute_result",
          "data": {
            "text/html": [
              "<div>\n",
              "<style scoped>\n",
              "    .dataframe tbody tr th:only-of-type {\n",
              "        vertical-align: middle;\n",
              "    }\n",
              "\n",
              "    .dataframe tbody tr th {\n",
              "        vertical-align: top;\n",
              "    }\n",
              "\n",
              "    .dataframe thead th {\n",
              "        text-align: right;\n",
              "    }\n",
              "</style>\n",
              "<table border=\"1\" class=\"dataframe\">\n",
              "  <thead>\n",
              "    <tr style=\"text-align: right;\">\n",
              "      <th></th>\n",
              "      <th>Data_Set</th>\n",
              "      <th>Accuracy</th>\n",
              "      <th>Precision</th>\n",
              "      <th>Recall</th>\n",
              "      <th>F1_Score</th>\n",
              "    </tr>\n",
              "  </thead>\n",
              "  <tbody>\n",
              "    <tr>\n",
              "      <th>0</th>\n",
              "      <td>pc2.csv</td>\n",
              "      <td>0.995698</td>\n",
              "      <td>0.995698</td>\n",
              "      <td>1.0</td>\n",
              "      <td>0.997844</td>\n",
              "    </tr>\n",
              "    <tr>\n",
              "      <th>1</th>\n",
              "      <td>PC3.xlsx</td>\n",
              "      <td>0.911111</td>\n",
              "      <td>0.911111</td>\n",
              "      <td>1.0</td>\n",
              "      <td>0.953488</td>\n",
              "    </tr>\n",
              "    <tr>\n",
              "      <th>2</th>\n",
              "      <td>pc4.csv</td>\n",
              "      <td>0.861575</td>\n",
              "      <td>0.861575</td>\n",
              "      <td>1.0</td>\n",
              "      <td>0.925641</td>\n",
              "    </tr>\n",
              "  </tbody>\n",
              "</table>\n",
              "</div>"
            ],
            "text/plain": [
              "   Data_Set  Accuracy  Precision  Recall  F1_Score\n",
              "0   pc2.csv  0.995698   0.995698     1.0  0.997844\n",
              "1  PC3.xlsx  0.911111   0.911111     1.0  0.953488\n",
              "2   pc4.csv  0.861575   0.861575     1.0  0.925641"
            ]
          },
          "metadata": {
            "tags": []
          },
          "execution_count": 630
        }
      ]
    },
    {
      "cell_type": "code",
      "metadata": {
        "id": "_hnkghh7KWXO",
        "colab": {
          "base_uri": "https://localhost:8080/",
          "height": 142
        },
        "outputId": "cb458de9-6d00-4d14-e3db-ce818694d851"
      },
      "source": [
        "SVM"
      ],
      "execution_count": null,
      "outputs": [
        {
          "output_type": "execute_result",
          "data": {
            "text/html": [
              "<div>\n",
              "<style scoped>\n",
              "    .dataframe tbody tr th:only-of-type {\n",
              "        vertical-align: middle;\n",
              "    }\n",
              "\n",
              "    .dataframe tbody tr th {\n",
              "        vertical-align: top;\n",
              "    }\n",
              "\n",
              "    .dataframe thead th {\n",
              "        text-align: right;\n",
              "    }\n",
              "</style>\n",
              "<table border=\"1\" class=\"dataframe\">\n",
              "  <thead>\n",
              "    <tr style=\"text-align: right;\">\n",
              "      <th></th>\n",
              "      <th>Data_Set</th>\n",
              "      <th>Accuracy</th>\n",
              "      <th>Precision</th>\n",
              "      <th>Recall</th>\n",
              "      <th>F1_Score</th>\n",
              "    </tr>\n",
              "  </thead>\n",
              "  <tbody>\n",
              "    <tr>\n",
              "      <th>0</th>\n",
              "      <td>pc2.csv</td>\n",
              "      <td>0.995698</td>\n",
              "      <td>0.995698</td>\n",
              "      <td>1.0</td>\n",
              "      <td>0.997844</td>\n",
              "    </tr>\n",
              "    <tr>\n",
              "      <th>1</th>\n",
              "      <td>PC3.xlsx</td>\n",
              "      <td>0.911111</td>\n",
              "      <td>0.911111</td>\n",
              "      <td>1.0</td>\n",
              "      <td>0.953488</td>\n",
              "    </tr>\n",
              "    <tr>\n",
              "      <th>2</th>\n",
              "      <td>pc4.csv</td>\n",
              "      <td>0.861575</td>\n",
              "      <td>0.861575</td>\n",
              "      <td>1.0</td>\n",
              "      <td>0.925641</td>\n",
              "    </tr>\n",
              "  </tbody>\n",
              "</table>\n",
              "</div>"
            ],
            "text/plain": [
              "   Data_Set  Accuracy  Precision  Recall  F1_Score\n",
              "0   pc2.csv  0.995698   0.995698     1.0  0.997844\n",
              "1  PC3.xlsx  0.911111   0.911111     1.0  0.953488\n",
              "2   pc4.csv  0.861575   0.861575     1.0  0.925641"
            ]
          },
          "metadata": {
            "tags": []
          },
          "execution_count": 631
        }
      ]
    },
    {
      "cell_type": "code",
      "metadata": {
        "id": "-vkyeBAXLvGz",
        "colab": {
          "base_uri": "https://localhost:8080/",
          "height": 34
        },
        "outputId": "8e3168b2-b9d9-4dde-a28c-a6a8587395b5"
      },
      "source": [
        "L=[]\n",
        "L.append(Hybrid.loc[selec])\n",
        "L.append(SVM.loc[selec])\n",
        "wise=pd.DataFrame(L)\n",
        "wise=wise.transpose()\n",
        "wise.columns=['Hybrid','SVM']\n",
        "wise.index[1:]"
      ],
      "execution_count": null,
      "outputs": [
        {
          "output_type": "execute_result",
          "data": {
            "text/plain": [
              "Index(['Accuracy', 'Precision', 'Recall', 'F1_Score'], dtype='object')"
            ]
          },
          "metadata": {
            "tags": []
          },
          "execution_count": 632
        }
      ]
    },
    {
      "cell_type": "code",
      "metadata": {
        "id": "aBJey9PCRxWO",
        "colab": {
          "base_uri": "https://localhost:8080/",
          "height": 283
        },
        "outputId": "e9a2982b-d113-453b-9288-a2c2ff6937da"
      },
      "source": [
        "import numpy as np\n",
        "import matplotlib.pyplot as plt\n",
        "plt.bar(wise.index[1:], wise['SVM'][1:], color = 'g', width = 0.25)\n"
      ],
      "execution_count": null,
      "outputs": [
        {
          "output_type": "execute_result",
          "data": {
            "text/plain": [
              "<BarContainer object of 4 artists>"
            ]
          },
          "metadata": {
            "tags": []
          },
          "execution_count": 633
        },
        {
          "output_type": "display_data",
          "data": {
            "image/png": "[encoded data removed]",
            "text/plain": [
              "<Figure size 432x288 with 1 Axes>"
            ]
          },
          "metadata": {
            "tags": []
          }
        }
      ]
    },
    {
      "cell_type": "code",
      "metadata": {
        "id": "UsiTfmk4TT2l",
        "colab": {
          "base_uri": "https://localhost:8080/",
          "height": 266
        },
        "outputId": "bed596f6-e6a1-44ef-dd02-0d6e027031b5"
      },
      "source": [
        "plt.bar(wise.index[1:], wise['Hybrid'][1:], color = 'b', width = 0.25)\n",
        "plt.show()"
      ],
      "execution_count": null,
      "outputs": [
        {
          "output_type": "display_data",
          "data": {
            "image/png": "[encoded data removed]",
            "text/plain": [
              "<Figure size 432x288 with 1 Axes>"
            ]
          },
          "metadata": {
            "tags": []
          }
        }
      ]
    },
    {
      "cell_type": "code",
      "metadata": {
        "id": "f0faWDWw9NW1",
        "colab": {
          "base_uri": "https://localhost:8080/",
          "height": 248
        },
        "outputId": "e64b2c51-5825-4eea-93bd-5e002ca84602"
      },
      "source": [
        "import pymrmr\n",
        "cols=pymrmr.mRMR(df, 'MIQ',10)\n",
        "data=df[cols]\n",
        "data.head()"
      ],
      "execution_count": null,
      "outputs": [
        {
          "output_type": "error",
          "ename": "MemoryError",
          "evalue": "ignored",
          "traceback": [
            "\u001b[0;31m---------------------------------------------------------------------------\u001b[0m",
            "\u001b[0;31mMemoryError\u001b[0m                               Traceback (most recent call last)",
            "\u001b[0;32m<ipython-input-635-79f92aa631fc>\u001b[0m in \u001b[0;36m<module>\u001b[0;34m()\u001b[0m\n\u001b[1;32m      1\u001b[0m \u001b[0;32mimport\u001b[0m \u001b[0mpymrmr\u001b[0m\u001b[0;34m\u001b[0m\u001b[0;34m\u001b[0m\u001b[0m\n\u001b[0;32m----> 2\u001b[0;31m \u001b[0mcols\u001b[0m\u001b[0;34m=\u001b[0m\u001b[0mpymrmr\u001b[0m\u001b[0;34m.\u001b[0m\u001b[0mmRMR\u001b[0m\u001b[0;34m(\u001b[0m\u001b[0mdf\u001b[0m\u001b[0;34m,\u001b[0m \u001b[0;34m'MIQ'\u001b[0m\u001b[0;34m,\u001b[0m\u001b[0;36m10\u001b[0m\u001b[0;34m)\u001b[0m\u001b[0;34m\u001b[0m\u001b[0;34m\u001b[0m\u001b[0m\n\u001b[0m\u001b[1;32m      3\u001b[0m \u001b[0mdata\u001b[0m\u001b[0;34m=\u001b[0m\u001b[0mdf\u001b[0m\u001b[0;34m[\u001b[0m\u001b[0mcols\u001b[0m\u001b[0;34m]\u001b[0m\u001b[0;34m\u001b[0m\u001b[0;34m\u001b[0m\u001b[0m\n\u001b[1;32m      4\u001b[0m \u001b[0mdata\u001b[0m\u001b[0;34m.\u001b[0m\u001b[0mhead\u001b[0m\u001b[0;34m(\u001b[0m\u001b[0;34m)\u001b[0m\u001b[0;34m\u001b[0m\u001b[0;34m\u001b[0m\u001b[0m\n",
            "\u001b[0;32m/usr/local/lib/python3.6/dist-packages/pymrmr/pymrmr.pyx\u001b[0m in \u001b[0;36mpymrmr.mRMR (pymrmr/pymrmr.cpp:1790)\u001b[0;34m()\u001b[0m\n",
            "\u001b[0;31mMemoryError\u001b[0m: std::bad_array_new_length"
          ]
        }
      ]
    },
    {
      "cell_type": "code",
      "metadata": {
        "id": "JUk5uhic9TH-",
        "colab": {
          "base_uri": "https://localhost:8080/",
          "height": 224
        },
        "outputId": "00e37574-3ee4-47c8-b11f-9bcc413eadec"
      },
      "source": [
        "df.head()"
      ],
      "execution_count": null,
      "outputs": [
        {
          "output_type": "execute_result",
          "data": {
            "text/html": [
              "<div>\n",
              "<style scoped>\n",
              "    .dataframe tbody tr th:only-of-type {\n",
              "        vertical-align: middle;\n",
              "    }\n",
              "\n",
              "    .dataframe tbody tr th {\n",
              "        vertical-align: top;\n",
              "    }\n",
              "\n",
              "    .dataframe thead th {\n",
              "        text-align: right;\n",
              "    }\n",
              "</style>\n",
              "<table border=\"1\" class=\"dataframe\">\n",
              "  <thead>\n",
              "    <tr style=\"text-align: right;\">\n",
              "      <th></th>\n",
              "      <th>LOC_BLANK</th>\n",
              "      <th>BRANCH_COUNT</th>\n",
              "      <th>CALL_PAIRS</th>\n",
              "      <th>LOC_CODE_AND_COMMENT</th>\n",
              "      <th>LOC_COMMENTS</th>\n",
              "      <th>CONDITION_COUNT</th>\n",
              "      <th>CYCLOMATIC_COMPLEXITY</th>\n",
              "      <th>CYCLOMATIC_DENSITY</th>\n",
              "      <th>DECISION_COUNT</th>\n",
              "      <th>DECISION_DENSITY</th>\n",
              "      <th>DESIGN_COMPLEXITY</th>\n",
              "      <th>DESIGN_DENSITY</th>\n",
              "      <th>EDGE_COUNT</th>\n",
              "      <th>ESSENTIAL_COMPLEXITY</th>\n",
              "      <th>ESSENTIAL_DENSITY</th>\n",
              "      <th>LOC_EXECUTABLE</th>\n",
              "      <th>PARAMETER_COUNT</th>\n",
              "      <th>HALSTEAD_CONTENT</th>\n",
              "      <th>HALSTEAD_DIFFICULTY</th>\n",
              "      <th>HALSTEAD_EFFORT</th>\n",
              "      <th>HALSTEAD_ERROR_EST</th>\n",
              "      <th>HALSTEAD_LENGTH</th>\n",
              "      <th>HALSTEAD_LEVEL</th>\n",
              "      <th>HALSTEAD_PROG_TIME</th>\n",
              "      <th>HALSTEAD_VOLUME</th>\n",
              "      <th>MAINTENANCE_SEVERITY</th>\n",
              "      <th>MODIFIED_CONDITION_COUNT</th>\n",
              "      <th>MULTIPLE_CONDITION_COUNT</th>\n",
              "      <th>NODE_COUNT</th>\n",
              "      <th>NORMALIZED_CYLOMATIC_COMPLEXITY</th>\n",
              "      <th>NUM_OPERANDS</th>\n",
              "      <th>NUM_OPERATORS</th>\n",
              "      <th>NUM_UNIQUE_OPERANDS</th>\n",
              "      <th>NUM_UNIQUE_OPERATORS</th>\n",
              "      <th>NUMBER_OF_LINES</th>\n",
              "      <th>PERCENT_COMMENTS</th>\n",
              "      <th>LOC_TOTAL</th>\n",
              "      <th>c</th>\n",
              "    </tr>\n",
              "  </thead>\n",
              "  <tbody>\n",
              "    <tr>\n",
              "      <th>0</th>\n",
              "      <td>17</td>\n",
              "      <td>11</td>\n",
              "      <td>5</td>\n",
              "      <td>2</td>\n",
              "      <td>8</td>\n",
              "      <td>20</td>\n",
              "      <td>6</td>\n",
              "      <td>0.25</td>\n",
              "      <td>10</td>\n",
              "      <td>2</td>\n",
              "      <td>4</td>\n",
              "      <td>0.67</td>\n",
              "      <td>29</td>\n",
              "      <td>1</td>\n",
              "      <td>0</td>\n",
              "      <td>22</td>\n",
              "      <td>7</td>\n",
              "      <td>37.84</td>\n",
              "      <td>13.83</td>\n",
              "      <td>7233.63</td>\n",
              "      <td>0.17</td>\n",
              "      <td>102</td>\n",
              "      <td>0.07</td>\n",
              "      <td>401.87</td>\n",
              "      <td>523.19</td>\n",
              "      <td>0.17</td>\n",
              "      <td>5</td>\n",
              "      <td>10</td>\n",
              "      <td>25</td>\n",
              "      <td>0.11</td>\n",
              "      <td>53</td>\n",
              "      <td>49</td>\n",
              "      <td>23</td>\n",
              "      <td>12</td>\n",
              "      <td>57</td>\n",
              "      <td>31.25</td>\n",
              "      <td>24</td>\n",
              "      <td>False</td>\n",
              "    </tr>\n",
              "    <tr>\n",
              "      <th>1</th>\n",
              "      <td>2</td>\n",
              "      <td>9</td>\n",
              "      <td>3</td>\n",
              "      <td>0</td>\n",
              "      <td>1</td>\n",
              "      <td>16</td>\n",
              "      <td>5</td>\n",
              "      <td>0.56</td>\n",
              "      <td>6</td>\n",
              "      <td>2</td>\n",
              "      <td>3</td>\n",
              "      <td>0.60</td>\n",
              "      <td>17</td>\n",
              "      <td>4</td>\n",
              "      <td>0</td>\n",
              "      <td>9</td>\n",
              "      <td>1</td>\n",
              "      <td>12.50</td>\n",
              "      <td>13.00</td>\n",
              "      <td>2112.70</td>\n",
              "      <td>0.05</td>\n",
              "      <td>37</td>\n",
              "      <td>0.08</td>\n",
              "      <td>117.37</td>\n",
              "      <td>162.52</td>\n",
              "      <td>0.80</td>\n",
              "      <td>5</td>\n",
              "      <td>8</td>\n",
              "      <td>14</td>\n",
              "      <td>0.36</td>\n",
              "      <td>13</td>\n",
              "      <td>24</td>\n",
              "      <td>7</td>\n",
              "      <td>14</td>\n",
              "      <td>14</td>\n",
              "      <td>10.00</td>\n",
              "      <td>9</td>\n",
              "      <td>False</td>\n",
              "    </tr>\n",
              "    <tr>\n",
              "      <th>2</th>\n",
              "      <td>2</td>\n",
              "      <td>5</td>\n",
              "      <td>1</td>\n",
              "      <td>1</td>\n",
              "      <td>1</td>\n",
              "      <td>6</td>\n",
              "      <td>3</td>\n",
              "      <td>0.17</td>\n",
              "      <td>2</td>\n",
              "      <td>3</td>\n",
              "      <td>2</td>\n",
              "      <td>0.67</td>\n",
              "      <td>8</td>\n",
              "      <td>3</td>\n",
              "      <td>1</td>\n",
              "      <td>17</td>\n",
              "      <td>1</td>\n",
              "      <td>15.99</td>\n",
              "      <td>12.44</td>\n",
              "      <td>2476.90</td>\n",
              "      <td>0.07</td>\n",
              "      <td>44</td>\n",
              "      <td>0.08</td>\n",
              "      <td>137.61</td>\n",
              "      <td>199.04</td>\n",
              "      <td>1.00</td>\n",
              "      <td>2</td>\n",
              "      <td>3</td>\n",
              "      <td>7</td>\n",
              "      <td>0.13</td>\n",
              "      <td>16</td>\n",
              "      <td>28</td>\n",
              "      <td>9</td>\n",
              "      <td>14</td>\n",
              "      <td>23</td>\n",
              "      <td>10.53</td>\n",
              "      <td>18</td>\n",
              "      <td>False</td>\n",
              "    </tr>\n",
              "    <tr>\n",
              "      <th>3</th>\n",
              "      <td>4</td>\n",
              "      <td>5</td>\n",
              "      <td>1</td>\n",
              "      <td>0</td>\n",
              "      <td>0</td>\n",
              "      <td>8</td>\n",
              "      <td>3</td>\n",
              "      <td>0.30</td>\n",
              "      <td>4</td>\n",
              "      <td>2</td>\n",
              "      <td>2</td>\n",
              "      <td>0.67</td>\n",
              "      <td>11</td>\n",
              "      <td>1</td>\n",
              "      <td>0</td>\n",
              "      <td>10</td>\n",
              "      <td>0</td>\n",
              "      <td>21.06</td>\n",
              "      <td>5.85</td>\n",
              "      <td>720.66</td>\n",
              "      <td>0.04</td>\n",
              "      <td>29</td>\n",
              "      <td>0.17</td>\n",
              "      <td>40.04</td>\n",
              "      <td>123.19</td>\n",
              "      <td>0.33</td>\n",
              "      <td>2</td>\n",
              "      <td>4</td>\n",
              "      <td>10</td>\n",
              "      <td>0.19</td>\n",
              "      <td>13</td>\n",
              "      <td>16</td>\n",
              "      <td>10</td>\n",
              "      <td>9</td>\n",
              "      <td>16</td>\n",
              "      <td>0.00</td>\n",
              "      <td>10</td>\n",
              "      <td>False</td>\n",
              "    </tr>\n",
              "    <tr>\n",
              "      <th>4</th>\n",
              "      <td>7</td>\n",
              "      <td>5</td>\n",
              "      <td>1</td>\n",
              "      <td>3</td>\n",
              "      <td>0</td>\n",
              "      <td>0</td>\n",
              "      <td>3</td>\n",
              "      <td>0.15</td>\n",
              "      <td>0</td>\n",
              "      <td>0</td>\n",
              "      <td>1</td>\n",
              "      <td>0.33</td>\n",
              "      <td>11</td>\n",
              "      <td>1</td>\n",
              "      <td>0</td>\n",
              "      <td>17</td>\n",
              "      <td>2</td>\n",
              "      <td>21.09</td>\n",
              "      <td>13.00</td>\n",
              "      <td>3563.68</td>\n",
              "      <td>0.09</td>\n",
              "      <td>72</td>\n",
              "      <td>0.08</td>\n",
              "      <td>197.98</td>\n",
              "      <td>274.13</td>\n",
              "      <td>0.33</td>\n",
              "      <td>0</td>\n",
              "      <td>0</td>\n",
              "      <td>10</td>\n",
              "      <td>0.11</td>\n",
              "      <td>26</td>\n",
              "      <td>46</td>\n",
              "      <td>7</td>\n",
              "      <td>7</td>\n",
              "      <td>28</td>\n",
              "      <td>15.00</td>\n",
              "      <td>20</td>\n",
              "      <td>False</td>\n",
              "    </tr>\n",
              "  </tbody>\n",
              "</table>\n",
              "</div>"
            ],
            "text/plain": [
              "   LOC_BLANK  BRANCH_COUNT  CALL_PAIRS  ...  PERCENT_COMMENTS  LOC_TOTAL      c\n",
              "0         17            11           5  ...             31.25         24  False\n",
              "1          2             9           3  ...             10.00          9  False\n",
              "2          2             5           1  ...             10.53         18  False\n",
              "3          4             5           1  ...              0.00         10  False\n",
              "4          7             5           1  ...             15.00         20  False\n",
              "\n",
              "[5 rows x 38 columns]"
            ]
          },
          "metadata": {
            "tags": []
          },
          "execution_count": 636
        }
      ]
    }
  ]
}