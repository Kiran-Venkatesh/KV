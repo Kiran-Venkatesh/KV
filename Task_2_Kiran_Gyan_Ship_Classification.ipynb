{
  "nbformat": 4,
  "nbformat_minor": 0,
  "metadata": {
    "colab": {
      "name": "Task_2_Kiran_Gyan_Ship_Classification.ipynb",
      "provenance": [],
      "collapsed_sections": [],
      "mount_file_id": "1vRdb3EtUf0O0dMRcLVBpyHU0mhQimRv1",
      "authorship_tag": "ABX9TyPe9bvngWZQDmsuOg4ozaGM",
      "include_colab_link": true
    },
    "kernelspec": {
      "name": "python3",
      "display_name": "Python 3"
    },
    "language_info": {
      "name": "python"
    },
    "accelerator": "GPU"
  },
  "cells": [
    {
      "cell_type": "markdown",
      "metadata": {
        "id": "view-in-github",
        "colab_type": "text"
      },
      "source": [
        "<a href=\"https://colab.research.google.com/github/Kiran-Venkatesh/KV/blob/master/Task_2_Kiran_Gyan_Ship_Classification.ipynb\" target=\"_parent\"><img src=\"https://colab.research.google.com/assets/colab-badge.svg\" alt=\"Open In Colab\"/></a>"
      ]
    },
    {
      "cell_type": "code",
      "execution_count": null,
      "metadata": {
        "id": "KdZUuMBuHO0n"
      },
      "outputs": [],
      "source": [
        "import os\n",
        "import cv2\n",
        "import pandas as pd\n",
        "import numpy as np\n",
        "\n",
        "from keras.layers import Dense,Flatten,MaxPooling2D,Convolution2D,Dropout,GlobalAveragePooling2D\n",
        "from keras.models import Sequential,load_model\n",
        "from keras.optimizers import adam_v2\n",
        "from keras.callbacks import EarlyStopping\n",
        "\n",
        "from numpy import expand_dims\n",
        "from keras.preprocessing.image import ImageDataGenerator\n",
        "from keras.models import load_model\n",
        "\n",
        "\n",
        "\n",
        "import matplotlib.pyplot as plt\n",
        "import seaborn as sns\n",
        "\n",
        "from sklearn.model_selection import train_test_split\n",
        "from sklearn.preprocessing import LabelEncoder\n",
        "from sklearn.metrics import classification_report,confusion_matrix"
      ]
    },
    {
      "cell_type": "code",
      "source": [
        "Class_names = []\n",
        "mypath = '/content/drive/MyDrive/Colab Notebooks/Gyan Data datasets/ships'\n",
        "for (dirpath, dirnames, filenames) in os.walk(mypath):\n",
        "    Class_names.extend(dirnames)\n",
        "    break"
      ],
      "metadata": {
        "id": "jP93hnjRH9x7"
      },
      "execution_count": null,
      "outputs": []
    },
    {
      "cell_type": "code",
      "source": [
        "Class_names"
      ],
      "metadata": {
        "colab": {
          "base_uri": "https://localhost:8080/"
        },
        "id": "mBZeBJ4qIfsb",
        "outputId": "a89164ab-cd03-44ed-e224-92a0e6a1f39b"
      },
      "execution_count": null,
      "outputs": [
        {
          "output_type": "execute_result",
          "data": {
            "text/plain": [
              "['cruise', 'sub', 'air_car', 'container', 'tanker']"
            ]
          },
          "metadata": {},
          "execution_count": 44
        }
      ]
    },
    {
      "cell_type": "code",
      "source": [
        "from os import walk\n",
        "directory=mypath\n",
        "categories=Class_names\n",
        "Count=[]\n",
        "for category in categories:\n",
        "  path = os.path.join(directory,category)\n",
        "  count= 0\n",
        "  for img in os.listdir(path):\n",
        "    count+=1\n",
        "  Count.append(count)"
      ],
      "metadata": {
        "id": "CMkM8qgMIjgH"
      },
      "execution_count": null,
      "outputs": []
    },
    {
      "cell_type": "code",
      "source": [
        "for i in range(len(Count)):\n",
        "  print(categories[i],Count[i])"
      ],
      "metadata": {
        "colab": {
          "base_uri": "https://localhost:8080/"
        },
        "id": "wrZvTwoYI2sV",
        "outputId": "272a7124-e856-4b03-e8c9-e714cc9610e4"
      },
      "execution_count": null,
      "outputs": [
        {
          "output_type": "stream",
          "name": "stdout",
          "text": [
            "cruise 100\n",
            "sub 100\n",
            "air_car 100\n",
            "container 100\n",
            "tanker 100\n"
          ]
        }
      ]
    },
    {
      "cell_type": "code",
      "source": [
        "X = []\n",
        "Y = []\n",
        "i=-1\n",
        "df = pd.DataFrame()\n",
        "for category in categories:\n",
        "  path = os.path.join(directory,category)\n",
        "  i+=1\n",
        "  for img in os.listdir(path):\n",
        "    if img.endswith(('jpg', 'png','jpeg','JPG','PNG','JPEG')):\n",
        "      image = (cv2.imread(os.path.join(path,img), cv2.IMREAD_GRAYSCALE))\n",
        "      image = cv2.resize(image,(224,224))                     \n",
        "      image = cv2.cvtColor(image, cv2.COLOR_BGR2RGB)           \n",
        "      X.append(image)\n",
        "      Y.append(category)\n",
        "      sample_image = expand_dims(image, 0)\n",
        "      #Image Data Augmentation to avoid overfit and also increase in training data\n",
        "      datagenertor = ImageDataGenerator(brightness_range=[0.1,1.0],zoom_range=0.2)\n",
        "      iterator = datagenertor.flow(sample_image, batch_size=4)\n",
        "      for b in range(4):\n",
        "        batch = iterator.next()\n",
        "        image = batch[0].astype('uint8')        \n",
        "        X.append(cv2.resize(image,(224,224)))\n",
        "        Y.append(category)             "
      ],
      "metadata": {
        "id": "8HpRJ7otJMUd"
      },
      "execution_count": null,
      "outputs": []
    },
    {
      "cell_type": "code",
      "source": [
        "print(\"Total number of Records\",len(Y))\n",
        "for i in categories:\n",
        "  print(\"Total number of\",i,\" \",Y.count(i))"
      ],
      "metadata": {
        "colab": {
          "base_uri": "https://localhost:8080/"
        },
        "id": "6CWAHRoEKTaO",
        "outputId": "28679696-091e-411a-ccf2-ceba7cd7dc10"
      },
      "execution_count": null,
      "outputs": [
        {
          "output_type": "stream",
          "name": "stdout",
          "text": [
            "Total number of Records 2500\n",
            "Total number of cruise   500\n",
            "Total number of sub   500\n",
            "Total number of air_car   500\n",
            "Total number of container   500\n",
            "Total number of tanker   500\n"
          ]
        }
      ]
    },
    {
      "cell_type": "code",
      "source": [
        "sns.countplot(Y)\n",
        "plt.title(\"Distribution of the Full dataset classes\")"
      ],
      "metadata": {
        "colab": {
          "base_uri": "https://localhost:8080/",
          "height": 354
        },
        "id": "9ydxLxplKeh9",
        "outputId": "333f88fb-48f0-4953-b856-ac768bf5b6e5"
      },
      "execution_count": null,
      "outputs": [
        {
          "output_type": "stream",
          "name": "stderr",
          "text": [
            "/usr/local/lib/python3.7/dist-packages/seaborn/_decorators.py:43: FutureWarning: Pass the following variable as a keyword arg: x. From version 0.12, the only valid positional argument will be `data`, and passing other arguments without an explicit keyword will result in an error or misinterpretation.\n",
            "  FutureWarning\n"
          ]
        },
        {
          "output_type": "execute_result",
          "data": {
            "text/plain": [
              "Text(0.5, 1.0, 'Distribution of the Full dataset classes')"
            ]
          },
          "metadata": {},
          "execution_count": 49
        },
        {
          "output_type": "display_data",
          "data": {
            "text/plain": [
              "<Figure size 432x288 with 1 Axes>"
            ],
            "image/png": "[encoded data removed]"
          },
          "metadata": {
            "needs_background": "light"
          }
        }
      ]
    },
    {
      "cell_type": "code",
      "source": [
        "from keras.utils import np_utils\n",
        "import pickle\n",
        "X = np.array(X)\n",
        "print(Y)\n",
        "le_ = LabelEncoder()\n",
        "Y = (le_.fit_transform(Y))\n",
        "print(Y)\n",
        "output = open('/content/drive/MyDrive/Colab Notebooks/Gyan Data datasets/encoder_ship.pkl', 'wb')\n",
        "pickle.dump(le_, output)\n",
        "output.close()\n",
        "Y= np_utils.to_categorical(Y)\n",
        "print(Y)"
      ],
      "metadata": {
        "colab": {
          "base_uri": "https://localhost:8080/"
        },
        "id": "4z_qcEDRKl49",
        "outputId": "9112511b-e70e-416d-a87d-bb714bc04b0d"
      },
      "execution_count": null,
      "outputs": [
        {
          "output_type": "stream",
          "name": "stdout",
          "text": [
            "['cruise', 'cruise', 'cruise', 'cruise', 'cruise', 'cruise', 'cruise', 'cruise', 'cruise', 'cruise', 'cruise', 'cruise', 'cruise', 'cruise', 'cruise', 'cruise', 'cruise', 'cruise', 'cruise', 'cruise', 'cruise', 'cruise', 'cruise', 'cruise', 'cruise', 'cruise', 'cruise', 'cruise', 'cruise', 'cruise', 'cruise', 'cruise', 'cruise', 'cruise', 'cruise', 'cruise', 'cruise', 'cruise', 'cruise', 'cruise', 'cruise', 'cruise', 'cruise', 'cruise', 'cruise', 'cruise', 'cruise', 'cruise', 'cruise', 'cruise', 'cruise', 'cruise', 'cruise', 'cruise', 'cruise', 'cruise', 'cruise', 'cruise', 'cruise', 'cruise', 'cruise', 'cruise', 'cruise', 'cruise', 'cruise', 'cruise', 'cruise', 'cruise', 'cruise', 'cruise', 'cruise', 'cruise', 'cruise', 'cruise', 'cruise', 'cruise', 'cruise', 'cruise', 'cruise', 'cruise', 'cruise', 'cruise', 'cruise', 'cruise', 'cruise', 'cruise', 'cruise', 'cruise', 'cruise', 'cruise', 'cruise', 'cruise', 'cruise', 'cruise', 'cruise', 'cruise', 'cruise', 'cruise', 'cruise', 'cruise', 'cruise', 'cruise', 'cruise', 'cruise', 'cruise', 'cruise', 'cruise', 'cruise', 'cruise', 'cruise', 'cruise', 'cruise', 'cruise', 'cruise', 'cruise', 'cruise', 'cruise', 'cruise', 'cruise', 'cruise', 'cruise', 'cruise', 'cruise', 'cruise', 'cruise', 'cruise', 'cruise', 'cruise', 'cruise', 'cruise', 'cruise', 'cruise', 'cruise', 'cruise', 'cruise', 'cruise', 'cruise', 'cruise', 'cruise', 'cruise', 'cruise', 'cruise', 'cruise', 'cruise', 'cruise', 'cruise', 'cruise', 'cruise', 'cruise', 'cruise', 'cruise', 'cruise', 'cruise', 'cruise', 'cruise', 'cruise', 'cruise', 'cruise', 'cruise', 'cruise', 'cruise', 'cruise', 'cruise', 'cruise', 'cruise', 'cruise', 'cruise', 'cruise', 'cruise', 'cruise', 'cruise', 'cruise', 'cruise', 'cruise', 'cruise', 'cruise', 'cruise', 'cruise', 'cruise', 'cruise', 'cruise', 'cruise', 'cruise', 'cruise', 'cruise', 'cruise', 'cruise', 'cruise', 'cruise', 'cruise', 'cruise', 'cruise', 'cruise', 'cruise', 'cruise', 'cruise', 'cruise', 'cruise', 'cruise', 'cruise', 'cruise', 'cruise', 'cruise', 'cruise', 'cruise', 'cruise', 'cruise', 'cruise', 'cruise', 'cruise', 'cruise', 'cruise', 'cruise', 'cruise', 'cruise', 'cruise', 'cruise', 'cruise', 'cruise', 'cruise', 'cruise', 'cruise', 'cruise', 'cruise', 'cruise', 'cruise', 'cruise', 'cruise', 'cruise', 'cruise', 'cruise', 'cruise', 'cruise', 'cruise', 'cruise', 'cruise', 'cruise', 'cruise', 'cruise', 'cruise', 'cruise', 'cruise', 'cruise', 'cruise', 'cruise', 'cruise', 'cruise', 'cruise', 'cruise', 'cruise', 'cruise', 'cruise', 'cruise', 'cruise', 'cruise', 'cruise', 'cruise', 'cruise', 'cruise', 'cruise', 'cruise', 'cruise', 'cruise', 'cruise', 'cruise', 'cruise', 'cruise', 'cruise', 'cruise', 'cruise', 'cruise', 'cruise', 'cruise', 'cruise', 'cruise', 'cruise', 'cruise', 'cruise', 'cruise', 'cruise', 'cruise', 'cruise', 'cruise', 'cruise', 'cruise', 'cruise', 'cruise', 'cruise', 'cruise', 'cruise', 'cruise', 'cruise', 'cruise', 'cruise', 'cruise', 'cruise', 'cruise', 'cruise', 'cruise', 'cruise', 'cruise', 'cruise', 'cruise', 'cruise', 'cruise', 'cruise', 'cruise', 'cruise', 'cruise', 'cruise', 'cruise', 'cruise', 'cruise', 'cruise', 'cruise', 'cruise', 'cruise', 'cruise', 'cruise', 'cruise', 'cruise', 'cruise', 'cruise', 'cruise', 'cruise', 'cruise', 'cruise', 'cruise', 'cruise', 'cruise', 'cruise', 'cruise', 'cruise', 'cruise', 'cruise', 'cruise', 'cruise', 'cruise', 'cruise', 'cruise', 'cruise', 'cruise', 'cruise', 'cruise', 'cruise', 'cruise', 'cruise', 'cruise', 'cruise', 'cruise', 'cruise', 'cruise', 'cruise', 'cruise', 'cruise', 'cruise', 'cruise', 'cruise', 'cruise', 'cruise', 'cruise', 'cruise', 'cruise', 'cruise', 'cruise', 'cruise', 'cruise', 'cruise', 'cruise', 'cruise', 'cruise', 'cruise', 'cruise', 'cruise', 'cruise', 'cruise', 'cruise', 'cruise', 'cruise', 'cruise', 'cruise', 'cruise', 'cruise', 'cruise', 'cruise', 'cruise', 'cruise', 'cruise', 'cruise', 'cruise', 'cruise', 'cruise', 'cruise', 'cruise', 'cruise', 'cruise', 'cruise', 'cruise', 'cruise', 'cruise', 'cruise', 'cruise', 'cruise', 'cruise', 'cruise', 'cruise', 'cruise', 'cruise', 'cruise', 'cruise', 'cruise', 'cruise', 'cruise', 'cruise', 'cruise', 'cruise', 'cruise', 'cruise', 'cruise', 'cruise', 'cruise', 'cruise', 'cruise', 'cruise', 'cruise', 'cruise', 'cruise', 'cruise', 'cruise', 'cruise', 'cruise', 'cruise', 'cruise', 'cruise', 'cruise', 'cruise', 'cruise', 'cruise', 'cruise', 'cruise', 'cruise', 'cruise', 'cruise', 'cruise', 'cruise', 'cruise', 'cruise', 'cruise', 'cruise', 'cruise', 'cruise', 'cruise', 'cruise', 'cruise', 'cruise', 'cruise', 'cruise', 'cruise', 'cruise', 'cruise', 'cruise', 'cruise', 'cruise', 'cruise', 'cruise', 'cruise', 'cruise', 'cruise', 'cruise', 'cruise', 'cruise', 'cruise', 'cruise', 'cruise', 'cruise', 'cruise', 'cruise', 'cruise', 'cruise', 'cruise', 'cruise', 'cruise', 'cruise', 'cruise', 'cruise', 'cruise', 'cruise', 'cruise', 'cruise', 'cruise', 'cruise', 'cruise', 'cruise', 'cruise', 'cruise', 'cruise', 'cruise', 'cruise', 'cruise', 'cruise', 'sub', 'sub', 'sub', 'sub', 'sub', 'sub', 'sub', 'sub', 'sub', 'sub', 'sub', 'sub', 'sub', 'sub', 'sub', 'sub', 'sub', 'sub', 'sub', 'sub', 'sub', 'sub', 'sub', 'sub', 'sub', 'sub', 'sub', 'sub', 'sub', 'sub', 'sub', 'sub', 'sub', 'sub', 'sub', 'sub', 'sub', 'sub', 'sub', 'sub', 'sub', 'sub', 'sub', 'sub', 'sub', 'sub', 'sub', 'sub', 'sub', 'sub', 'sub', 'sub', 'sub', 'sub', 'sub', 'sub', 'sub', 'sub', 'sub', 'sub', 'sub', 'sub', 'sub', 'sub', 'sub', 'sub', 'sub', 'sub', 'sub', 'sub', 'sub', 'sub', 'sub', 'sub', 'sub', 'sub', 'sub', 'sub', 'sub', 'sub', 'sub', 'sub', 'sub', 'sub', 'sub', 'sub', 'sub', 'sub', 'sub', 'sub', 'sub', 'sub', 'sub', 'sub', 'sub', 'sub', 'sub', 'sub', 'sub', 'sub', 'sub', 'sub', 'sub', 'sub', 'sub', 'sub', 'sub', 'sub', 'sub', 'sub', 'sub', 'sub', 'sub', 'sub', 'sub', 'sub', 'sub', 'sub', 'sub', 'sub', 'sub', 'sub', 'sub', 'sub', 'sub', 'sub', 'sub', 'sub', 'sub', 'sub', 'sub', 'sub', 'sub', 'sub', 'sub', 'sub', 'sub', 'sub', 'sub', 'sub', 'sub', 'sub', 'sub', 'sub', 'sub', 'sub', 'sub', 'sub', 'sub', 'sub', 'sub', 'sub', 'sub', 'sub', 'sub', 'sub', 'sub', 'sub', 'sub', 'sub', 'sub', 'sub', 'sub', 'sub', 'sub', 'sub', 'sub', 'sub', 'sub', 'sub', 'sub', 'sub', 'sub', 'sub', 'sub', 'sub', 'sub', 'sub', 'sub', 'sub', 'sub', 'sub', 'sub', 'sub', 'sub', 'sub', 'sub', 'sub', 'sub', 'sub', 'sub', 'sub', 'sub', 'sub', 'sub', 'sub', 'sub', 'sub', 'sub', 'sub', 'sub', 'sub', 'sub', 'sub', 'sub', 'sub', 'sub', 'sub', 'sub', 'sub', 'sub', 'sub', 'sub', 'sub', 'sub', 'sub', 'sub', 'sub', 'sub', 'sub', 'sub', 'sub', 'sub', 'sub', 'sub', 'sub', 'sub', 'sub', 'sub', 'sub', 'sub', 'sub', 'sub', 'sub', 'sub', 'sub', 'sub', 'sub', 'sub', 'sub', 'sub', 'sub', 'sub', 'sub', 'sub', 'sub', 'sub', 'sub', 'sub', 'sub', 'sub', 'sub', 'sub', 'sub', 'sub', 'sub', 'sub', 'sub', 'sub', 'sub', 'sub', 'sub', 'sub', 'sub', 'sub', 'sub', 'sub', 'sub', 'sub', 'sub', 'sub', 'sub', 'sub', 'sub', 'sub', 'sub', 'sub', 'sub', 'sub', 'sub', 'sub', 'sub', 'sub', 'sub', 'sub', 'sub', 'sub', 'sub', 'sub', 'sub', 'sub', 'sub', 'sub', 'sub', 'sub', 'sub', 'sub', 'sub', 'sub', 'sub', 'sub', 'sub', 'sub', 'sub', 'sub', 'sub', 'sub', 'sub', 'sub', 'sub', 'sub', 'sub', 'sub', 'sub', 'sub', 'sub', 'sub', 'sub', 'sub', 'sub', 'sub', 'sub', 'sub', 'sub', 'sub', 'sub', 'sub', 'sub', 'sub', 'sub', 'sub', 'sub', 'sub', 'sub', 'sub', 'sub', 'sub', 'sub', 'sub', 'sub', 'sub', 'sub', 'sub', 'sub', 'sub', 'sub', 'sub', 'sub', 'sub', 'sub', 'sub', 'sub', 'sub', 'sub', 'sub', 'sub', 'sub', 'sub', 'sub', 'sub', 'sub', 'sub', 'sub', 'sub', 'sub', 'sub', 'sub', 'sub', 'sub', 'sub', 'sub', 'sub', 'sub', 'sub', 'sub', 'sub', 'sub', 'sub', 'sub', 'sub', 'sub', 'sub', 'sub', 'sub', 'sub', 'sub', 'sub', 'sub', 'sub', 'sub', 'sub', 'sub', 'sub', 'sub', 'sub', 'sub', 'sub', 'sub', 'sub', 'sub', 'sub', 'sub', 'sub', 'sub', 'sub', 'sub', 'sub', 'sub', 'sub', 'sub', 'sub', 'sub', 'sub', 'sub', 'sub', 'sub', 'sub', 'sub', 'sub', 'sub', 'sub', 'sub', 'sub', 'sub', 'sub', 'sub', 'sub', 'sub', 'sub', 'sub', 'sub', 'sub', 'sub', 'sub', 'sub', 'sub', 'sub', 'sub', 'sub', 'sub', 'sub', 'sub', 'sub', 'sub', 'sub', 'sub', 'sub', 'sub', 'sub', 'sub', 'sub', 'sub', 'sub', 'sub', 'sub', 'sub', 'sub', 'sub', 'sub', 'sub', 'sub', 'sub', 'sub', 'sub', 'sub', 'sub', 'sub', 'sub', 'sub', 'sub', 'sub', 'sub', 'sub', 'sub', 'sub', 'sub', 'sub', 'sub', 'sub', 'sub', 'sub', 'sub', 'sub', 'sub', 'sub', 'sub', 'sub', 'sub', 'sub', 'sub', 'sub', 'sub', 'sub', 'sub', 'sub', 'sub', 'sub', 'sub', 'sub', 'sub', 'air_car', 'air_car', 'air_car', 'air_car', 'air_car', 'air_car', 'air_car', 'air_car', 'air_car', 'air_car', 'air_car', 'air_car', 'air_car', 'air_car', 'air_car', 'air_car', 'air_car', 'air_car', 'air_car', 'air_car', 'air_car', 'air_car', 'air_car', 'air_car', 'air_car', 'air_car', 'air_car', 'air_car', 'air_car', 'air_car', 'air_car', 'air_car', 'air_car', 'air_car', 'air_car', 'air_car', 'air_car', 'air_car', 'air_car', 'air_car', 'air_car', 'air_car', 'air_car', 'air_car', 'air_car', 'air_car', 'air_car', 'air_car', 'air_car', 'air_car', 'air_car', 'air_car', 'air_car', 'air_car', 'air_car', 'air_car', 'air_car', 'air_car', 'air_car', 'air_car', 'air_car', 'air_car', 'air_car', 'air_car', 'air_car', 'air_car', 'air_car', 'air_car', 'air_car', 'air_car', 'air_car', 'air_car', 'air_car', 'air_car', 'air_car', 'air_car', 'air_car', 'air_car', 'air_car', 'air_car', 'air_car', 'air_car', 'air_car', 'air_car', 'air_car', 'air_car', 'air_car', 'air_car', 'air_car', 'air_car', 'air_car', 'air_car', 'air_car', 'air_car', 'air_car', 'air_car', 'air_car', 'air_car', 'air_car', 'air_car', 'air_car', 'air_car', 'air_car', 'air_car', 'air_car', 'air_car', 'air_car', 'air_car', 'air_car', 'air_car', 'air_car', 'air_car', 'air_car', 'air_car', 'air_car', 'air_car', 'air_car', 'air_car', 'air_car', 'air_car', 'air_car', 'air_car', 'air_car', 'air_car', 'air_car', 'air_car', 'air_car', 'air_car', 'air_car', 'air_car', 'air_car', 'air_car', 'air_car', 'air_car', 'air_car', 'air_car', 'air_car', 'air_car', 'air_car', 'air_car', 'air_car', 'air_car', 'air_car', 'air_car', 'air_car', 'air_car', 'air_car', 'air_car', 'air_car', 'air_car', 'air_car', 'air_car', 'air_car', 'air_car', 'air_car', 'air_car', 'air_car', 'air_car', 'air_car', 'air_car', 'air_car', 'air_car', 'air_car', 'air_car', 'air_car', 'air_car', 'air_car', 'air_car', 'air_car', 'air_car', 'air_car', 'air_car', 'air_car', 'air_car', 'air_car', 'air_car', 'air_car', 'air_car', 'air_car', 'air_car', 'air_car', 'air_car', 'air_car', 'air_car', 'air_car', 'air_car', 'air_car', 'air_car', 'air_car', 'air_car', 'air_car', 'air_car', 'air_car', 'air_car', 'air_car', 'air_car', 'air_car', 'air_car', 'air_car', 'air_car', 'air_car', 'air_car', 'air_car', 'air_car', 'air_car', 'air_car', 'air_car', 'air_car', 'air_car', 'air_car', 'air_car', 'air_car', 'air_car', 'air_car', 'air_car', 'air_car', 'air_car', 'air_car', 'air_car', 'air_car', 'air_car', 'air_car', 'air_car', 'air_car', 'air_car', 'air_car', 'air_car', 'air_car', 'air_car', 'air_car', 'air_car', 'air_car', 'air_car', 'air_car', 'air_car', 'air_car', 'air_car', 'air_car', 'air_car', 'air_car', 'air_car', 'air_car', 'air_car', 'air_car', 'air_car', 'air_car', 'air_car', 'air_car', 'air_car', 'air_car', 'air_car', 'air_car', 'air_car', 'air_car', 'air_car', 'air_car', 'air_car', 'air_car', 'air_car', 'air_car', 'air_car', 'air_car', 'air_car', 'air_car', 'air_car', 'air_car', 'air_car', 'air_car', 'air_car', 'air_car', 'air_car', 'air_car', 'air_car', 'air_car', 'air_car', 'air_car', 'air_car', 'air_car', 'air_car', 'air_car', 'air_car', 'air_car', 'air_car', 'air_car', 'air_car', 'air_car', 'air_car', 'air_car', 'air_car', 'air_car', 'air_car', 'air_car', 'air_car', 'air_car', 'air_car', 'air_car', 'air_car', 'air_car', 'air_car', 'air_car', 'air_car', 'air_car', 'air_car', 'air_car', 'air_car', 'air_car', 'air_car', 'air_car', 'air_car', 'air_car', 'air_car', 'air_car', 'air_car', 'air_car', 'air_car', 'air_car', 'air_car', 'air_car', 'air_car', 'air_car', 'air_car', 'air_car', 'air_car', 'air_car', 'air_car', 'air_car', 'air_car', 'air_car', 'air_car', 'air_car', 'air_car', 'air_car', 'air_car', 'air_car', 'air_car', 'air_car', 'air_car', 'air_car', 'air_car', 'air_car', 'air_car', 'air_car', 'air_car', 'air_car', 'air_car', 'air_car', 'air_car', 'air_car', 'air_car', 'air_car', 'air_car', 'air_car', 'air_car', 'air_car', 'air_car', 'air_car', 'air_car', 'air_car', 'air_car', 'air_car', 'air_car', 'air_car', 'air_car', 'air_car', 'air_car', 'air_car', 'air_car', 'air_car', 'air_car', 'air_car', 'air_car', 'air_car', 'air_car', 'air_car', 'air_car', 'air_car', 'air_car', 'air_car', 'air_car', 'air_car', 'air_car', 'air_car', 'air_car', 'air_car', 'air_car', 'air_car', 'air_car', 'air_car', 'air_car', 'air_car', 'air_car', 'air_car', 'air_car', 'air_car', 'air_car', 'air_car', 'air_car', 'air_car', 'air_car', 'air_car', 'air_car', 'air_car', 'air_car', 'air_car', 'air_car', 'air_car', 'air_car', 'air_car', 'air_car', 'air_car', 'air_car', 'air_car', 'air_car', 'air_car', 'air_car', 'air_car', 'air_car', 'air_car', 'air_car', 'air_car', 'air_car', 'air_car', 'air_car', 'air_car', 'air_car', 'air_car', 'air_car', 'air_car', 'air_car', 'air_car', 'air_car', 'air_car', 'air_car', 'air_car', 'air_car', 'air_car', 'air_car', 'air_car', 'air_car', 'air_car', 'air_car', 'air_car', 'air_car', 'air_car', 'air_car', 'air_car', 'air_car', 'air_car', 'air_car', 'air_car', 'air_car', 'air_car', 'air_car', 'air_car', 'air_car', 'air_car', 'air_car', 'air_car', 'air_car', 'air_car', 'air_car', 'air_car', 'air_car', 'air_car', 'air_car', 'air_car', 'air_car', 'air_car', 'air_car', 'air_car', 'air_car', 'air_car', 'air_car', 'air_car', 'air_car', 'air_car', 'air_car', 'air_car', 'air_car', 'air_car', 'air_car', 'air_car', 'air_car', 'air_car', 'air_car', 'air_car', 'air_car', 'air_car', 'air_car', 'air_car', 'air_car', 'air_car', 'air_car', 'air_car', 'air_car', 'air_car', 'air_car', 'air_car', 'air_car', 'air_car', 'container', 'container', 'container', 'container', 'container', 'container', 'container', 'container', 'container', 'container', 'container', 'container', 'container', 'container', 'container', 'container', 'container', 'container', 'container', 'container', 'container', 'container', 'container', 'container', 'container', 'container', 'container', 'container', 'container', 'container', 'container', 'container', 'container', 'container', 'container', 'container', 'container', 'container', 'container', 'container', 'container', 'container', 'container', 'container', 'container', 'container', 'container', 'container', 'container', 'container', 'container', 'container', 'container', 'container', 'container', 'container', 'container', 'container', 'container', 'container', 'container', 'container', 'container', 'container', 'container', 'container', 'container', 'container', 'container', 'container', 'container', 'container', 'container', 'container', 'container', 'container', 'container', 'container', 'container', 'container', 'container', 'container', 'container', 'container', 'container', 'container', 'container', 'container', 'container', 'container', 'container', 'container', 'container', 'container', 'container', 'container', 'container', 'container', 'container', 'container', 'container', 'container', 'container', 'container', 'container', 'container', 'container', 'container', 'container', 'container', 'container', 'container', 'container', 'container', 'container', 'container', 'container', 'container', 'container', 'container', 'container', 'container', 'container', 'container', 'container', 'container', 'container', 'container', 'container', 'container', 'container', 'container', 'container', 'container', 'container', 'container', 'container', 'container', 'container', 'container', 'container', 'container', 'container', 'container', 'container', 'container', 'container', 'container', 'container', 'container', 'container', 'container', 'container', 'container', 'container', 'container', 'container', 'container', 'container', 'container', 'container', 'container', 'container', 'container', 'container', 'container', 'container', 'container', 'container', 'container', 'container', 'container', 'container', 'container', 'container', 'container', 'container', 'container', 'container', 'container', 'container', 'container', 'container', 'container', 'container', 'container', 'container', 'container', 'container', 'container', 'container', 'container', 'container', 'container', 'container', 'container', 'container', 'container', 'container', 'container', 'container', 'container', 'container', 'container', 'container', 'container', 'container', 'container', 'container', 'container', 'container', 'container', 'container', 'container', 'container', 'container', 'container', 'container', 'container', 'container', 'container', 'container', 'container', 'container', 'container', 'container', 'container', 'container', 'container', 'container', 'container', 'container', 'container', 'container', 'container', 'container', 'container', 'container', 'container', 'container', 'container', 'container', 'container', 'container', 'container', 'container', 'container', 'container', 'container', 'container', 'container', 'container', 'container', 'container', 'container', 'container', 'container', 'container', 'container', 'container', 'container', 'container', 'container', 'container', 'container', 'container', 'container', 'container', 'container', 'container', 'container', 'container', 'container', 'container', 'container', 'container', 'container', 'container', 'container', 'container', 'container', 'container', 'container', 'container', 'container', 'container', 'container', 'container', 'container', 'container', 'container', 'container', 'container', 'container', 'container', 'container', 'container', 'container', 'container', 'container', 'container', 'container', 'container', 'container', 'container', 'container', 'container', 'container', 'container', 'container', 'container', 'container', 'container', 'container', 'container', 'container', 'container', 'container', 'container', 'container', 'container', 'container', 'container', 'container', 'container', 'container', 'container', 'container', 'container', 'container', 'container', 'container', 'container', 'container', 'container', 'container', 'container', 'container', 'container', 'container', 'container', 'container', 'container', 'container', 'container', 'container', 'container', 'container', 'container', 'container', 'container', 'container', 'container', 'container', 'container', 'container', 'container', 'container', 'container', 'container', 'container', 'container', 'container', 'container', 'container', 'container', 'container', 'container', 'container', 'container', 'container', 'container', 'container', 'container', 'container', 'container', 'container', 'container', 'container', 'container', 'container', 'container', 'container', 'container', 'container', 'container', 'container', 'container', 'container', 'container', 'container', 'container', 'container', 'container', 'container', 'container', 'container', 'container', 'container', 'container', 'container', 'container', 'container', 'container', 'container', 'container', 'container', 'container', 'container', 'container', 'container', 'container', 'container', 'container', 'container', 'container', 'container', 'container', 'container', 'container', 'container', 'container', 'container', 'container', 'container', 'container', 'container', 'container', 'container', 'container', 'container', 'container', 'container', 'container', 'container', 'container', 'container', 'container', 'container', 'container', 'container', 'container', 'container', 'container', 'container', 'container', 'container', 'container', 'container', 'container', 'container', 'container', 'container', 'container', 'container', 'container', 'container', 'container', 'container', 'container', 'container', 'container', 'container', 'container', 'container', 'container', 'container', 'container', 'container', 'container', 'container', 'container', 'container', 'container', 'container', 'container', 'container', 'container', 'container', 'container', 'container', 'container', 'container', 'container', 'container', 'container', 'container', 'container', 'container', 'container', 'container', 'container', 'container', 'container', 'container', 'container', 'container', 'container', 'container', 'container', 'tanker', 'tanker', 'tanker', 'tanker', 'tanker', 'tanker', 'tanker', 'tanker', 'tanker', 'tanker', 'tanker', 'tanker', 'tanker', 'tanker', 'tanker', 'tanker', 'tanker', 'tanker', 'tanker', 'tanker', 'tanker', 'tanker', 'tanker', 'tanker', 'tanker', 'tanker', 'tanker', 'tanker', 'tanker', 'tanker', 'tanker', 'tanker', 'tanker', 'tanker', 'tanker', 'tanker', 'tanker', 'tanker', 'tanker', 'tanker', 'tanker', 'tanker', 'tanker', 'tanker', 'tanker', 'tanker', 'tanker', 'tanker', 'tanker', 'tanker', 'tanker', 'tanker', 'tanker', 'tanker', 'tanker', 'tanker', 'tanker', 'tanker', 'tanker', 'tanker', 'tanker', 'tanker', 'tanker', 'tanker', 'tanker', 'tanker', 'tanker', 'tanker', 'tanker', 'tanker', 'tanker', 'tanker', 'tanker', 'tanker', 'tanker', 'tanker', 'tanker', 'tanker', 'tanker', 'tanker', 'tanker', 'tanker', 'tanker', 'tanker', 'tanker', 'tanker', 'tanker', 'tanker', 'tanker', 'tanker', 'tanker', 'tanker', 'tanker', 'tanker', 'tanker', 'tanker', 'tanker', 'tanker', 'tanker', 'tanker', 'tanker', 'tanker', 'tanker', 'tanker', 'tanker', 'tanker', 'tanker', 'tanker', 'tanker', 'tanker', 'tanker', 'tanker', 'tanker', 'tanker', 'tanker', 'tanker', 'tanker', 'tanker', 'tanker', 'tanker', 'tanker', 'tanker', 'tanker', 'tanker', 'tanker', 'tanker', 'tanker', 'tanker', 'tanker', 'tanker', 'tanker', 'tanker', 'tanker', 'tanker', 'tanker', 'tanker', 'tanker', 'tanker', 'tanker', 'tanker', 'tanker', 'tanker', 'tanker', 'tanker', 'tanker', 'tanker', 'tanker', 'tanker', 'tanker', 'tanker', 'tanker', 'tanker', 'tanker', 'tanker', 'tanker', 'tanker', 'tanker', 'tanker', 'tanker', 'tanker', 'tanker', 'tanker', 'tanker', 'tanker', 'tanker', 'tanker', 'tanker', 'tanker', 'tanker', 'tanker', 'tanker', 'tanker', 'tanker', 'tanker', 'tanker', 'tanker', 'tanker', 'tanker', 'tanker', 'tanker', 'tanker', 'tanker', 'tanker', 'tanker', 'tanker', 'tanker', 'tanker', 'tanker', 'tanker', 'tanker', 'tanker', 'tanker', 'tanker', 'tanker', 'tanker', 'tanker', 'tanker', 'tanker', 'tanker', 'tanker', 'tanker', 'tanker', 'tanker', 'tanker', 'tanker', 'tanker', 'tanker', 'tanker', 'tanker', 'tanker', 'tanker', 'tanker', 'tanker', 'tanker', 'tanker', 'tanker', 'tanker', 'tanker', 'tanker', 'tanker', 'tanker', 'tanker', 'tanker', 'tanker', 'tanker', 'tanker', 'tanker', 'tanker', 'tanker', 'tanker', 'tanker', 'tanker', 'tanker', 'tanker', 'tanker', 'tanker', 'tanker', 'tanker', 'tanker', 'tanker', 'tanker', 'tanker', 'tanker', 'tanker', 'tanker', 'tanker', 'tanker', 'tanker', 'tanker', 'tanker', 'tanker', 'tanker', 'tanker', 'tanker', 'tanker', 'tanker', 'tanker', 'tanker', 'tanker', 'tanker', 'tanker', 'tanker', 'tanker', 'tanker', 'tanker', 'tanker', 'tanker', 'tanker', 'tanker', 'tanker', 'tanker', 'tanker', 'tanker', 'tanker', 'tanker', 'tanker', 'tanker', 'tanker', 'tanker', 'tanker', 'tanker', 'tanker', 'tanker', 'tanker', 'tanker', 'tanker', 'tanker', 'tanker', 'tanker', 'tanker', 'tanker', 'tanker', 'tanker', 'tanker', 'tanker', 'tanker', 'tanker', 'tanker', 'tanker', 'tanker', 'tanker', 'tanker', 'tanker', 'tanker', 'tanker', 'tanker', 'tanker', 'tanker', 'tanker', 'tanker', 'tanker', 'tanker', 'tanker', 'tanker', 'tanker', 'tanker', 'tanker', 'tanker', 'tanker', 'tanker', 'tanker', 'tanker', 'tanker', 'tanker', 'tanker', 'tanker', 'tanker', 'tanker', 'tanker', 'tanker', 'tanker', 'tanker', 'tanker', 'tanker', 'tanker', 'tanker', 'tanker', 'tanker', 'tanker', 'tanker', 'tanker', 'tanker', 'tanker', 'tanker', 'tanker', 'tanker', 'tanker', 'tanker', 'tanker', 'tanker', 'tanker', 'tanker', 'tanker', 'tanker', 'tanker', 'tanker', 'tanker', 'tanker', 'tanker', 'tanker', 'tanker', 'tanker', 'tanker', 'tanker', 'tanker', 'tanker', 'tanker', 'tanker', 'tanker', 'tanker', 'tanker', 'tanker', 'tanker', 'tanker', 'tanker', 'tanker', 'tanker', 'tanker', 'tanker', 'tanker', 'tanker', 'tanker', 'tanker', 'tanker', 'tanker', 'tanker', 'tanker', 'tanker', 'tanker', 'tanker', 'tanker', 'tanker', 'tanker', 'tanker', 'tanker', 'tanker', 'tanker', 'tanker', 'tanker', 'tanker', 'tanker', 'tanker', 'tanker', 'tanker', 'tanker', 'tanker', 'tanker', 'tanker', 'tanker', 'tanker', 'tanker', 'tanker', 'tanker', 'tanker', 'tanker', 'tanker', 'tanker', 'tanker', 'tanker', 'tanker', 'tanker', 'tanker', 'tanker', 'tanker', 'tanker', 'tanker', 'tanker', 'tanker', 'tanker', 'tanker', 'tanker', 'tanker', 'tanker', 'tanker', 'tanker', 'tanker', 'tanker', 'tanker', 'tanker', 'tanker', 'tanker', 'tanker', 'tanker', 'tanker', 'tanker', 'tanker', 'tanker', 'tanker', 'tanker', 'tanker', 'tanker', 'tanker', 'tanker', 'tanker', 'tanker', 'tanker', 'tanker', 'tanker', 'tanker', 'tanker', 'tanker', 'tanker', 'tanker', 'tanker', 'tanker', 'tanker', 'tanker', 'tanker', 'tanker', 'tanker', 'tanker', 'tanker', 'tanker', 'tanker', 'tanker', 'tanker', 'tanker', 'tanker', 'tanker', 'tanker', 'tanker', 'tanker', 'tanker', 'tanker', 'tanker', 'tanker', 'tanker', 'tanker', 'tanker', 'tanker', 'tanker', 'tanker', 'tanker', 'tanker', 'tanker', 'tanker', 'tanker', 'tanker', 'tanker', 'tanker']\n",
            "[2 2 2 ... 4 4 4]\n",
            "[[0. 0. 1. 0. 0.]\n",
            " [0. 0. 1. 0. 0.]\n",
            " [0. 0. 1. 0. 0.]\n",
            " ...\n",
            " [0. 0. 0. 0. 1.]\n",
            " [0. 0. 0. 0. 1.]\n",
            " [0. 0. 0. 0. 1.]]\n"
          ]
        }
      ]
    },
    {
      "cell_type": "code",
      "source": [
        "from keras.applications.vgg16  import VGG16\n",
        "from keras.models import Sequential, Model\n",
        "\n",
        "\n",
        "img_height,img_width = 224,224          ## default input size\n",
        "num_classes = len(categories)                        ## Total Classes\n",
        "\n",
        "base_model = VGG16(weights='imagenet', include_top=False, input_shape= (img_height,img_width,3))\n",
        "\n",
        "# Final dense layers\n",
        "x = base_model.output           ## getting features\n",
        "x = GlobalAveragePooling2D()(x) ## Average Pooling\n",
        "x = Dropout(0.3)(x)             ## Dropout\n",
        "\n",
        "# Final softmax layer\n",
        "predictions = Dense(num_classes, activation= 'softmax')(x)  \n",
        "model = Model(inputs = base_model.input, outputs = predictions)\n",
        "\n",
        "\n",
        "# compiling the model\n",
        "adam = adam_v2.Adam(lr=1e-5, decay=1e-6)\n",
        "model.compile(adam, 'categorical_crossentropy', metrics=['accuracy'])"
      ],
      "metadata": {
        "colab": {
          "base_uri": "https://localhost:8080/"
        },
        "id": "hF2Acwx_MVfw",
        "outputId": "f8dddca1-aeba-4d99-84df-fcd79a4918dc"
      },
      "execution_count": null,
      "outputs": [
        {
          "output_type": "stream",
          "name": "stderr",
          "text": [
            "/usr/local/lib/python3.7/dist-packages/keras/optimizer_v2/adam.py:105: UserWarning: The `lr` argument is deprecated, use `learning_rate` instead.\n",
            "  super(Adam, self).__init__(name, **kwargs)\n"
          ]
        }
      ]
    },
    {
      "cell_type": "code",
      "source": [
        "model.summary()"
      ],
      "metadata": {
        "colab": {
          "base_uri": "https://localhost:8080/"
        },
        "id": "UPmx88a0OvES",
        "outputId": "034db1dd-6141-4a24-d8bf-01f491335d30"
      },
      "execution_count": null,
      "outputs": [
        {
          "output_type": "stream",
          "name": "stdout",
          "text": [
            "Model: \"model_2\"\n",
            "_________________________________________________________________\n",
            " Layer (type)                Output Shape              Param #   \n",
            "=================================================================\n",
            " input_3 (InputLayer)        [(None, 224, 224, 3)]     0         \n",
            "                                                                 \n",
            " block1_conv1 (Conv2D)       (None, 224, 224, 64)      1792      \n",
            "                                                                 \n",
            " block1_conv2 (Conv2D)       (None, 224, 224, 64)      36928     \n",
            "                                                                 \n",
            " block1_pool (MaxPooling2D)  (None, 112, 112, 64)      0         \n",
            "                                                                 \n",
            " block2_conv1 (Conv2D)       (None, 112, 112, 128)     73856     \n",
            "                                                                 \n",
            " block2_conv2 (Conv2D)       (None, 112, 112, 128)     147584    \n",
            "                                                                 \n",
            " block2_pool (MaxPooling2D)  (None, 56, 56, 128)       0         \n",
            "                                                                 \n",
            " block3_conv1 (Conv2D)       (None, 56, 56, 256)       295168    \n",
            "                                                                 \n",
            " block3_conv2 (Conv2D)       (None, 56, 56, 256)       590080    \n",
            "                                                                 \n",
            " block3_conv3 (Conv2D)       (None, 56, 56, 256)       590080    \n",
            "                                                                 \n",
            " block3_pool (MaxPooling2D)  (None, 28, 28, 256)       0         \n",
            "                                                                 \n",
            " block4_conv1 (Conv2D)       (None, 28, 28, 512)       1180160   \n",
            "                                                                 \n",
            " block4_conv2 (Conv2D)       (None, 28, 28, 512)       2359808   \n",
            "                                                                 \n",
            " block4_conv3 (Conv2D)       (None, 28, 28, 512)       2359808   \n",
            "                                                                 \n",
            " block4_pool (MaxPooling2D)  (None, 14, 14, 512)       0         \n",
            "                                                                 \n",
            " block5_conv1 (Conv2D)       (None, 14, 14, 512)       2359808   \n",
            "                                                                 \n",
            " block5_conv2 (Conv2D)       (None, 14, 14, 512)       2359808   \n",
            "                                                                 \n",
            " block5_conv3 (Conv2D)       (None, 14, 14, 512)       2359808   \n",
            "                                                                 \n",
            " block5_pool (MaxPooling2D)  (None, 7, 7, 512)         0         \n",
            "                                                                 \n",
            " global_average_pooling2d_2   (None, 512)              0         \n",
            " (GlobalAveragePooling2D)                                        \n",
            "                                                                 \n",
            " dropout_2 (Dropout)         (None, 512)               0         \n",
            "                                                                 \n",
            " dense_2 (Dense)             (None, 5)                 2565      \n",
            "                                                                 \n",
            "=================================================================\n",
            "Total params: 14,717,253\n",
            "Trainable params: 14,717,253\n",
            "Non-trainable params: 0\n",
            "_________________________________________________________________\n"
          ]
        }
      ]
    },
    {
      "cell_type": "code",
      "source": [
        "X_train, X_val, y_train, y_val = train_test_split(X,Y,stratify=Y,test_size=0.3)"
      ],
      "metadata": {
        "id": "g8acmRiFO8Ol"
      },
      "execution_count": null,
      "outputs": []
    },
    {
      "cell_type": "code",
      "source": [
        "print(X_train.shape,y_train.shape)"
      ],
      "metadata": {
        "colab": {
          "base_uri": "https://localhost:8080/"
        },
        "id": "kak9oT6OPASb",
        "outputId": "a78136f6-50c5-4680-dc51-969e6bd087b1"
      },
      "execution_count": null,
      "outputs": [
        {
          "output_type": "stream",
          "name": "stdout",
          "text": [
            "(1750, 224, 224, 3) (1750, 5)\n"
          ]
        }
      ]
    },
    {
      "cell_type": "code",
      "source": [
        "print(X_val.shape,y_val.shape)"
      ],
      "metadata": {
        "colab": {
          "base_uri": "https://localhost:8080/"
        },
        "id": "mAJ62ZhLPG_F",
        "outputId": "7cde66e0-e5a0-401a-c584-7afb61c2d0fd"
      },
      "execution_count": null,
      "outputs": [
        {
          "output_type": "stream",
          "name": "stdout",
          "text": [
            "(750, 224, 224, 3) (750, 5)\n"
          ]
        }
      ]
    },
    {
      "cell_type": "code",
      "source": [
        "early_stopping = EarlyStopping(patience=15, verbose=1,restore_best_weights=True)"
      ],
      "metadata": {
        "id": "4PnHXxiCPbIq"
      },
      "execution_count": null,
      "outputs": []
    },
    {
      "cell_type": "code",
      "source": [
        "from keras.callbacks import ModelCheckpoint\n",
        "\n",
        "filepath=\"/content/drive/MyDrive/Colab Notebooks/Gyan Data datasets/ships_classify_VGG.h5\"\n",
        "checkpoint = ModelCheckpoint(filepath, monitor='val_accuracy', verbose=1, save_best_only=True, mode='max')"
      ],
      "metadata": {
        "id": "DVJObqC5PcZl"
      },
      "execution_count": null,
      "outputs": []
    },
    {
      "cell_type": "code",
      "source": [
        "history = model.fit(X_train, y_train,batch_size=25,epochs=50, callbacks=[checkpoint,early_stopping], validation_data=(X_val,y_val))"
      ],
      "metadata": {
        "colab": {
          "base_uri": "https://localhost:8080/"
        },
        "id": "Z6I-zfJ0PthZ",
        "outputId": "2bccfe17-0cc2-4c44-fe37-ccd46aef3303"
      },
      "execution_count": null,
      "outputs": [
        {
          "output_type": "stream",
          "name": "stdout",
          "text": [
            "Epoch 1/50\n",
            "70/70 [==============================] - ETA: 0s - loss: 1.7628 - accuracy: 0.4240\n",
            "Epoch 1: val_accuracy improved from -inf to 0.81333, saving model to /content/drive/MyDrive/Colab Notebooks/Gyan Data datasets/ships_classify_VGG.h5\n",
            "70/70 [==============================] - 61s 857ms/step - loss: 1.7628 - accuracy: 0.4240 - val_loss: 0.7100 - val_accuracy: 0.8133\n",
            "Epoch 2/50\n",
            "70/70 [==============================] - ETA: 0s - loss: 0.5166 - accuracy: 0.8560\n",
            "Epoch 2: val_accuracy improved from 0.81333 to 0.96133, saving model to /content/drive/MyDrive/Colab Notebooks/Gyan Data datasets/ships_classify_VGG.h5\n",
            "70/70 [==============================] - 63s 896ms/step - loss: 0.5166 - accuracy: 0.8560 - val_loss: 0.2099 - val_accuracy: 0.9613\n",
            "Epoch 3/50\n",
            "70/70 [==============================] - ETA: 0s - loss: 0.1974 - accuracy: 0.9497\n",
            "Epoch 3: val_accuracy improved from 0.96133 to 0.98667, saving model to /content/drive/MyDrive/Colab Notebooks/Gyan Data datasets/ships_classify_VGG.h5\n",
            "70/70 [==============================] - 63s 896ms/step - loss: 0.1974 - accuracy: 0.9497 - val_loss: 0.0745 - val_accuracy: 0.9867\n",
            "Epoch 4/50\n",
            "70/70 [==============================] - ETA: 0s - loss: 0.0920 - accuracy: 0.9800\n",
            "Epoch 4: val_accuracy improved from 0.98667 to 0.99067, saving model to /content/drive/MyDrive/Colab Notebooks/Gyan Data datasets/ships_classify_VGG.h5\n",
            "70/70 [==============================] - 60s 853ms/step - loss: 0.0920 - accuracy: 0.9800 - val_loss: 0.0507 - val_accuracy: 0.9907\n",
            "Epoch 5/50\n",
            "70/70 [==============================] - ETA: 0s - loss: 0.0607 - accuracy: 0.9869\n",
            "Epoch 5: val_accuracy improved from 0.99067 to 0.99333, saving model to /content/drive/MyDrive/Colab Notebooks/Gyan Data datasets/ships_classify_VGG.h5\n",
            "70/70 [==============================] - 59s 848ms/step - loss: 0.0607 - accuracy: 0.9869 - val_loss: 0.0425 - val_accuracy: 0.9933\n",
            "Epoch 6/50\n",
            "70/70 [==============================] - ETA: 0s - loss: 0.0443 - accuracy: 0.9909\n",
            "Epoch 6: val_accuracy improved from 0.99333 to 0.99733, saving model to /content/drive/MyDrive/Colab Notebooks/Gyan Data datasets/ships_classify_VGG.h5\n",
            "70/70 [==============================] - 62s 889ms/step - loss: 0.0443 - accuracy: 0.9909 - val_loss: 0.0196 - val_accuracy: 0.9973\n",
            "Epoch 7/50\n",
            "70/70 [==============================] - ETA: 0s - loss: 0.0591 - accuracy: 0.9863\n",
            "Epoch 7: val_accuracy did not improve from 0.99733\n",
            "70/70 [==============================] - 60s 862ms/step - loss: 0.0591 - accuracy: 0.9863 - val_loss: 0.0522 - val_accuracy: 0.9933\n",
            "Epoch 8/50\n",
            "70/70 [==============================] - ETA: 0s - loss: 0.0270 - accuracy: 0.9949\n",
            "Epoch 8: val_accuracy did not improve from 0.99733\n",
            "70/70 [==============================] - 60s 862ms/step - loss: 0.0270 - accuracy: 0.9949 - val_loss: 0.0706 - val_accuracy: 0.9893\n",
            "Epoch 9/50\n",
            "70/70 [==============================] - ETA: 0s - loss: 0.0244 - accuracy: 0.9966\n",
            "Epoch 9: val_accuracy did not improve from 0.99733\n",
            "70/70 [==============================] - 57s 821ms/step - loss: 0.0244 - accuracy: 0.9966 - val_loss: 0.0190 - val_accuracy: 0.9947\n",
            "Epoch 10/50\n",
            "70/70 [==============================] - ETA: 0s - loss: 0.0473 - accuracy: 0.9914\n",
            "Epoch 10: val_accuracy did not improve from 0.99733\n",
            "70/70 [==============================] - 57s 822ms/step - loss: 0.0473 - accuracy: 0.9914 - val_loss: 0.0693 - val_accuracy: 0.9840\n",
            "Epoch 11/50\n",
            "70/70 [==============================] - ETA: 0s - loss: 0.0168 - accuracy: 0.9983\n",
            "Epoch 11: val_accuracy did not improve from 0.99733\n",
            "70/70 [==============================] - 57s 821ms/step - loss: 0.0168 - accuracy: 0.9983 - val_loss: 0.0220 - val_accuracy: 0.9947\n",
            "Epoch 12/50\n",
            "70/70 [==============================] - ETA: 0s - loss: 0.0078 - accuracy: 0.9983\n",
            "Epoch 12: val_accuracy did not improve from 0.99733\n",
            "70/70 [==============================] - 60s 863ms/step - loss: 0.0078 - accuracy: 0.9983 - val_loss: 0.0188 - val_accuracy: 0.9960\n",
            "Epoch 13/50\n",
            "70/70 [==============================] - ETA: 0s - loss: 0.0360 - accuracy: 0.9920\n",
            "Epoch 13: val_accuracy did not improve from 0.99733\n",
            "70/70 [==============================] - 57s 821ms/step - loss: 0.0360 - accuracy: 0.9920 - val_loss: 0.0171 - val_accuracy: 0.9973\n",
            "Epoch 14/50\n",
            "70/70 [==============================] - ETA: 0s - loss: 0.0129 - accuracy: 0.9977\n",
            "Epoch 14: val_accuracy improved from 0.99733 to 0.99867, saving model to /content/drive/MyDrive/Colab Notebooks/Gyan Data datasets/ships_classify_VGG.h5\n",
            "70/70 [==============================] - 59s 849ms/step - loss: 0.0129 - accuracy: 0.9977 - val_loss: 0.0074 - val_accuracy: 0.9987\n",
            "Epoch 15/50\n",
            "70/70 [==============================] - ETA: 0s - loss: 0.0086 - accuracy: 0.9983\n",
            "Epoch 15: val_accuracy did not improve from 0.99867\n",
            "70/70 [==============================] - 60s 861ms/step - loss: 0.0086 - accuracy: 0.9983 - val_loss: 0.0284 - val_accuracy: 0.9947\n",
            "Epoch 16/50\n",
            "70/70 [==============================] - ETA: 0s - loss: 0.0072 - accuracy: 0.9983\n",
            "Epoch 16: val_accuracy did not improve from 0.99867\n",
            "70/70 [==============================] - 60s 862ms/step - loss: 0.0072 - accuracy: 0.9983 - val_loss: 0.0067 - val_accuracy: 0.9987\n",
            "Epoch 17/50\n",
            "70/70 [==============================] - ETA: 0s - loss: 0.0054 - accuracy: 0.9983\n",
            "Epoch 17: val_accuracy did not improve from 0.99867\n",
            "70/70 [==============================] - 60s 861ms/step - loss: 0.0054 - accuracy: 0.9983 - val_loss: 0.0094 - val_accuracy: 0.9973\n",
            "Epoch 18/50\n",
            "70/70 [==============================] - ETA: 0s - loss: 0.0047 - accuracy: 0.9994\n",
            "Epoch 18: val_accuracy did not improve from 0.99867\n",
            "70/70 [==============================] - 60s 862ms/step - loss: 0.0047 - accuracy: 0.9994 - val_loss: 0.0577 - val_accuracy: 0.9893\n",
            "Epoch 19/50\n",
            "70/70 [==============================] - ETA: 0s - loss: 0.0455 - accuracy: 0.9897\n",
            "Epoch 19: val_accuracy did not improve from 0.99867\n",
            "70/70 [==============================] - 60s 861ms/step - loss: 0.0455 - accuracy: 0.9897 - val_loss: 0.0357 - val_accuracy: 0.9933\n",
            "Epoch 20/50\n",
            "70/70 [==============================] - ETA: 0s - loss: 0.0115 - accuracy: 0.9983\n",
            "Epoch 20: val_accuracy did not improve from 0.99867\n",
            "70/70 [==============================] - 60s 861ms/step - loss: 0.0115 - accuracy: 0.9983 - val_loss: 0.0097 - val_accuracy: 0.9960\n",
            "Epoch 21/50\n",
            "70/70 [==============================] - ETA: 0s - loss: 0.0022 - accuracy: 1.0000\n",
            "Epoch 21: val_accuracy did not improve from 0.99867\n",
            "70/70 [==============================] - 60s 862ms/step - loss: 0.0022 - accuracy: 1.0000 - val_loss: 0.0061 - val_accuracy: 0.9973\n",
            "Epoch 22/50\n",
            "70/70 [==============================] - ETA: 0s - loss: 0.0047 - accuracy: 0.9994\n",
            "Epoch 22: val_accuracy did not improve from 0.99867\n",
            "70/70 [==============================] - 57s 820ms/step - loss: 0.0047 - accuracy: 0.9994 - val_loss: 0.0370 - val_accuracy: 0.9933\n",
            "Epoch 23/50\n",
            "70/70 [==============================] - ETA: 0s - loss: 0.0104 - accuracy: 0.9960\n",
            "Epoch 23: val_accuracy did not improve from 0.99867\n",
            "70/70 [==============================] - 57s 821ms/step - loss: 0.0104 - accuracy: 0.9960 - val_loss: 0.0215 - val_accuracy: 0.9947\n",
            "Epoch 24/50\n",
            "70/70 [==============================] - ETA: 0s - loss: 0.0059 - accuracy: 0.9994\n",
            "Epoch 24: val_accuracy did not improve from 0.99867\n",
            "70/70 [==============================] - 57s 821ms/step - loss: 0.0059 - accuracy: 0.9994 - val_loss: 0.0263 - val_accuracy: 0.9933\n",
            "Epoch 25/50\n",
            "70/70 [==============================] - ETA: 0s - loss: 0.0016 - accuracy: 1.0000\n",
            "Epoch 25: val_accuracy improved from 0.99867 to 1.00000, saving model to /content/drive/MyDrive/Colab Notebooks/Gyan Data datasets/ships_classify_VGG.h5\n",
            "70/70 [==============================] - 62s 889ms/step - loss: 0.0016 - accuracy: 1.0000 - val_loss: 0.0024 - val_accuracy: 1.0000\n",
            "Epoch 26/50\n",
            "70/70 [==============================] - ETA: 0s - loss: 9.4941e-04 - accuracy: 1.0000\n",
            "Epoch 26: val_accuracy did not improve from 1.00000\n",
            "70/70 [==============================] - 57s 820ms/step - loss: 9.4941e-04 - accuracy: 1.0000 - val_loss: 0.0120 - val_accuracy: 0.9960\n",
            "Epoch 27/50\n",
            "70/70 [==============================] - ETA: 0s - loss: 6.3159e-04 - accuracy: 1.0000\n",
            "Epoch 27: val_accuracy did not improve from 1.00000\n",
            "70/70 [==============================] - 60s 864ms/step - loss: 6.3159e-04 - accuracy: 1.0000 - val_loss: 0.0122 - val_accuracy: 0.9960\n",
            "Epoch 28/50\n",
            "70/70 [==============================] - ETA: 0s - loss: 0.0022 - accuracy: 0.9989\n",
            "Epoch 28: val_accuracy did not improve from 1.00000\n",
            "70/70 [==============================] - 60s 863ms/step - loss: 0.0022 - accuracy: 0.9989 - val_loss: 0.0070 - val_accuracy: 0.9960\n",
            "Epoch 29/50\n",
            "70/70 [==============================] - ETA: 0s - loss: 7.9194e-04 - accuracy: 1.0000\n",
            "Epoch 29: val_accuracy did not improve from 1.00000\n",
            "70/70 [==============================] - 58s 822ms/step - loss: 7.9194e-04 - accuracy: 1.0000 - val_loss: 0.0122 - val_accuracy: 0.9960\n",
            "Epoch 30/50\n",
            "70/70 [==============================] - ETA: 0s - loss: 3.2922e-04 - accuracy: 1.0000\n",
            "Epoch 30: val_accuracy did not improve from 1.00000\n",
            "70/70 [==============================] - 58s 827ms/step - loss: 3.2922e-04 - accuracy: 1.0000 - val_loss: 0.0103 - val_accuracy: 0.9960\n",
            "Epoch 31/50\n",
            "70/70 [==============================] - ETA: 0s - loss: 4.2128e-04 - accuracy: 1.0000\n",
            "Epoch 31: val_accuracy did not improve from 1.00000\n",
            "70/70 [==============================] - 60s 862ms/step - loss: 4.2128e-04 - accuracy: 1.0000 - val_loss: 0.0068 - val_accuracy: 0.9960\n",
            "Epoch 32/50\n",
            "70/70 [==============================] - ETA: 0s - loss: 5.8412e-04 - accuracy: 1.0000\n",
            "Epoch 32: val_accuracy did not improve from 1.00000\n",
            "70/70 [==============================] - 60s 864ms/step - loss: 5.8412e-04 - accuracy: 1.0000 - val_loss: 0.0051 - val_accuracy: 0.9987\n",
            "Epoch 33/50\n",
            "70/70 [==============================] - ETA: 0s - loss: 0.0489 - accuracy: 0.9857\n",
            "Epoch 33: val_accuracy did not improve from 1.00000\n",
            "70/70 [==============================] - 60s 861ms/step - loss: 0.0489 - accuracy: 0.9857 - val_loss: 0.0089 - val_accuracy: 0.9973\n",
            "Epoch 34/50\n",
            "70/70 [==============================] - ETA: 0s - loss: 0.0148 - accuracy: 0.9960\n",
            "Epoch 34: val_accuracy did not improve from 1.00000\n",
            "70/70 [==============================] - 57s 820ms/step - loss: 0.0148 - accuracy: 0.9960 - val_loss: 0.0065 - val_accuracy: 0.9987\n",
            "Epoch 35/50\n",
            "70/70 [==============================] - ETA: 0s - loss: 0.0233 - accuracy: 0.9949\n",
            "Epoch 35: val_accuracy did not improve from 1.00000\n",
            "70/70 [==============================] - 60s 862ms/step - loss: 0.0233 - accuracy: 0.9949 - val_loss: 0.0268 - val_accuracy: 0.9947\n",
            "Epoch 36/50\n",
            "70/70 [==============================] - ETA: 0s - loss: 0.0042 - accuracy: 0.9994\n",
            "Epoch 36: val_accuracy did not improve from 1.00000\n",
            "70/70 [==============================] - 60s 861ms/step - loss: 0.0042 - accuracy: 0.9994 - val_loss: 0.0141 - val_accuracy: 0.9947\n",
            "Epoch 37/50\n",
            "70/70 [==============================] - ETA: 0s - loss: 0.0258 - accuracy: 0.9943\n",
            "Epoch 37: val_accuracy did not improve from 1.00000\n",
            "70/70 [==============================] - 57s 819ms/step - loss: 0.0258 - accuracy: 0.9943 - val_loss: 0.0401 - val_accuracy: 0.9933\n",
            "Epoch 38/50\n",
            "70/70 [==============================] - ETA: 0s - loss: 0.0035 - accuracy: 0.9994\n",
            "Epoch 38: val_accuracy did not improve from 1.00000\n",
            "70/70 [==============================] - 57s 820ms/step - loss: 0.0035 - accuracy: 0.9994 - val_loss: 0.0368 - val_accuracy: 0.9933\n",
            "Epoch 39/50\n",
            "70/70 [==============================] - ETA: 0s - loss: 0.0018 - accuracy: 1.0000\n",
            "Epoch 39: val_accuracy did not improve from 1.00000\n",
            "70/70 [==============================] - 60s 861ms/step - loss: 0.0018 - accuracy: 1.0000 - val_loss: 0.0508 - val_accuracy: 0.9933\n",
            "Epoch 40/50\n",
            "70/70 [==============================] - ETA: 0s - loss: 0.0119 - accuracy: 0.9971\n",
            "Epoch 40: val_accuracy did not improve from 1.00000\n",
            "Restoring model weights from the end of the best epoch: 25.\n",
            "70/70 [==============================] - 60s 860ms/step - loss: 0.0119 - accuracy: 0.9971 - val_loss: 0.0120 - val_accuracy: 0.9933\n",
            "Epoch 40: early stopping\n"
          ]
        }
      ]
    },
    {
      "cell_type": "code",
      "source": [
        "plt.plot(history.history['loss'],label='train')\n",
        "plt.plot(history.history['val_loss'],label='test')\n",
        "plt.legend()\n",
        "plt.show()"
      ],
      "metadata": {
        "colab": {
          "base_uri": "https://localhost:8080/",
          "height": 265
        },
        "id": "3C9gR3Rzjn20",
        "outputId": "09299db4-d4cf-45d8-f8af-40bfd7eb484a"
      },
      "execution_count": null,
      "outputs": [
        {
          "output_type": "display_data",
          "data": {
            "text/plain": [
              "<Figure size 432x288 with 1 Axes>"
            ],
            "image/png": "[encoded data removed]"
          },
          "metadata": {
            "needs_background": "light"
          }
        }
      ]
    },
    {
      "cell_type": "code",
      "source": [
        "plt.plot(history.history['accuracy'],label='train')\n",
        "plt.plot(history.history['val_accuracy'],label='test')\n",
        "plt.legend()\n",
        "plt.show()"
      ],
      "metadata": {
        "colab": {
          "base_uri": "https://localhost:8080/",
          "height": 265
        },
        "id": "m2GZcV-5jvmS",
        "outputId": "e1afd1f8-953b-4e3a-9a37-c287fb697af5"
      },
      "execution_count": null,
      "outputs": [
        {
          "output_type": "display_data",
          "data": {
            "text/plain": [
              "<Figure size 432x288 with 1 Axes>"
            ],
            "image/png": "[encoded data removed]"
          },
          "metadata": {
            "needs_background": "light"
          }
        }
      ]
    },
    {
      "cell_type": "code",
      "source": [
        "loss, acc = model.evaluate(X_val,y_val,verbose=0)\n",
        "print(\"The Validation or Test accuracy is:\",acc)"
      ],
      "metadata": {
        "colab": {
          "base_uri": "https://localhost:8080/"
        },
        "id": "OAqYZ9Zqj0bY",
        "outputId": "f42d7ae0-057c-49e1-9b13-1911618dd068"
      },
      "execution_count": null,
      "outputs": [
        {
          "output_type": "stream",
          "name": "stdout",
          "text": [
            "The Validation or Test accuracy is: 1.0\n"
          ]
        }
      ]
    },
    {
      "cell_type": "code",
      "source": [
        "preds=model.predict(X_val, verbose=1)\n",
        "y_pred = [list(np.where(i == np.amax(i))[0])[0] for i in preds]\n",
        "y_test =[list(np.where(i == np.amax(i))[0])[0] for i in y_val]"
      ],
      "metadata": {
        "colab": {
          "base_uri": "https://localhost:8080/"
        },
        "id": "siStQGGIkAWx",
        "outputId": "3cb05a83-d094-4cbb-b9dc-d39599209e43"
      },
      "execution_count": null,
      "outputs": [
        {
          "output_type": "stream",
          "name": "stdout",
          "text": [
            "24/24 [==============================] - 6s 274ms/step\n"
          ]
        }
      ]
    },
    {
      "cell_type": "code",
      "source": [
        "print(confusion_matrix(y_pred,y_test))\n",
        "print(classification_report(y_pred,y_test))"
      ],
      "metadata": {
        "colab": {
          "base_uri": "https://localhost:8080/"
        },
        "id": "_k2s0nELkHNK",
        "outputId": "ad54eaa8-5f2c-44c6-f4b7-b0a2e9b1acb4"
      },
      "execution_count": null,
      "outputs": [
        {
          "output_type": "stream",
          "name": "stdout",
          "text": [
            "[[150   0   0   0   0]\n",
            " [  0 150   0   0   0]\n",
            " [  0   0 150   0   0]\n",
            " [  0   0   0 150   0]\n",
            " [  0   0   0   0 150]]\n",
            "              precision    recall  f1-score   support\n",
            "\n",
            "           0       1.00      1.00      1.00       150\n",
            "           1       1.00      1.00      1.00       150\n",
            "           2       1.00      1.00      1.00       150\n",
            "           3       1.00      1.00      1.00       150\n",
            "           4       1.00      1.00      1.00       150\n",
            "\n",
            "    accuracy                           1.00       750\n",
            "   macro avg       1.00      1.00      1.00       750\n",
            "weighted avg       1.00      1.00      1.00       750\n",
            "\n"
          ]
        }
      ]
    }
  ]
}