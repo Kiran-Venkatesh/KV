{
  "nbformat": 4,
  "nbformat_minor": 0,
  "metadata": {
    "colab": {
      "name": "Credit Card Lead Prediction_Analytics_Vindhya.ipynb",
      "provenance": [],
      "collapsed_sections": [],
      "mount_file_id": "1g9iqGliBw9UgKcLq_hhu8LcnX0Lhc-D3",
      "authorship_tag": "ABX9TyO+AIqffT6QlxX5lNyp2ZMv",
      "include_colab_link": true
    },
    "kernelspec": {
      "name": "python3",
      "display_name": "Python 3"
    },
    "language_info": {
      "name": "python"
    },
    "accelerator": "GPU"
  },
  "cells": [
    {
      "cell_type": "markdown",
      "metadata": {
        "id": "view-in-github",
        "colab_type": "text"
      },
      "source": [
        "<a href=\"https://colab.research.google.com/github/Kiran-Venkatesh/KV/blob/master/Credit_Card_Lead_Prediction_Analytics_Vindhya.ipynb\" target=\"_parent\"><img src=\"https://colab.research.google.com/assets/colab-badge.svg\" alt=\"Open In Colab\"/></a>"
      ]
    },
    {
      "cell_type": "code",
      "metadata": {
        "id": "slhXUfZUPvJI"
      },
      "source": [
        "import pandas as pd\n",
        "import numpy as np\n",
        "from sklearn import preprocessing\n",
        "import matplotlib.pyplot as plt \n",
        "plt.rc(\"font\", size=14)\n",
        "from sklearn.linear_model import LogisticRegression\n",
        "from sklearn.model_selection import train_test_split\n",
        "import seaborn as sns\n",
        "sns.set(style=\"white\")\n",
        "sns.set(style=\"whitegrid\", color_codes=True)"
      ],
      "execution_count": null,
      "outputs": []
    },
    {
      "cell_type": "code",
      "metadata": {
        "id": "VwBu1Au-xpd7",
        "colab": {
          "base_uri": "https://localhost:8080/",
          "height": 224
        },
        "outputId": "6257eb0c-5d08-409c-d632-3ed532cb2660"
      },
      "source": [
        "df=pd.read_csv(\"/content/drive/MyDrive/Analytics_Vindhya/train_s3TEQDk.csv\")\n",
        "df.head()"
      ],
      "execution_count": null,
      "outputs": [
        {
          "output_type": "execute_result",
          "data": {
            "text/html": [
              "<div>\n",
              "<style scoped>\n",
              "    .dataframe tbody tr th:only-of-type {\n",
              "        vertical-align: middle;\n",
              "    }\n",
              "\n",
              "    .dataframe tbody tr th {\n",
              "        vertical-align: top;\n",
              "    }\n",
              "\n",
              "    .dataframe thead th {\n",
              "        text-align: right;\n",
              "    }\n",
              "</style>\n",
              "<table border=\"1\" class=\"dataframe\">\n",
              "  <thead>\n",
              "    <tr style=\"text-align: right;\">\n",
              "      <th></th>\n",
              "      <th>ID</th>\n",
              "      <th>Gender</th>\n",
              "      <th>Age</th>\n",
              "      <th>Region_Code</th>\n",
              "      <th>Occupation</th>\n",
              "      <th>Channel_Code</th>\n",
              "      <th>Vintage</th>\n",
              "      <th>Credit_Product</th>\n",
              "      <th>Avg_Account_Balance</th>\n",
              "      <th>Is_Active</th>\n",
              "      <th>Is_Lead</th>\n",
              "    </tr>\n",
              "  </thead>\n",
              "  <tbody>\n",
              "    <tr>\n",
              "      <th>0</th>\n",
              "      <td>NNVBBKZB</td>\n",
              "      <td>Female</td>\n",
              "      <td>73</td>\n",
              "      <td>RG268</td>\n",
              "      <td>Other</td>\n",
              "      <td>X3</td>\n",
              "      <td>43</td>\n",
              "      <td>No</td>\n",
              "      <td>1045696</td>\n",
              "      <td>No</td>\n",
              "      <td>0</td>\n",
              "    </tr>\n",
              "    <tr>\n",
              "      <th>1</th>\n",
              "      <td>IDD62UNG</td>\n",
              "      <td>Female</td>\n",
              "      <td>30</td>\n",
              "      <td>RG277</td>\n",
              "      <td>Salaried</td>\n",
              "      <td>X1</td>\n",
              "      <td>32</td>\n",
              "      <td>No</td>\n",
              "      <td>581988</td>\n",
              "      <td>No</td>\n",
              "      <td>0</td>\n",
              "    </tr>\n",
              "    <tr>\n",
              "      <th>2</th>\n",
              "      <td>HD3DSEMC</td>\n",
              "      <td>Female</td>\n",
              "      <td>56</td>\n",
              "      <td>RG268</td>\n",
              "      <td>Self_Employed</td>\n",
              "      <td>X3</td>\n",
              "      <td>26</td>\n",
              "      <td>No</td>\n",
              "      <td>1484315</td>\n",
              "      <td>Yes</td>\n",
              "      <td>0</td>\n",
              "    </tr>\n",
              "    <tr>\n",
              "      <th>3</th>\n",
              "      <td>BF3NC7KV</td>\n",
              "      <td>Male</td>\n",
              "      <td>34</td>\n",
              "      <td>RG270</td>\n",
              "      <td>Salaried</td>\n",
              "      <td>X1</td>\n",
              "      <td>19</td>\n",
              "      <td>No</td>\n",
              "      <td>470454</td>\n",
              "      <td>No</td>\n",
              "      <td>0</td>\n",
              "    </tr>\n",
              "    <tr>\n",
              "      <th>4</th>\n",
              "      <td>TEASRWXV</td>\n",
              "      <td>Female</td>\n",
              "      <td>30</td>\n",
              "      <td>RG282</td>\n",
              "      <td>Salaried</td>\n",
              "      <td>X1</td>\n",
              "      <td>33</td>\n",
              "      <td>No</td>\n",
              "      <td>886787</td>\n",
              "      <td>No</td>\n",
              "      <td>0</td>\n",
              "    </tr>\n",
              "  </tbody>\n",
              "</table>\n",
              "</div>"
            ],
            "text/plain": [
              "         ID  Gender  Age  ... Avg_Account_Balance Is_Active Is_Lead\n",
              "0  NNVBBKZB  Female   73  ...             1045696        No       0\n",
              "1  IDD62UNG  Female   30  ...              581988        No       0\n",
              "2  HD3DSEMC  Female   56  ...             1484315       Yes       0\n",
              "3  BF3NC7KV    Male   34  ...              470454        No       0\n",
              "4  TEASRWXV  Female   30  ...              886787        No       0\n",
              "\n",
              "[5 rows x 11 columns]"
            ]
          },
          "metadata": {
            "tags": []
          },
          "execution_count": 2
        }
      ]
    },
    {
      "cell_type": "code",
      "metadata": {
        "colab": {
          "base_uri": "https://localhost:8080/"
        },
        "id": "iTnEqKdaKvw_",
        "outputId": "1c0402fe-41d8-47aa-8478-a7bdbd683de4"
      },
      "source": [
        "print(df.shape)\n",
        "df.columns"
      ],
      "execution_count": null,
      "outputs": [
        {
          "output_type": "stream",
          "text": [
            "(245725, 11)\n"
          ],
          "name": "stdout"
        },
        {
          "output_type": "execute_result",
          "data": {
            "text/plain": [
              "Index(['ID', 'Gender', 'Age', 'Region_Code', 'Occupation', 'Channel_Code',\n",
              "       'Vintage', 'Credit_Product', 'Avg_Account_Balance', 'Is_Active',\n",
              "       'Is_Lead'],\n",
              "      dtype='object')"
            ]
          },
          "metadata": {
            "tags": []
          },
          "execution_count": 3
        }
      ]
    },
    {
      "cell_type": "markdown",
      "metadata": {
        "id": "bje0ZdH5PYrL"
      },
      "source": [
        "**Data Exploration**"
      ]
    },
    {
      "cell_type": "code",
      "metadata": {
        "colab": {
          "base_uri": "https://localhost:8080/"
        },
        "id": "NavTMMo1OucL",
        "outputId": "b9611023-1a50-4812-a807-c12a2924f8d4"
      },
      "source": [
        "df.Is_Lead.value_counts()"
      ],
      "execution_count": null,
      "outputs": [
        {
          "output_type": "execute_result",
          "data": {
            "text/plain": [
              "0    187437\n",
              "1     58288\n",
              "Name: Is_Lead, dtype: int64"
            ]
          },
          "metadata": {
            "tags": []
          },
          "execution_count": 4
        }
      ]
    },
    {
      "cell_type": "code",
      "metadata": {
        "colab": {
          "base_uri": "https://localhost:8080/",
          "height": 302
        },
        "id": "bCh6yVXHQbfU",
        "outputId": "7622428a-7d92-4d62-9f00-359756050ac3"
      },
      "source": [
        "sns.countplot(x='Is_Lead',data=df,palette='hls')\n",
        "plt.show()\n",
        "plt.savefig('count_plot')"
      ],
      "execution_count": null,
      "outputs": [
        {
          "output_type": "display_data",
          "data": {
            "image/png": "[encoded data removed]",
            "text/plain": [
              "<Figure size 432x288 with 1 Axes>"
            ]
          },
          "metadata": {
            "tags": [],
            "needs_background": "light"
          }
        },
        {
          "output_type": "display_data",
          "data": {
            "text/plain": [
              "<Figure size 432x288 with 0 Axes>"
            ]
          },
          "metadata": {
            "tags": []
          }
        }
      ]
    },
    {
      "cell_type": "code",
      "metadata": {
        "colab": {
          "base_uri": "https://localhost:8080/"
        },
        "id": "-GhR16AgQ1Rw",
        "outputId": "f8307817-ced5-4a9f-8a4a-f030c50b901a"
      },
      "source": [
        "cc_not_interested = len(df[df['Is_Lead']==0])\n",
        "cc_interested = len(df[df['Is_Lead']==1])\n",
        "pct_of_ccni = cc_not_interested/(cc_not_interested+cc_interested)\n",
        "print(\"percentage of Credit Card Not Interested is\", pct_of_ccni*100)\n",
        "pct_of_cci = cc_interested/(cc_not_interested+cc_interested)\n",
        "print(\"percentage of Credit Card Interested\", pct_of_cci*100)\n",
        "#From this Data is imbalanced"
      ],
      "execution_count": null,
      "outputs": [
        {
          "output_type": "stream",
          "text": [
            "percentage of Credit Card Not Interested is 76.27917387323228\n",
            "percentage of Credit Card Interested 23.720826126767726\n"
          ],
          "name": "stdout"
        }
      ]
    },
    {
      "cell_type": "code",
      "metadata": {
        "colab": {
          "base_uri": "https://localhost:8080/",
          "height": 142
        },
        "id": "zye8qHtTRlkv",
        "outputId": "cfc967df-db02-4770-acd1-dea41bbca3db"
      },
      "source": [
        "df.groupby('Is_Lead').mean()"
      ],
      "execution_count": null,
      "outputs": [
        {
          "output_type": "execute_result",
          "data": {
            "text/html": [
              "<div>\n",
              "<style scoped>\n",
              "    .dataframe tbody tr th:only-of-type {\n",
              "        vertical-align: middle;\n",
              "    }\n",
              "\n",
              "    .dataframe tbody tr th {\n",
              "        vertical-align: top;\n",
              "    }\n",
              "\n",
              "    .dataframe thead th {\n",
              "        text-align: right;\n",
              "    }\n",
              "</style>\n",
              "<table border=\"1\" class=\"dataframe\">\n",
              "  <thead>\n",
              "    <tr style=\"text-align: right;\">\n",
              "      <th></th>\n",
              "      <th>Age</th>\n",
              "      <th>Vintage</th>\n",
              "      <th>Avg_Account_Balance</th>\n",
              "    </tr>\n",
              "    <tr>\n",
              "      <th>Is_Lead</th>\n",
              "      <th></th>\n",
              "      <th></th>\n",
              "      <th></th>\n",
              "    </tr>\n",
              "  </thead>\n",
              "  <tbody>\n",
              "    <tr>\n",
              "      <th>0</th>\n",
              "      <td>41.947662</td>\n",
              "      <td>41.913923</td>\n",
              "      <td>1.103018e+06</td>\n",
              "    </tr>\n",
              "    <tr>\n",
              "      <th>1</th>\n",
              "      <td>49.993944</td>\n",
              "      <td>63.183074</td>\n",
              "      <td>1.210034e+06</td>\n",
              "    </tr>\n",
              "  </tbody>\n",
              "</table>\n",
              "</div>"
            ],
            "text/plain": [
              "               Age    Vintage  Avg_Account_Balance\n",
              "Is_Lead                                           \n",
              "0        41.947662  41.913923         1.103018e+06\n",
              "1        49.993944  63.183074         1.210034e+06"
            ]
          },
          "metadata": {
            "tags": []
          },
          "execution_count": 7
        }
      ]
    },
    {
      "cell_type": "code",
      "metadata": {
        "colab": {
          "base_uri": "https://localhost:8080/",
          "height": 142
        },
        "id": "OanzHk83SGMd",
        "outputId": "687c3b82-ee1f-4da2-b590-425030477499"
      },
      "source": [
        "df.groupby('Gender').mean()"
      ],
      "execution_count": null,
      "outputs": [
        {
          "output_type": "execute_result",
          "data": {
            "text/html": [
              "<div>\n",
              "<style scoped>\n",
              "    .dataframe tbody tr th:only-of-type {\n",
              "        vertical-align: middle;\n",
              "    }\n",
              "\n",
              "    .dataframe tbody tr th {\n",
              "        vertical-align: top;\n",
              "    }\n",
              "\n",
              "    .dataframe thead th {\n",
              "        text-align: right;\n",
              "    }\n",
              "</style>\n",
              "<table border=\"1\" class=\"dataframe\">\n",
              "  <thead>\n",
              "    <tr style=\"text-align: right;\">\n",
              "      <th></th>\n",
              "      <th>Age</th>\n",
              "      <th>Vintage</th>\n",
              "      <th>Avg_Account_Balance</th>\n",
              "      <th>Is_Lead</th>\n",
              "    </tr>\n",
              "    <tr>\n",
              "      <th>Gender</th>\n",
              "      <th></th>\n",
              "      <th></th>\n",
              "      <th></th>\n",
              "      <th></th>\n",
              "    </tr>\n",
              "  </thead>\n",
              "  <tbody>\n",
              "    <tr>\n",
              "      <th>Female</th>\n",
              "      <td>41.382639</td>\n",
              "      <td>41.764257</td>\n",
              "      <td>1.107373e+06</td>\n",
              "      <td>0.203581</td>\n",
              "    </tr>\n",
              "    <tr>\n",
              "      <th>Male</th>\n",
              "      <td>45.912114</td>\n",
              "      <td>51.276489</td>\n",
              "      <td>1.145881e+06</td>\n",
              "      <td>0.265155</td>\n",
              "    </tr>\n",
              "  </tbody>\n",
              "</table>\n",
              "</div>"
            ],
            "text/plain": [
              "              Age    Vintage  Avg_Account_Balance   Is_Lead\n",
              "Gender                                                     \n",
              "Female  41.382639  41.764257         1.107373e+06  0.203581\n",
              "Male    45.912114  51.276489         1.145881e+06  0.265155"
            ]
          },
          "metadata": {
            "tags": []
          },
          "execution_count": 8
        }
      ]
    },
    {
      "cell_type": "code",
      "metadata": {
        "colab": {
          "base_uri": "https://localhost:8080/",
          "height": 142
        },
        "id": "YXs0fEK1UY8U",
        "outputId": "92d78326-59cb-4aea-d316-f3be0287855e"
      },
      "source": [
        "df.groupby('Is_Active').mean()"
      ],
      "execution_count": null,
      "outputs": [
        {
          "output_type": "execute_result",
          "data": {
            "text/html": [
              "<div>\n",
              "<style scoped>\n",
              "    .dataframe tbody tr th:only-of-type {\n",
              "        vertical-align: middle;\n",
              "    }\n",
              "\n",
              "    .dataframe tbody tr th {\n",
              "        vertical-align: top;\n",
              "    }\n",
              "\n",
              "    .dataframe thead th {\n",
              "        text-align: right;\n",
              "    }\n",
              "</style>\n",
              "<table border=\"1\" class=\"dataframe\">\n",
              "  <thead>\n",
              "    <tr style=\"text-align: right;\">\n",
              "      <th></th>\n",
              "      <th>Age</th>\n",
              "      <th>Vintage</th>\n",
              "      <th>Avg_Account_Balance</th>\n",
              "      <th>Is_Lead</th>\n",
              "    </tr>\n",
              "    <tr>\n",
              "      <th>Is_Active</th>\n",
              "      <th></th>\n",
              "      <th></th>\n",
              "      <th></th>\n",
              "      <th></th>\n",
              "    </tr>\n",
              "  </thead>\n",
              "  <tbody>\n",
              "    <tr>\n",
              "      <th>No</th>\n",
              "      <td>41.271209</td>\n",
              "      <td>41.561674</td>\n",
              "      <td>1.076315e+06</td>\n",
              "      <td>0.208151</td>\n",
              "    </tr>\n",
              "    <tr>\n",
              "      <th>Yes</th>\n",
              "      <td>47.927291</td>\n",
              "      <td>55.459014</td>\n",
              "      <td>1.210431e+06</td>\n",
              "      <td>0.282967</td>\n",
              "    </tr>\n",
              "  </tbody>\n",
              "</table>\n",
              "</div>"
            ],
            "text/plain": [
              "                 Age    Vintage  Avg_Account_Balance   Is_Lead\n",
              "Is_Active                                                     \n",
              "No         41.271209  41.561674         1.076315e+06  0.208151\n",
              "Yes        47.927291  55.459014         1.210431e+06  0.282967"
            ]
          },
          "metadata": {
            "tags": []
          },
          "execution_count": 9
        }
      ]
    },
    {
      "cell_type": "code",
      "metadata": {
        "colab": {
          "base_uri": "https://localhost:8080/",
          "height": 142
        },
        "id": "yiJr6nXZUHy_",
        "outputId": "6af122b4-18cb-4d99-c4ed-4e060be1f6ef"
      },
      "source": [
        "df.groupby('Credit_Product').mean()"
      ],
      "execution_count": null,
      "outputs": [
        {
          "output_type": "execute_result",
          "data": {
            "text/html": [
              "<div>\n",
              "<style scoped>\n",
              "    .dataframe tbody tr th:only-of-type {\n",
              "        vertical-align: middle;\n",
              "    }\n",
              "\n",
              "    .dataframe tbody tr th {\n",
              "        vertical-align: top;\n",
              "    }\n",
              "\n",
              "    .dataframe thead th {\n",
              "        text-align: right;\n",
              "    }\n",
              "</style>\n",
              "<table border=\"1\" class=\"dataframe\">\n",
              "  <thead>\n",
              "    <tr style=\"text-align: right;\">\n",
              "      <th></th>\n",
              "      <th>Age</th>\n",
              "      <th>Vintage</th>\n",
              "      <th>Avg_Account_Balance</th>\n",
              "      <th>Is_Lead</th>\n",
              "    </tr>\n",
              "    <tr>\n",
              "      <th>Credit_Product</th>\n",
              "      <th></th>\n",
              "      <th></th>\n",
              "      <th></th>\n",
              "      <th></th>\n",
              "    </tr>\n",
              "  </thead>\n",
              "  <tbody>\n",
              "    <tr>\n",
              "      <th>No</th>\n",
              "      <td>40.791600</td>\n",
              "      <td>40.567641</td>\n",
              "      <td>1.078018e+06</td>\n",
              "      <td>0.073588</td>\n",
              "    </tr>\n",
              "    <tr>\n",
              "      <th>Yes</th>\n",
              "      <td>46.846328</td>\n",
              "      <td>51.735269</td>\n",
              "      <td>1.189363e+06</td>\n",
              "      <td>0.314951</td>\n",
              "    </tr>\n",
              "  </tbody>\n",
              "</table>\n",
              "</div>"
            ],
            "text/plain": [
              "                      Age    Vintage  Avg_Account_Balance   Is_Lead\n",
              "Credit_Product                                                     \n",
              "No              40.791600  40.567641         1.078018e+06  0.073588\n",
              "Yes             46.846328  51.735269         1.189363e+06  0.314951"
            ]
          },
          "metadata": {
            "tags": []
          },
          "execution_count": 10
        }
      ]
    },
    {
      "cell_type": "code",
      "metadata": {
        "colab": {
          "base_uri": "https://localhost:8080/",
          "height": 204
        },
        "id": "Bb6vfW1IT5xm",
        "outputId": "08b6f872-a628-48a0-c91e-afe0b35a1761"
      },
      "source": [
        "df.groupby('Channel_Code').mean()"
      ],
      "execution_count": null,
      "outputs": [
        {
          "output_type": "execute_result",
          "data": {
            "text/html": [
              "<div>\n",
              "<style scoped>\n",
              "    .dataframe tbody tr th:only-of-type {\n",
              "        vertical-align: middle;\n",
              "    }\n",
              "\n",
              "    .dataframe tbody tr th {\n",
              "        vertical-align: top;\n",
              "    }\n",
              "\n",
              "    .dataframe thead th {\n",
              "        text-align: right;\n",
              "    }\n",
              "</style>\n",
              "<table border=\"1\" class=\"dataframe\">\n",
              "  <thead>\n",
              "    <tr style=\"text-align: right;\">\n",
              "      <th></th>\n",
              "      <th>Age</th>\n",
              "      <th>Vintage</th>\n",
              "      <th>Avg_Account_Balance</th>\n",
              "      <th>Is_Lead</th>\n",
              "    </tr>\n",
              "    <tr>\n",
              "      <th>Channel_Code</th>\n",
              "      <th></th>\n",
              "      <th></th>\n",
              "      <th></th>\n",
              "      <th></th>\n",
              "    </tr>\n",
              "  </thead>\n",
              "  <tbody>\n",
              "    <tr>\n",
              "      <th>X1</th>\n",
              "      <td>32.324707</td>\n",
              "      <td>25.311576</td>\n",
              "      <td>1.030418e+06</td>\n",
              "      <td>0.091421</td>\n",
              "    </tr>\n",
              "    <tr>\n",
              "      <th>X2</th>\n",
              "      <td>50.422880</td>\n",
              "      <td>54.560804</td>\n",
              "      <td>1.142457e+06</td>\n",
              "      <td>0.327895</td>\n",
              "    </tr>\n",
              "    <tr>\n",
              "      <th>X3</th>\n",
              "      <td>54.717429</td>\n",
              "      <td>74.939443</td>\n",
              "      <td>1.274756e+06</td>\n",
              "      <td>0.367025</td>\n",
              "    </tr>\n",
              "    <tr>\n",
              "      <th>X4</th>\n",
              "      <td>44.757228</td>\n",
              "      <td>12.451966</td>\n",
              "      <td>9.766356e+05</td>\n",
              "      <td>0.247800</td>\n",
              "    </tr>\n",
              "  </tbody>\n",
              "</table>\n",
              "</div>"
            ],
            "text/plain": [
              "                    Age    Vintage  Avg_Account_Balance   Is_Lead\n",
              "Channel_Code                                                     \n",
              "X1            32.324707  25.311576         1.030418e+06  0.091421\n",
              "X2            50.422880  54.560804         1.142457e+06  0.327895\n",
              "X3            54.717429  74.939443         1.274756e+06  0.367025\n",
              "X4            44.757228  12.451966         9.766356e+05  0.247800"
            ]
          },
          "metadata": {
            "tags": []
          },
          "execution_count": 11
        }
      ]
    },
    {
      "cell_type": "code",
      "metadata": {
        "colab": {
          "base_uri": "https://localhost:8080/",
          "height": 204
        },
        "id": "6IV4uDHsSwfc",
        "outputId": "c9bb9e9f-20b3-4670-9d7d-5d47afaedaea"
      },
      "source": [
        "df.groupby('Occupation').mean()"
      ],
      "execution_count": null,
      "outputs": [
        {
          "output_type": "execute_result",
          "data": {
            "text/html": [
              "<div>\n",
              "<style scoped>\n",
              "    .dataframe tbody tr th:only-of-type {\n",
              "        vertical-align: middle;\n",
              "    }\n",
              "\n",
              "    .dataframe tbody tr th {\n",
              "        vertical-align: top;\n",
              "    }\n",
              "\n",
              "    .dataframe thead th {\n",
              "        text-align: right;\n",
              "    }\n",
              "</style>\n",
              "<table border=\"1\" class=\"dataframe\">\n",
              "  <thead>\n",
              "    <tr style=\"text-align: right;\">\n",
              "      <th></th>\n",
              "      <th>Age</th>\n",
              "      <th>Vintage</th>\n",
              "      <th>Avg_Account_Balance</th>\n",
              "      <th>Is_Lead</th>\n",
              "    </tr>\n",
              "    <tr>\n",
              "      <th>Occupation</th>\n",
              "      <th></th>\n",
              "      <th></th>\n",
              "      <th></th>\n",
              "      <th></th>\n",
              "    </tr>\n",
              "  </thead>\n",
              "  <tbody>\n",
              "    <tr>\n",
              "      <th>Entrepreneur</th>\n",
              "      <td>47.833521</td>\n",
              "      <td>69.664792</td>\n",
              "      <td>1.415043e+06</td>\n",
              "      <td>0.660667</td>\n",
              "    </tr>\n",
              "    <tr>\n",
              "      <th>Other</th>\n",
              "      <td>53.116797</td>\n",
              "      <td>54.924729</td>\n",
              "      <td>1.209870e+06</td>\n",
              "      <td>0.244952</td>\n",
              "    </tr>\n",
              "    <tr>\n",
              "      <th>Salaried</th>\n",
              "      <td>30.882901</td>\n",
              "      <td>26.348838</td>\n",
              "      <td>1.033420e+06</td>\n",
              "      <td>0.159669</td>\n",
              "    </tr>\n",
              "    <tr>\n",
              "      <th>Self_Employed</th>\n",
              "      <td>46.568563</td>\n",
              "      <td>55.527189</td>\n",
              "      <td>1.131946e+06</td>\n",
              "      <td>0.275965</td>\n",
              "    </tr>\n",
              "  </tbody>\n",
              "</table>\n",
              "</div>"
            ],
            "text/plain": [
              "                     Age    Vintage  Avg_Account_Balance   Is_Lead\n",
              "Occupation                                                        \n",
              "Entrepreneur   47.833521  69.664792         1.415043e+06  0.660667\n",
              "Other          53.116797  54.924729         1.209870e+06  0.244952\n",
              "Salaried       30.882901  26.348838         1.033420e+06  0.159669\n",
              "Self_Employed  46.568563  55.527189         1.131946e+06  0.275965"
            ]
          },
          "metadata": {
            "tags": []
          },
          "execution_count": 12
        }
      ]
    },
    {
      "cell_type": "code",
      "metadata": {
        "colab": {
          "base_uri": "https://localhost:8080/",
          "height": 1000
        },
        "id": "jYmEAM2uSopM",
        "outputId": "50d81c09-75bc-4015-dfe7-77cad4b505bc"
      },
      "source": [
        "df.groupby('Region_Code').mean()"
      ],
      "execution_count": null,
      "outputs": [
        {
          "output_type": "execute_result",
          "data": {
            "text/html": [
              "<div>\n",
              "<style scoped>\n",
              "    .dataframe tbody tr th:only-of-type {\n",
              "        vertical-align: middle;\n",
              "    }\n",
              "\n",
              "    .dataframe tbody tr th {\n",
              "        vertical-align: top;\n",
              "    }\n",
              "\n",
              "    .dataframe thead th {\n",
              "        text-align: right;\n",
              "    }\n",
              "</style>\n",
              "<table border=\"1\" class=\"dataframe\">\n",
              "  <thead>\n",
              "    <tr style=\"text-align: right;\">\n",
              "      <th></th>\n",
              "      <th>Age</th>\n",
              "      <th>Vintage</th>\n",
              "      <th>Avg_Account_Balance</th>\n",
              "      <th>Is_Lead</th>\n",
              "    </tr>\n",
              "    <tr>\n",
              "      <th>Region_Code</th>\n",
              "      <th></th>\n",
              "      <th></th>\n",
              "      <th></th>\n",
              "      <th></th>\n",
              "    </tr>\n",
              "  </thead>\n",
              "  <tbody>\n",
              "    <tr>\n",
              "      <th>RG250</th>\n",
              "      <td>37.925481</td>\n",
              "      <td>35.080128</td>\n",
              "      <td>7.357640e+05</td>\n",
              "      <td>0.157452</td>\n",
              "    </tr>\n",
              "    <tr>\n",
              "      <th>RG251</th>\n",
              "      <td>43.706891</td>\n",
              "      <td>41.801681</td>\n",
              "      <td>7.416780e+05</td>\n",
              "      <td>0.232101</td>\n",
              "    </tr>\n",
              "    <tr>\n",
              "      <th>RG252</th>\n",
              "      <td>35.689454</td>\n",
              "      <td>32.570229</td>\n",
              "      <td>6.347707e+05</td>\n",
              "      <td>0.138124</td>\n",
              "    </tr>\n",
              "    <tr>\n",
              "      <th>RG253</th>\n",
              "      <td>46.547363</td>\n",
              "      <td>48.790097</td>\n",
              "      <td>1.374248e+06</td>\n",
              "      <td>0.258881</td>\n",
              "    </tr>\n",
              "    <tr>\n",
              "      <th>RG254</th>\n",
              "      <td>43.655253</td>\n",
              "      <td>47.223472</td>\n",
              "      <td>1.407392e+06</td>\n",
              "      <td>0.212854</td>\n",
              "    </tr>\n",
              "    <tr>\n",
              "      <th>RG255</th>\n",
              "      <td>42.609019</td>\n",
              "      <td>42.369673</td>\n",
              "      <td>8.682497e+05</td>\n",
              "      <td>0.232408</td>\n",
              "    </tr>\n",
              "    <tr>\n",
              "      <th>RG256</th>\n",
              "      <td>36.097295</td>\n",
              "      <td>32.263084</td>\n",
              "      <td>6.748068e+05</td>\n",
              "      <td>0.140850</td>\n",
              "    </tr>\n",
              "    <tr>\n",
              "      <th>RG257</th>\n",
              "      <td>39.274381</td>\n",
              "      <td>37.987707</td>\n",
              "      <td>8.581055e+05</td>\n",
              "      <td>0.191772</td>\n",
              "    </tr>\n",
              "    <tr>\n",
              "      <th>RG258</th>\n",
              "      <td>41.188109</td>\n",
              "      <td>38.498719</td>\n",
              "      <td>7.050050e+05</td>\n",
              "      <td>0.220400</td>\n",
              "    </tr>\n",
              "    <tr>\n",
              "      <th>RG259</th>\n",
              "      <td>38.732019</td>\n",
              "      <td>37.960557</td>\n",
              "      <td>6.251804e+05</td>\n",
              "      <td>0.193735</td>\n",
              "    </tr>\n",
              "    <tr>\n",
              "      <th>RG260</th>\n",
              "      <td>40.164309</td>\n",
              "      <td>39.950161</td>\n",
              "      <td>7.584652e+05</td>\n",
              "      <td>0.190997</td>\n",
              "    </tr>\n",
              "    <tr>\n",
              "      <th>RG261</th>\n",
              "      <td>37.998428</td>\n",
              "      <td>34.605791</td>\n",
              "      <td>9.812864e+05</td>\n",
              "      <td>0.167955</td>\n",
              "    </tr>\n",
              "    <tr>\n",
              "      <th>RG262</th>\n",
              "      <td>41.073266</td>\n",
              "      <td>41.391499</td>\n",
              "      <td>1.200158e+06</td>\n",
              "      <td>0.180649</td>\n",
              "    </tr>\n",
              "    <tr>\n",
              "      <th>RG263</th>\n",
              "      <td>42.090317</td>\n",
              "      <td>39.609710</td>\n",
              "      <td>8.311390e+05</td>\n",
              "      <td>0.221861</td>\n",
              "    </tr>\n",
              "    <tr>\n",
              "      <th>RG264</th>\n",
              "      <td>36.909774</td>\n",
              "      <td>32.122449</td>\n",
              "      <td>6.745540e+05</td>\n",
              "      <td>0.137129</td>\n",
              "    </tr>\n",
              "    <tr>\n",
              "      <th>RG265</th>\n",
              "      <td>46.659767</td>\n",
              "      <td>46.635834</td>\n",
              "      <td>8.057096e+05</td>\n",
              "      <td>0.258732</td>\n",
              "    </tr>\n",
              "    <tr>\n",
              "      <th>RG266</th>\n",
              "      <td>37.340304</td>\n",
              "      <td>36.935361</td>\n",
              "      <td>6.966522e+05</td>\n",
              "      <td>0.139417</td>\n",
              "    </tr>\n",
              "    <tr>\n",
              "      <th>RG267</th>\n",
              "      <td>37.068804</td>\n",
              "      <td>35.259853</td>\n",
              "      <td>6.827245e+05</td>\n",
              "      <td>0.148965</td>\n",
              "    </tr>\n",
              "    <tr>\n",
              "      <th>RG268</th>\n",
              "      <td>49.039322</td>\n",
              "      <td>59.197918</td>\n",
              "      <td>1.463900e+06</td>\n",
              "      <td>0.299800</td>\n",
              "    </tr>\n",
              "    <tr>\n",
              "      <th>RG269</th>\n",
              "      <td>41.701259</td>\n",
              "      <td>41.360804</td>\n",
              "      <td>1.027003e+06</td>\n",
              "      <td>0.221671</td>\n",
              "    </tr>\n",
              "    <tr>\n",
              "      <th>RG270</th>\n",
              "      <td>37.058420</td>\n",
              "      <td>30.048316</td>\n",
              "      <td>6.984567e+05</td>\n",
              "      <td>0.144301</td>\n",
              "    </tr>\n",
              "    <tr>\n",
              "      <th>RG271</th>\n",
              "      <td>36.046044</td>\n",
              "      <td>32.607004</td>\n",
              "      <td>7.445927e+05</td>\n",
              "      <td>0.169261</td>\n",
              "    </tr>\n",
              "    <tr>\n",
              "      <th>RG272</th>\n",
              "      <td>43.758759</td>\n",
              "      <td>42.989147</td>\n",
              "      <td>8.852235e+05</td>\n",
              "      <td>0.219916</td>\n",
              "    </tr>\n",
              "    <tr>\n",
              "      <th>RG273</th>\n",
              "      <td>42.311319</td>\n",
              "      <td>41.021125</td>\n",
              "      <td>8.563033e+05</td>\n",
              "      <td>0.237714</td>\n",
              "    </tr>\n",
              "    <tr>\n",
              "      <th>RG274</th>\n",
              "      <td>37.685395</td>\n",
              "      <td>35.231744</td>\n",
              "      <td>9.963071e+05</td>\n",
              "      <td>0.164964</td>\n",
              "    </tr>\n",
              "    <tr>\n",
              "      <th>RG275</th>\n",
              "      <td>38.449615</td>\n",
              "      <td>35.552851</td>\n",
              "      <td>8.550620e+05</td>\n",
              "      <td>0.167334</td>\n",
              "    </tr>\n",
              "    <tr>\n",
              "      <th>RG276</th>\n",
              "      <td>46.204776</td>\n",
              "      <td>47.802098</td>\n",
              "      <td>1.059817e+06</td>\n",
              "      <td>0.277858</td>\n",
              "    </tr>\n",
              "    <tr>\n",
              "      <th>RG277</th>\n",
              "      <td>41.754249</td>\n",
              "      <td>42.484874</td>\n",
              "      <td>9.832893e+05</td>\n",
              "      <td>0.231951</td>\n",
              "    </tr>\n",
              "    <tr>\n",
              "      <th>RG278</th>\n",
              "      <td>45.351811</td>\n",
              "      <td>47.572997</td>\n",
              "      <td>9.137861e+05</td>\n",
              "      <td>0.219539</td>\n",
              "    </tr>\n",
              "    <tr>\n",
              "      <th>RG279</th>\n",
              "      <td>40.807344</td>\n",
              "      <td>40.039738</td>\n",
              "      <td>7.145739e+05</td>\n",
              "      <td>0.225604</td>\n",
              "    </tr>\n",
              "    <tr>\n",
              "      <th>RG280</th>\n",
              "      <td>43.097691</td>\n",
              "      <td>43.170098</td>\n",
              "      <td>7.829563e+05</td>\n",
              "      <td>0.235538</td>\n",
              "    </tr>\n",
              "    <tr>\n",
              "      <th>RG281</th>\n",
              "      <td>40.620852</td>\n",
              "      <td>40.274494</td>\n",
              "      <td>8.896437e+05</td>\n",
              "      <td>0.218732</td>\n",
              "    </tr>\n",
              "    <tr>\n",
              "      <th>RG282</th>\n",
              "      <td>40.962772</td>\n",
              "      <td>41.282724</td>\n",
              "      <td>9.538677e+05</td>\n",
              "      <td>0.192143</td>\n",
              "    </tr>\n",
              "    <tr>\n",
              "      <th>RG283</th>\n",
              "      <td>49.041576</td>\n",
              "      <td>58.974844</td>\n",
              "      <td>1.475574e+06</td>\n",
              "      <td>0.302047</td>\n",
              "    </tr>\n",
              "    <tr>\n",
              "      <th>RG284</th>\n",
              "      <td>48.955849</td>\n",
              "      <td>58.995549</td>\n",
              "      <td>1.473166e+06</td>\n",
              "      <td>0.301035</td>\n",
              "    </tr>\n",
              "  </tbody>\n",
              "</table>\n",
              "</div>"
            ],
            "text/plain": [
              "                   Age    Vintage  Avg_Account_Balance   Is_Lead\n",
              "Region_Code                                                     \n",
              "RG250        37.925481  35.080128         7.357640e+05  0.157452\n",
              "RG251        43.706891  41.801681         7.416780e+05  0.232101\n",
              "RG252        35.689454  32.570229         6.347707e+05  0.138124\n",
              "RG253        46.547363  48.790097         1.374248e+06  0.258881\n",
              "RG254        43.655253  47.223472         1.407392e+06  0.212854\n",
              "RG255        42.609019  42.369673         8.682497e+05  0.232408\n",
              "RG256        36.097295  32.263084         6.748068e+05  0.140850\n",
              "RG257        39.274381  37.987707         8.581055e+05  0.191772\n",
              "RG258        41.188109  38.498719         7.050050e+05  0.220400\n",
              "RG259        38.732019  37.960557         6.251804e+05  0.193735\n",
              "RG260        40.164309  39.950161         7.584652e+05  0.190997\n",
              "RG261        37.998428  34.605791         9.812864e+05  0.167955\n",
              "RG262        41.073266  41.391499         1.200158e+06  0.180649\n",
              "RG263        42.090317  39.609710         8.311390e+05  0.221861\n",
              "RG264        36.909774  32.122449         6.745540e+05  0.137129\n",
              "RG265        46.659767  46.635834         8.057096e+05  0.258732\n",
              "RG266        37.340304  36.935361         6.966522e+05  0.139417\n",
              "RG267        37.068804  35.259853         6.827245e+05  0.148965\n",
              "RG268        49.039322  59.197918         1.463900e+06  0.299800\n",
              "RG269        41.701259  41.360804         1.027003e+06  0.221671\n",
              "RG270        37.058420  30.048316         6.984567e+05  0.144301\n",
              "RG271        36.046044  32.607004         7.445927e+05  0.169261\n",
              "RG272        43.758759  42.989147         8.852235e+05  0.219916\n",
              "RG273        42.311319  41.021125         8.563033e+05  0.237714\n",
              "RG274        37.685395  35.231744         9.963071e+05  0.164964\n",
              "RG275        38.449615  35.552851         8.550620e+05  0.167334\n",
              "RG276        46.204776  47.802098         1.059817e+06  0.277858\n",
              "RG277        41.754249  42.484874         9.832893e+05  0.231951\n",
              "RG278        45.351811  47.572997         9.137861e+05  0.219539\n",
              "RG279        40.807344  40.039738         7.145739e+05  0.225604\n",
              "RG280        43.097691  43.170098         7.829563e+05  0.235538\n",
              "RG281        40.620852  40.274494         8.896437e+05  0.218732\n",
              "RG282        40.962772  41.282724         9.538677e+05  0.192143\n",
              "RG283        49.041576  58.974844         1.475574e+06  0.302047\n",
              "RG284        48.955849  58.995549         1.473166e+06  0.301035"
            ]
          },
          "metadata": {
            "tags": []
          },
          "execution_count": 13
        }
      ]
    },
    {
      "cell_type": "code",
      "metadata": {
        "colab": {
          "base_uri": "https://localhost:8080/",
          "height": 372
        },
        "id": "DH_aZ41D6dh5",
        "outputId": "081546d3-5ef4-47e4-8aa4-9c6140a5aa8d"
      },
      "source": [
        "%matplotlib inline\n",
        "pd.crosstab(df.Occupation,df.Is_Lead).plot(kind='bar')\n",
        "plt.title('Occupation Frequency for CC_int')\n",
        "plt.xlabel('Occupation')\n",
        "plt.ylabel('Frequency of Customers')\n",
        "plt.savefig('Occupation_CC')\n",
        "#Occupation as a good predictor"
      ],
      "execution_count": null,
      "outputs": [
        {
          "output_type": "display_data",
          "data": {
            "image/png": "[encoded data removed]",
            "text/plain": [
              "<Figure size 432x288 with 1 Axes>"
            ]
          },
          "metadata": {
            "tags": [],
            "needs_background": "light"
          }
        }
      ]
    },
    {
      "cell_type": "code",
      "metadata": {
        "colab": {
          "base_uri": "https://localhost:8080/",
          "height": 305
        },
        "id": "OKIpeFkR7SMs",
        "outputId": "91161a91-d4ca-4914-83a0-b5c2b64d8f20"
      },
      "source": [
        "table=pd.crosstab(df.Channel_Code,df.Is_Lead)\n",
        "table.div(table.sum(1).astype(float), axis=0).plot(kind='bar', stacked=True)\n",
        "plt.title('Stacked Bar Chart of Channel_Code vs CC_int')\n",
        "plt.xlabel('Channel_Code')\n",
        "plt.ylabel('Proportion of Customers')\n",
        "plt.savefig('Channel_Code_CC_int')\n",
        "#Channel_Code as a good predictor"
      ],
      "execution_count": null,
      "outputs": [
        {
          "output_type": "display_data",
          "data": {
            "image/png": "[encoded data removed]",
            "text/plain": [
              "<Figure size 432x288 with 1 Axes>"
            ]
          },
          "metadata": {
            "tags": [],
            "needs_background": "light"
          }
        }
      ]
    },
    {
      "cell_type": "code",
      "metadata": {
        "colab": {
          "base_uri": "https://localhost:8080/",
          "height": 328
        },
        "id": "Js1DVDjU8CeI",
        "outputId": "035f07a9-9cfd-49a2-b3aa-7f1d224cf3d6"
      },
      "source": [
        "table=pd.crosstab(df.Region_Code,df.Is_Lead)\n",
        "table.div(table.sum(1).astype(float), axis=0).plot(kind='bar', stacked=True)\n",
        "plt.title('Stacked Bar Chart of Region_Code vs CC_int')\n",
        "plt.xlabel('Region_Code')\n",
        "plt.ylabel('Proportion of Customers')\n",
        "plt.savefig('Region_Code_CC_int')\n",
        "#Region_Code is a weak predictor"
      ],
      "execution_count": null,
      "outputs": [
        {
          "output_type": "display_data",
          "data": {
            "image/png": "[encoded data removed]",
            "text/plain": [
              "<Figure size 432x288 with 1 Axes>"
            ]
          },
          "metadata": {
            "tags": [],
            "needs_background": "light"
          }
        }
      ]
    },
    {
      "cell_type": "code",
      "metadata": {
        "colab": {
          "base_uri": "https://localhost:8080/",
          "height": 309
        },
        "id": "JHkJhzxy9ruE",
        "outputId": "057b3af1-368c-4bb5-a9d8-a0a95dfa25b4"
      },
      "source": [
        "table=pd.crosstab(df.Credit_Product,df.Is_Lead)\n",
        "table.div(table.sum(1).astype(float), axis=0).plot(kind='bar', stacked=True)\n",
        "plt.title('Stacked Bar Chart of Credit_Product vs CC_int')\n",
        "plt.xlabel('Credit_Product')\n",
        "plt.ylabel('Proportion of Customers')\n",
        "plt.savefig('Credit_Product_CC_int')\n",
        "#Credit_Product is a good predictor"
      ],
      "execution_count": null,
      "outputs": [
        {
          "output_type": "display_data",
          "data": {
            "image/png": "[encoded data removed]",
            "text/plain": [
              "<Figure size 432x288 with 1 Axes>"
            ]
          },
          "metadata": {
            "tags": [],
            "needs_background": "light"
          }
        }
      ]
    },
    {
      "cell_type": "code",
      "metadata": {
        "colab": {
          "base_uri": "https://localhost:8080/",
          "height": 309
        },
        "id": "g-njT-x59_1n",
        "outputId": "95f78dd1-20ac-44df-9c49-6df4f643ab30"
      },
      "source": [
        "table=pd.crosstab(df.Is_Active,df.Is_Lead)\n",
        "table.div(table.sum(1).astype(float), axis=0).plot(kind='bar', stacked=True)\n",
        "plt.title('Stacked Bar Chart of Is_Active vs CC_int')\n",
        "plt.xlabel('Is_Active')\n",
        "plt.ylabel('Proportion of Customers')\n",
        "plt.savefig('Is_Active_CC_int')\n",
        "#Is_Active is a medium predictor"
      ],
      "execution_count": null,
      "outputs": [
        {
          "output_type": "display_data",
          "data": {
            "image/png": "[encoded data removed]",
            "text/plain": [
              "<Figure size 432x288 with 1 Axes>"
            ]
          },
          "metadata": {
            "tags": [],
            "needs_background": "light"
          }
        }
      ]
    },
    {
      "cell_type": "code",
      "metadata": {
        "colab": {
          "base_uri": "https://localhost:8080/",
          "height": 331
        },
        "id": "xOSJPBMI-ovi",
        "outputId": "efd4aca7-4b51-487d-c327-acca2db498fd"
      },
      "source": [
        "table=pd.crosstab(df.Gender,df.Is_Lead)\n",
        "table.div(table.sum(1).astype(float), axis=0).plot(kind='bar', stacked=True)\n",
        "plt.title('Stacked Bar Chart of Gender vs CC_int')\n",
        "plt.xlabel('Gender')\n",
        "plt.ylabel('Proportion of Customers')\n",
        "plt.savefig('Gender_CC_int')\n",
        "#Gender is a medium predictor"
      ],
      "execution_count": null,
      "outputs": [
        {
          "output_type": "display_data",
          "data": {
            "image/png": "[encoded data removed]",
            "text/plain": [
              "<Figure size 432x288 with 1 Axes>"
            ]
          },
          "metadata": {
            "tags": [],
            "needs_background": "light"
          }
        }
      ]
    },
    {
      "cell_type": "code",
      "metadata": {
        "colab": {
          "base_uri": "https://localhost:8080/",
          "height": 301
        },
        "id": "Xs2inpDJ_UhM",
        "outputId": "842208f4-2edc-49af-c140-07ecbd04a61c"
      },
      "source": [
        "df.Age.hist()\n",
        "plt.title('Histogram of Age')\n",
        "plt.xlabel('Age')\n",
        "plt.ylabel('Frequency')\n",
        "plt.savefig('hist_age')\n",
        "#20-30 age people are more visiting bank"
      ],
      "execution_count": null,
      "outputs": [
        {
          "output_type": "display_data",
          "data": {
            "image/png": "[encoded data removed]",
            "text/plain": [
              "<Figure size 432x288 with 1 Axes>"
            ]
          },
          "metadata": {
            "tags": [],
            "needs_background": "light"
          }
        }
      ]
    },
    {
      "cell_type": "code",
      "metadata": {
        "colab": {
          "base_uri": "https://localhost:8080/",
          "height": 301
        },
        "id": "kyvqYv0q_tKm",
        "outputId": "457ea609-7666-496a-9ec0-3c424f4a5101"
      },
      "source": [
        "df.Avg_Account_Balance.hist()\n",
        "plt.title('Histogram of Avg Account Balance')\n",
        "plt.xlabel('Avg Account Balance')\n",
        "plt.ylabel('Frequency')\n",
        "plt.savefig('hist_Avg Account Balance')"
      ],
      "execution_count": null,
      "outputs": [
        {
          "output_type": "display_data",
          "data": {
            "image/png": "[encoded data removed]",
            "text/plain": [
              "<Figure size 432x288 with 1 Axes>"
            ]
          },
          "metadata": {
            "tags": [],
            "needs_background": "light"
          }
        }
      ]
    },
    {
      "cell_type": "markdown",
      "metadata": {
        "id": "eNLJdF7EAIwp"
      },
      "source": [
        "**Creating Dummy Variables**"
      ]
    },
    {
      "cell_type": "code",
      "metadata": {
        "id": "9u4KZusGASsT"
      },
      "source": [
        "#dummy variables has only two values, zero and one\n",
        "#Selecting Good & Medium predictors for a dummy variables creation\n",
        "def dummify(data):\n",
        "  category=['Occupation','Channel_Code','Credit_Product','Is_Active','Gender']\n",
        "  for var in category:\n",
        "      cat_list='var'+'_'+var\n",
        "      cat_list = pd.get_dummies(data[var], prefix=var)\n",
        "      data1=data.join(cat_list)\n",
        "      data=data1\n",
        "  data_vars=data.columns.values.tolist()\n",
        "  to_keep=[i for i in data_vars if i not in category]\n",
        "  data_final=data[to_keep]\n",
        "  return data_final"
      ],
      "execution_count": null,
      "outputs": []
    },
    {
      "cell_type": "code",
      "metadata": {
        "id": "Jic7j_g5Dvw_"
      },
      "source": [
        "data_final=dummify(df)"
      ],
      "execution_count": null,
      "outputs": []
    },
    {
      "cell_type": "code",
      "metadata": {
        "colab": {
          "base_uri": "https://localhost:8080/"
        },
        "id": "oup6r1q4D6eh",
        "outputId": "10510a32-fa01-4737-8b4a-36b5044f9e88"
      },
      "source": [
        "data_final.columns.values"
      ],
      "execution_count": null,
      "outputs": [
        {
          "output_type": "execute_result",
          "data": {
            "text/plain": [
              "array(['ID', 'Age', 'Region_Code', 'Vintage', 'Avg_Account_Balance',\n",
              "       'Is_Lead', 'Occupation_Entrepreneur', 'Occupation_Other',\n",
              "       'Occupation_Salaried', 'Occupation_Self_Employed',\n",
              "       'Channel_Code_X1', 'Channel_Code_X2', 'Channel_Code_X3',\n",
              "       'Channel_Code_X4', 'Credit_Product_No', 'Credit_Product_Yes',\n",
              "       'Is_Active_No', 'Is_Active_Yes', 'Gender_Female', 'Gender_Male'],\n",
              "      dtype=object)"
            ]
          },
          "metadata": {
            "tags": []
          },
          "execution_count": 24
        }
      ]
    },
    {
      "cell_type": "code",
      "metadata": {
        "id": "TAZiw4lkH2VR"
      },
      "source": [
        "data_final=data_final.drop(['ID','Region_Code'],axis = 1)"
      ],
      "execution_count": null,
      "outputs": []
    },
    {
      "cell_type": "code",
      "metadata": {
        "colab": {
          "base_uri": "https://localhost:8080/",
          "height": 224
        },
        "id": "zGcK-j4gEJde",
        "outputId": "60a53e19-c4e0-4653-be60-bb669a36dad1"
      },
      "source": [
        "data_final.head()"
      ],
      "execution_count": null,
      "outputs": [
        {
          "output_type": "execute_result",
          "data": {
            "text/html": [
              "<div>\n",
              "<style scoped>\n",
              "    .dataframe tbody tr th:only-of-type {\n",
              "        vertical-align: middle;\n",
              "    }\n",
              "\n",
              "    .dataframe tbody tr th {\n",
              "        vertical-align: top;\n",
              "    }\n",
              "\n",
              "    .dataframe thead th {\n",
              "        text-align: right;\n",
              "    }\n",
              "</style>\n",
              "<table border=\"1\" class=\"dataframe\">\n",
              "  <thead>\n",
              "    <tr style=\"text-align: right;\">\n",
              "      <th></th>\n",
              "      <th>Age</th>\n",
              "      <th>Vintage</th>\n",
              "      <th>Avg_Account_Balance</th>\n",
              "      <th>Is_Lead</th>\n",
              "      <th>Occupation_Entrepreneur</th>\n",
              "      <th>Occupation_Other</th>\n",
              "      <th>Occupation_Salaried</th>\n",
              "      <th>Occupation_Self_Employed</th>\n",
              "      <th>Channel_Code_X1</th>\n",
              "      <th>Channel_Code_X2</th>\n",
              "      <th>Channel_Code_X3</th>\n",
              "      <th>Channel_Code_X4</th>\n",
              "      <th>Credit_Product_No</th>\n",
              "      <th>Credit_Product_Yes</th>\n",
              "      <th>Is_Active_No</th>\n",
              "      <th>Is_Active_Yes</th>\n",
              "      <th>Gender_Female</th>\n",
              "      <th>Gender_Male</th>\n",
              "    </tr>\n",
              "  </thead>\n",
              "  <tbody>\n",
              "    <tr>\n",
              "      <th>0</th>\n",
              "      <td>73</td>\n",
              "      <td>43</td>\n",
              "      <td>1045696</td>\n",
              "      <td>0</td>\n",
              "      <td>0</td>\n",
              "      <td>1</td>\n",
              "      <td>0</td>\n",
              "      <td>0</td>\n",
              "      <td>0</td>\n",
              "      <td>0</td>\n",
              "      <td>1</td>\n",
              "      <td>0</td>\n",
              "      <td>1</td>\n",
              "      <td>0</td>\n",
              "      <td>1</td>\n",
              "      <td>0</td>\n",
              "      <td>1</td>\n",
              "      <td>0</td>\n",
              "    </tr>\n",
              "    <tr>\n",
              "      <th>1</th>\n",
              "      <td>30</td>\n",
              "      <td>32</td>\n",
              "      <td>581988</td>\n",
              "      <td>0</td>\n",
              "      <td>0</td>\n",
              "      <td>0</td>\n",
              "      <td>1</td>\n",
              "      <td>0</td>\n",
              "      <td>1</td>\n",
              "      <td>0</td>\n",
              "      <td>0</td>\n",
              "      <td>0</td>\n",
              "      <td>1</td>\n",
              "      <td>0</td>\n",
              "      <td>1</td>\n",
              "      <td>0</td>\n",
              "      <td>1</td>\n",
              "      <td>0</td>\n",
              "    </tr>\n",
              "    <tr>\n",
              "      <th>2</th>\n",
              "      <td>56</td>\n",
              "      <td>26</td>\n",
              "      <td>1484315</td>\n",
              "      <td>0</td>\n",
              "      <td>0</td>\n",
              "      <td>0</td>\n",
              "      <td>0</td>\n",
              "      <td>1</td>\n",
              "      <td>0</td>\n",
              "      <td>0</td>\n",
              "      <td>1</td>\n",
              "      <td>0</td>\n",
              "      <td>1</td>\n",
              "      <td>0</td>\n",
              "      <td>0</td>\n",
              "      <td>1</td>\n",
              "      <td>1</td>\n",
              "      <td>0</td>\n",
              "    </tr>\n",
              "    <tr>\n",
              "      <th>3</th>\n",
              "      <td>34</td>\n",
              "      <td>19</td>\n",
              "      <td>470454</td>\n",
              "      <td>0</td>\n",
              "      <td>0</td>\n",
              "      <td>0</td>\n",
              "      <td>1</td>\n",
              "      <td>0</td>\n",
              "      <td>1</td>\n",
              "      <td>0</td>\n",
              "      <td>0</td>\n",
              "      <td>0</td>\n",
              "      <td>1</td>\n",
              "      <td>0</td>\n",
              "      <td>1</td>\n",
              "      <td>0</td>\n",
              "      <td>0</td>\n",
              "      <td>1</td>\n",
              "    </tr>\n",
              "    <tr>\n",
              "      <th>4</th>\n",
              "      <td>30</td>\n",
              "      <td>33</td>\n",
              "      <td>886787</td>\n",
              "      <td>0</td>\n",
              "      <td>0</td>\n",
              "      <td>0</td>\n",
              "      <td>1</td>\n",
              "      <td>0</td>\n",
              "      <td>1</td>\n",
              "      <td>0</td>\n",
              "      <td>0</td>\n",
              "      <td>0</td>\n",
              "      <td>1</td>\n",
              "      <td>0</td>\n",
              "      <td>1</td>\n",
              "      <td>0</td>\n",
              "      <td>1</td>\n",
              "      <td>0</td>\n",
              "    </tr>\n",
              "  </tbody>\n",
              "</table>\n",
              "</div>"
            ],
            "text/plain": [
              "   Age  Vintage  Avg_Account_Balance  ...  Is_Active_Yes  Gender_Female  Gender_Male\n",
              "0   73       43              1045696  ...              0              1            0\n",
              "1   30       32               581988  ...              0              1            0\n",
              "2   56       26              1484315  ...              1              1            0\n",
              "3   34       19               470454  ...              0              0            1\n",
              "4   30       33               886787  ...              0              1            0\n",
              "\n",
              "[5 rows x 18 columns]"
            ]
          },
          "metadata": {
            "tags": []
          },
          "execution_count": 26
        }
      ]
    },
    {
      "cell_type": "markdown",
      "metadata": {
        "id": "u-nFMpRAB91Y"
      },
      "source": [
        "**Minority Over Sampling Using SMOTE & Standard Scaling**"
      ]
    },
    {
      "cell_type": "code",
      "metadata": {
        "id": "CY3-4WNPFJlO"
      },
      "source": [
        "import pickle\n",
        "\n",
        "def scale_data(X_train,X_test):\n",
        "    \"\"\"\n",
        "    Input: Features (numpy arrays)\n",
        "    Output: Scaled data\n",
        "    \"\"\"\n",
        "    scaler = StandardScaler()\n",
        "    X_train_scaled = scaler.fit_transform(X_train)\n",
        "    X_test_scaled = scaler.transform(X_test)\n",
        "    pickle.dump(scaler, open('scaler_full.pkl','wb'))\n",
        "\n",
        "\n",
        "    return X_train_scaled, X_test_scaled\n",
        "  \n",
        " "
      ],
      "execution_count": null,
      "outputs": []
    },
    {
      "cell_type": "code",
      "metadata": {
        "colab": {
          "base_uri": "https://localhost:8080/"
        },
        "id": "T5Kzd6o_EcWS",
        "outputId": "dfa7e98e-bd8f-420c-837d-e72dd764dac9"
      },
      "source": [
        "X = data_final.loc[:, data_final.columns != 'Is_Lead']\n",
        "Y = data_final.loc[:, data_final.columns == 'Is_Lead']\n",
        "from imblearn.over_sampling import SMOTE\n",
        "sm = SMOTE(random_state=0)\n",
        "X_train, X_test, Y_train, Y_test = train_test_split(X, Y, test_size=0.1, random_state=0)\n"
      ],
      "execution_count": null,
      "outputs": [
        {
          "output_type": "stream",
          "text": [
            "/usr/local/lib/python3.7/dist-packages/sklearn/externals/six.py:31: FutureWarning: The module is deprecated in version 0.21 and will be removed in version 0.23 since we've dropped support for Python 2.7. Please rely on the official version of six (https://pypi.org/project/six/).\n",
            "  \"(https://pypi.org/project/six/).\", FutureWarning)\n",
            "/usr/local/lib/python3.7/dist-packages/sklearn/utils/deprecation.py:144: FutureWarning: The sklearn.neighbors.base module is  deprecated in version 0.22 and will be removed in version 0.24. The corresponding classes / functions should instead be imported from sklearn.neighbors. Anything that cannot be imported from sklearn.neighbors is now part of the private API.\n",
            "  warnings.warn(message, FutureWarning)\n"
          ],
          "name": "stderr"
        }
      ]
    },
    {
      "cell_type": "code",
      "metadata": {
        "colab": {
          "base_uri": "https://localhost:8080/"
        },
        "id": "aOMLu2KnFblr",
        "outputId": "e2ddf1e5-c3ff-48f5-aaa0-8b02b224d9d7"
      },
      "source": [
        "sm_X,sm_Y=sm.fit_sample(X, Y)\n",
        "#sm_X,sm_Y=sm.fit_sample(X_train, Y_train)\n",
        "sm_X = pd.DataFrame(data=sm_X,columns=X.columns )\n",
        "sm_Y= pd.DataFrame(data=sm_Y,columns=['Is_Lead'])\n",
        "# we can Check the numbers of our data\n",
        "print(\"length of oversampled data is \",len(sm_X))\n",
        "print(\"Number of CC_not_interested in oversampled data\",len(sm_Y[sm_Y['Is_Lead']==0]))\n",
        "print(\"Number of CC_interested\",len(sm_Y[sm_Y['Is_Lead']==1]))\n",
        "print(\"Proportion of CC_not_interested in oversampled data is \",len(sm_Y[sm_Y['Is_Lead']==0])/len(sm_X))\n",
        "print(\"Proportion of CC_interested in oversampled data is \",len(sm_Y[sm_Y['Is_Lead']==1])/len(sm_X))"
      ],
      "execution_count": null,
      "outputs": [
        {
          "output_type": "stream",
          "text": [
            "/usr/local/lib/python3.7/dist-packages/sklearn/utils/validation.py:760: DataConversionWarning: A column-vector y was passed when a 1d array was expected. Please change the shape of y to (n_samples, ), for example using ravel().\n",
            "  y = column_or_1d(y, warn=True)\n",
            "/usr/local/lib/python3.7/dist-packages/sklearn/utils/deprecation.py:87: FutureWarning: Function safe_indexing is deprecated; safe_indexing is deprecated in version 0.22 and will be removed in version 0.24.\n",
            "  warnings.warn(msg, category=FutureWarning)\n"
          ],
          "name": "stderr"
        },
        {
          "output_type": "stream",
          "text": [
            "length of oversampled data is  374874\n",
            "Number of CC_not_interested in oversampled data 187437\n",
            "Number of CC_interested 187437\n",
            "Proportion of CC_not_interested in oversampled data is  0.5\n",
            "Proportion of CC_interested in oversampled data is  0.5\n"
          ],
          "name": "stdout"
        }
      ]
    },
    {
      "cell_type": "code",
      "metadata": {
        "id": "S2d6etMbOCCb"
      },
      "source": [
        "from sklearn.preprocessing import StandardScaler\n",
        "X_train_scaled,X_test_scaled = scale_data(sm_X, X_test)\n",
        "#X_scaled=scale_data(sm_X)"
      ],
      "execution_count": null,
      "outputs": []
    },
    {
      "cell_type": "code",
      "metadata": {
        "id": "osfORxLJ72Rg"
      },
      "source": [
        "mlp_final = MLPClassifier(random_state=1, max_iter=500)\n",
        "mlp_final.fit(X_scaled,sm_Y.values.ravel())\n",
        "                       \n",
        "pickle.dump(mlp_final, open('mlp_full_final.pkl','wb'))\n",
        "\n",
        "\n"
      ],
      "execution_count": null,
      "outputs": []
    },
    {
      "cell_type": "code",
      "metadata": {
        "id": "-s9h0vSB8jXt"
      },
      "source": [
        ""
      ],
      "execution_count": null,
      "outputs": []
    },
    {
      "cell_type": "code",
      "metadata": {
        "id": "WFuAXawVMk0I"
      },
      "source": [
        "from sklearn.metrics import classification_report,roc_auc_score\n",
        "def model_score(model_name, model, X_train_scaled,X_test_scaled, y_train, y_test):\n",
        "    \n",
        "    print('Calculating validation score...')\n",
        "\n",
        "    my_model = model\n",
        "    my_model.fit(X_train_scaled,y_train)\n",
        "    \n",
        "    print(f'{model_name} accuracy score: {my_model.score(X_test_scaled,y_test):.4}\\n')\n",
        "    y_pred = my_model.predict(X_test_scaled)\n",
        "    print(classification_report(y_test, y_pred))\n",
        "    print(roc_auc_score(y_test, y_pred))\n",
        "    print(my_model.predict_proba(X_test_scaled))\n",
        "    print(y_pred)\n",
        "\n",
        "\n",
        "    return my_model"
      ],
      "execution_count": null,
      "outputs": []
    },
    {
      "cell_type": "code",
      "metadata": {
        "colab": {
          "base_uri": "https://localhost:8080/"
        },
        "id": "9LFHiPzhIpWG",
        "outputId": "981d7427-7f45-4bd0-841b-9b203e6c8f5b"
      },
      "source": [
        "#Recursive Feature Elimination to find which feature is best\n",
        "data_final_vars=data_final.columns.values.tolist()\n",
        "y=['Is_Lead']\n",
        "X=[i for i in data_final_vars if i not in y]\n",
        "from sklearn.feature_selection import RFE\n",
        "from sklearn.linear_model import LogisticRegression\n",
        "logreg = LogisticRegression()\n",
        "rfe = RFE(logreg, 20)\n",
        "rfe = rfe.fit(X_train_scaled,sm_Y.values.ravel())\n",
        "print(rfe.support_)\n",
        "print(rfe.ranking_)\n"
      ],
      "execution_count": null,
      "outputs": [
        {
          "output_type": "stream",
          "text": [
            "[ True  True  True  True  True  True  True  True  True  True  True  True\n",
            "  True  True  True  True  True]\n",
            "[1 1 1 1 1 1 1 1 1 1 1 1 1 1 1 1 1]\n"
          ],
          "name": "stdout"
        }
      ]
    },
    {
      "cell_type": "markdown",
      "metadata": {
        "id": "Y4ENw7qPCnjt"
      },
      "source": [
        "**No need to run this because validation data is gone when full training data is trained**"
      ]
    },
    {
      "cell_type": "code",
      "metadata": {
        "colab": {
          "base_uri": "https://localhost:8080/"
        },
        "id": "kmKkLLDfJQdr",
        "outputId": "758bb8e2-5d53-46d3-f318-17789d420356"
      },
      "source": [
        "#Testing on Validation 10% data in which model performs better\n",
        "from sklearn.linear_model import LogisticRegression\n",
        "from sklearn.neighbors import KNeighborsClassifier\n",
        "from sklearn.ensemble import RandomForestClassifier\n",
        "from sklearn.neural_network import MLPClassifier\n",
        "from xgboost import XGBClassifier\n",
        "from sklearn.naive_bayes import GaussianNB,BernoulliNB\n",
        "from sklearn import svm\n",
        "\n",
        "\n",
        "lr = model_score('LogReg', LogisticRegression(penalty='none'),\n",
        "                       X_train_scaled,X_test_scaled,\n",
        "                       sm_Y.values.ravel(),Y_test)\n",
        "\n",
        "        \n",
        "\n"
      ],
      "execution_count": null,
      "outputs": [
        {
          "output_type": "stream",
          "text": [
            "Calculating validation score...\n",
            "LogReg accuracy score: 0.8553\n",
            "\n",
            "              precision    recall  f1-score   support\n",
            "\n",
            "           0       0.86      0.96      0.91     18744\n",
            "           1       0.81      0.51      0.62      5829\n",
            "\n",
            "    accuracy                           0.86     24573\n",
            "   macro avg       0.84      0.73      0.77     24573\n",
            "weighted avg       0.85      0.86      0.84     24573\n",
            "\n",
            "0.7349269041783884\n",
            "[[0.93452318 0.06547682]\n",
            " [0.94197537 0.05802463]\n",
            " [0.93063765 0.06936235]\n",
            " ...\n",
            " [0.94041374 0.05958626]\n",
            " [0.86068197 0.13931803]\n",
            " [0.75408107 0.24591893]]\n",
            "[0 0 0 ... 0 0 0]\n"
          ],
          "name": "stdout"
        }
      ]
    },
    {
      "cell_type": "code",
      "metadata": {
        "colab": {
          "base_uri": "https://localhost:8080/"
        },
        "id": "UDGFYPc_Tsoi",
        "outputId": "b734903f-8752-4733-861a-a5f99df8fa8c"
      },
      "source": [
        "svc=model_score('SVM', svm.SVC(),\n",
        "                        X_train_scaled,X_test_scaled,\n",
        "                       sm_Y.values.ravel(),Y_test)\n"
      ],
      "execution_count": null,
      "outputs": [
        {
          "output_type": "stream",
          "text": [
            "Calculating validation score...\n"
          ],
          "name": "stdout"
        }
      ]
    },
    {
      "cell_type": "code",
      "metadata": {
        "id": "bKpUuKlWTQ5k"
      },
      "source": [
        ""
      ],
      "execution_count": null,
      "outputs": []
    },
    {
      "cell_type": "code",
      "metadata": {
        "colab": {
          "base_uri": "https://localhost:8080/"
        },
        "id": "N5O0s95fSTMn",
        "outputId": "0362db3c-a020-4a9e-dcca-3b25ef61340c"
      },
      "source": [
        "mlp = model_score('MLP', MLPClassifier(random_state=1, max_iter=500),\n",
        "                        X_train_scaled,X_test_scaled,\n",
        "                       sm_Y.values.ravel(),Y_test)\n",
        "pickle.dump(mlp, open('mlp.pkl','wb'))\n",
        "\n",
        "\n"
      ],
      "execution_count": null,
      "outputs": [
        {
          "output_type": "stream",
          "text": [
            "Calculating validation score...\n",
            "MLP accuracy score: 0.8603\n",
            "\n",
            "              precision    recall  f1-score   support\n",
            "\n",
            "           0       0.88      0.95      0.91     18744\n",
            "           1       0.77      0.58      0.66      5829\n",
            "\n",
            "    accuracy                           0.86     24573\n",
            "   macro avg       0.83      0.76      0.79     24573\n",
            "weighted avg       0.85      0.86      0.85     24573\n",
            "\n",
            "0.7646002322046881\n",
            "[[0.94771212 0.05228788]\n",
            " [0.93488018 0.06511982]\n",
            " [0.94538933 0.05461067]\n",
            " ...\n",
            " [0.9311989  0.0688011 ]\n",
            " [0.87874665 0.12125335]\n",
            " [0.70419194 0.29580806]]\n",
            "[0 0 0 ... 0 0 0]\n"
          ],
          "name": "stdout"
        }
      ]
    },
    {
      "cell_type": "code",
      "metadata": {
        "colab": {
          "base_uri": "https://localhost:8080/"
        },
        "id": "D69rvZ_ZSWTy",
        "outputId": "58ad8e56-f69f-4a95-c9f9-49844a70c3a4"
      },
      "source": [
        "rf = model_score('RF', RandomForestClassifier(),\n",
        "                       X_train_scaled,X_test_scaled,\n",
        "                       sm_Y.values.ravel(),Y_test)\n"
      ],
      "execution_count": null,
      "outputs": [
        {
          "output_type": "stream",
          "text": [
            "Calculating validation score...\n",
            "RF accuracy score: 0.8402\n",
            "\n",
            "              precision    recall  f1-score   support\n",
            "\n",
            "           0       0.88      0.92      0.90     18744\n",
            "           1       0.69      0.59      0.64      5829\n",
            "\n",
            "    accuracy                           0.84     24573\n",
            "   macro avg       0.78      0.76      0.77     24573\n",
            "weighted avg       0.83      0.84      0.84     24573\n",
            "\n",
            "0.7553768175107509\n",
            "[[0.97 0.03]\n",
            " [1.   0.  ]\n",
            " [0.28 0.72]\n",
            " ...\n",
            " [1.   0.  ]\n",
            " [0.45 0.55]\n",
            " [0.96 0.04]]\n",
            "[0 0 1 ... 0 1 0]\n"
          ],
          "name": "stdout"
        }
      ]
    },
    {
      "cell_type": "code",
      "metadata": {
        "colab": {
          "base_uri": "https://localhost:8080/"
        },
        "id": "fR2ayzrhSZUl",
        "outputId": "d485893b-d6bc-46eb-bc68-7517d6a70ea5"
      },
      "source": [
        "gbm = model_score('XGBoost', XGBClassifier(),\n",
        "                        X_train_scaled,X_test_scaled,\n",
        "                       sm_Y.values.ravel(),Y_test)\n",
        "pickle.dump(gbm, open('xgb.pkl','wb'))\n",
        "\n"
      ],
      "execution_count": null,
      "outputs": [
        {
          "output_type": "stream",
          "text": [
            "Calculating validation score...\n",
            "XGBoost accuracy score: 0.8596\n",
            "\n",
            "              precision    recall  f1-score   support\n",
            "\n",
            "           0       0.88      0.95      0.91     18744\n",
            "           1       0.77      0.58      0.66      5829\n",
            "\n",
            "    accuracy                           0.86     24573\n",
            "   macro avg       0.82      0.76      0.79     24573\n",
            "weighted avg       0.85      0.86      0.85     24573\n",
            "\n",
            "0.7633193145052256\n",
            "[[0.9369116  0.06308844]\n",
            " [0.9368621  0.0631379 ]\n",
            " [0.9369116  0.06308844]\n",
            " ...\n",
            " [0.9110068  0.08899318]\n",
            " [0.82466346 0.17533652]\n",
            " [0.7057903  0.29420975]]\n",
            "[0 0 0 ... 0 0 0]\n"
          ],
          "name": "stdout"
        }
      ]
    },
    {
      "cell_type": "code",
      "metadata": {
        "colab": {
          "base_uri": "https://localhost:8080/"
        },
        "id": "cP1uUX-7SK4q",
        "outputId": "d281cc5f-5b5a-4c87-82c5-d2b824e3010c"
      },
      "source": [
        "knn = model_score('KNN', KNeighborsClassifier(n_neighbors=5),\n",
        "                       X_train_scaled,X_test_scaled,\n",
        "                       sm_Y.values.ravel(),Y_test)\n"
      ],
      "execution_count": null,
      "outputs": [
        {
          "output_type": "stream",
          "text": [
            "Calculating validation score...\n",
            "KNN accuracy score: 0.846\n",
            "\n",
            "              precision    recall  f1-score   support\n",
            "\n",
            "           0       0.88      0.92      0.90     18744\n",
            "           1       0.71      0.60      0.65      5829\n",
            "\n",
            "    accuracy                           0.85     24573\n",
            "   macro avg       0.79      0.76      0.77     24573\n",
            "weighted avg       0.84      0.85      0.84     24573\n",
            "\n",
            "0.7597557243365055\n",
            "[[0.8 0.2]\n",
            " [1.  0. ]\n",
            " [0.6 0.4]\n",
            " ...\n",
            " [1.  0. ]\n",
            " [0.6 0.4]\n",
            " [0.8 0.2]]\n",
            "[0 0 0 ... 0 0 0]\n"
          ],
          "name": "stdout"
        }
      ]
    },
    {
      "cell_type": "markdown",
      "metadata": {
        "id": "C9SH4x0hyrFQ"
      },
      "source": [
        "**Final Prediction on Test Data by trained on Full Training Data**"
      ]
    },
    {
      "cell_type": "code",
      "metadata": {
        "colab": {
          "base_uri": "https://localhost:8080/",
          "height": 224
        },
        "id": "AhQbQv_EvRIX",
        "outputId": "1372ee66-f1e5-450c-a513-1898e0870dd9"
      },
      "source": [
        "#From this training data ,choosing XGB and MLP because better accuracy & AUC_ROC_Score\n",
        "test_data=pd.read_csv(\"/content/drive/MyDrive/Analytics_Vindhya/test_mSzZ8RL.csv\")\n",
        "test_data.head()"
      ],
      "execution_count": null,
      "outputs": [
        {
          "output_type": "execute_result",
          "data": {
            "text/html": [
              "<div>\n",
              "<style scoped>\n",
              "    .dataframe tbody tr th:only-of-type {\n",
              "        vertical-align: middle;\n",
              "    }\n",
              "\n",
              "    .dataframe tbody tr th {\n",
              "        vertical-align: top;\n",
              "    }\n",
              "\n",
              "    .dataframe thead th {\n",
              "        text-align: right;\n",
              "    }\n",
              "</style>\n",
              "<table border=\"1\" class=\"dataframe\">\n",
              "  <thead>\n",
              "    <tr style=\"text-align: right;\">\n",
              "      <th></th>\n",
              "      <th>ID</th>\n",
              "      <th>Gender</th>\n",
              "      <th>Age</th>\n",
              "      <th>Region_Code</th>\n",
              "      <th>Occupation</th>\n",
              "      <th>Channel_Code</th>\n",
              "      <th>Vintage</th>\n",
              "      <th>Credit_Product</th>\n",
              "      <th>Avg_Account_Balance</th>\n",
              "      <th>Is_Active</th>\n",
              "    </tr>\n",
              "  </thead>\n",
              "  <tbody>\n",
              "    <tr>\n",
              "      <th>0</th>\n",
              "      <td>VBENBARO</td>\n",
              "      <td>Male</td>\n",
              "      <td>29</td>\n",
              "      <td>RG254</td>\n",
              "      <td>Other</td>\n",
              "      <td>X1</td>\n",
              "      <td>25</td>\n",
              "      <td>Yes</td>\n",
              "      <td>742366</td>\n",
              "      <td>No</td>\n",
              "    </tr>\n",
              "    <tr>\n",
              "      <th>1</th>\n",
              "      <td>CCMEWNKY</td>\n",
              "      <td>Male</td>\n",
              "      <td>43</td>\n",
              "      <td>RG268</td>\n",
              "      <td>Other</td>\n",
              "      <td>X2</td>\n",
              "      <td>49</td>\n",
              "      <td>NaN</td>\n",
              "      <td>925537</td>\n",
              "      <td>No</td>\n",
              "    </tr>\n",
              "    <tr>\n",
              "      <th>2</th>\n",
              "      <td>VK3KGA9M</td>\n",
              "      <td>Male</td>\n",
              "      <td>31</td>\n",
              "      <td>RG270</td>\n",
              "      <td>Salaried</td>\n",
              "      <td>X1</td>\n",
              "      <td>14</td>\n",
              "      <td>No</td>\n",
              "      <td>215949</td>\n",
              "      <td>No</td>\n",
              "    </tr>\n",
              "    <tr>\n",
              "      <th>3</th>\n",
              "      <td>TT8RPZVC</td>\n",
              "      <td>Male</td>\n",
              "      <td>29</td>\n",
              "      <td>RG272</td>\n",
              "      <td>Other</td>\n",
              "      <td>X1</td>\n",
              "      <td>33</td>\n",
              "      <td>No</td>\n",
              "      <td>868070</td>\n",
              "      <td>No</td>\n",
              "    </tr>\n",
              "    <tr>\n",
              "      <th>4</th>\n",
              "      <td>SHQZEYTZ</td>\n",
              "      <td>Female</td>\n",
              "      <td>29</td>\n",
              "      <td>RG270</td>\n",
              "      <td>Other</td>\n",
              "      <td>X1</td>\n",
              "      <td>19</td>\n",
              "      <td>No</td>\n",
              "      <td>657087</td>\n",
              "      <td>No</td>\n",
              "    </tr>\n",
              "  </tbody>\n",
              "</table>\n",
              "</div>"
            ],
            "text/plain": [
              "         ID  Gender  Age  ... Credit_Product Avg_Account_Balance Is_Active\n",
              "0  VBENBARO    Male   29  ...            Yes              742366        No\n",
              "1  CCMEWNKY    Male   43  ...            NaN              925537        No\n",
              "2  VK3KGA9M    Male   31  ...             No              215949        No\n",
              "3  TT8RPZVC    Male   29  ...             No              868070        No\n",
              "4  SHQZEYTZ  Female   29  ...             No              657087        No\n",
              "\n",
              "[5 rows x 10 columns]"
            ]
          },
          "metadata": {
            "tags": []
          },
          "execution_count": 207
        }
      ]
    },
    {
      "cell_type": "code",
      "metadata": {
        "id": "wH2OuOTQyp-A"
      },
      "source": [
        "test_final=dummify(test_data)"
      ],
      "execution_count": null,
      "outputs": []
    },
    {
      "cell_type": "code",
      "metadata": {
        "colab": {
          "base_uri": "https://localhost:8080/",
          "height": 224
        },
        "id": "07FGp0RIy6YP",
        "outputId": "693e7acb-518b-4461-afbc-5d6f80e493f4"
      },
      "source": [
        "test_final.head()"
      ],
      "execution_count": null,
      "outputs": [
        {
          "output_type": "execute_result",
          "data": {
            "text/html": [
              "<div>\n",
              "<style scoped>\n",
              "    .dataframe tbody tr th:only-of-type {\n",
              "        vertical-align: middle;\n",
              "    }\n",
              "\n",
              "    .dataframe tbody tr th {\n",
              "        vertical-align: top;\n",
              "    }\n",
              "\n",
              "    .dataframe thead th {\n",
              "        text-align: right;\n",
              "    }\n",
              "</style>\n",
              "<table border=\"1\" class=\"dataframe\">\n",
              "  <thead>\n",
              "    <tr style=\"text-align: right;\">\n",
              "      <th></th>\n",
              "      <th>ID</th>\n",
              "      <th>Age</th>\n",
              "      <th>Region_Code</th>\n",
              "      <th>Vintage</th>\n",
              "      <th>Avg_Account_Balance</th>\n",
              "      <th>Occupation_Entrepreneur</th>\n",
              "      <th>Occupation_Other</th>\n",
              "      <th>Occupation_Salaried</th>\n",
              "      <th>Occupation_Self_Employed</th>\n",
              "      <th>Channel_Code_X1</th>\n",
              "      <th>Channel_Code_X2</th>\n",
              "      <th>Channel_Code_X3</th>\n",
              "      <th>Channel_Code_X4</th>\n",
              "      <th>Credit_Product_No</th>\n",
              "      <th>Credit_Product_Yes</th>\n",
              "      <th>Is_Active_No</th>\n",
              "      <th>Is_Active_Yes</th>\n",
              "      <th>Gender_Female</th>\n",
              "      <th>Gender_Male</th>\n",
              "    </tr>\n",
              "  </thead>\n",
              "  <tbody>\n",
              "    <tr>\n",
              "      <th>0</th>\n",
              "      <td>VBENBARO</td>\n",
              "      <td>29</td>\n",
              "      <td>RG254</td>\n",
              "      <td>25</td>\n",
              "      <td>742366</td>\n",
              "      <td>0</td>\n",
              "      <td>1</td>\n",
              "      <td>0</td>\n",
              "      <td>0</td>\n",
              "      <td>1</td>\n",
              "      <td>0</td>\n",
              "      <td>0</td>\n",
              "      <td>0</td>\n",
              "      <td>0</td>\n",
              "      <td>1</td>\n",
              "      <td>1</td>\n",
              "      <td>0</td>\n",
              "      <td>0</td>\n",
              "      <td>1</td>\n",
              "    </tr>\n",
              "    <tr>\n",
              "      <th>1</th>\n",
              "      <td>CCMEWNKY</td>\n",
              "      <td>43</td>\n",
              "      <td>RG268</td>\n",
              "      <td>49</td>\n",
              "      <td>925537</td>\n",
              "      <td>0</td>\n",
              "      <td>1</td>\n",
              "      <td>0</td>\n",
              "      <td>0</td>\n",
              "      <td>0</td>\n",
              "      <td>1</td>\n",
              "      <td>0</td>\n",
              "      <td>0</td>\n",
              "      <td>0</td>\n",
              "      <td>0</td>\n",
              "      <td>1</td>\n",
              "      <td>0</td>\n",
              "      <td>0</td>\n",
              "      <td>1</td>\n",
              "    </tr>\n",
              "    <tr>\n",
              "      <th>2</th>\n",
              "      <td>VK3KGA9M</td>\n",
              "      <td>31</td>\n",
              "      <td>RG270</td>\n",
              "      <td>14</td>\n",
              "      <td>215949</td>\n",
              "      <td>0</td>\n",
              "      <td>0</td>\n",
              "      <td>1</td>\n",
              "      <td>0</td>\n",
              "      <td>1</td>\n",
              "      <td>0</td>\n",
              "      <td>0</td>\n",
              "      <td>0</td>\n",
              "      <td>1</td>\n",
              "      <td>0</td>\n",
              "      <td>1</td>\n",
              "      <td>0</td>\n",
              "      <td>0</td>\n",
              "      <td>1</td>\n",
              "    </tr>\n",
              "    <tr>\n",
              "      <th>3</th>\n",
              "      <td>TT8RPZVC</td>\n",
              "      <td>29</td>\n",
              "      <td>RG272</td>\n",
              "      <td>33</td>\n",
              "      <td>868070</td>\n",
              "      <td>0</td>\n",
              "      <td>1</td>\n",
              "      <td>0</td>\n",
              "      <td>0</td>\n",
              "      <td>1</td>\n",
              "      <td>0</td>\n",
              "      <td>0</td>\n",
              "      <td>0</td>\n",
              "      <td>1</td>\n",
              "      <td>0</td>\n",
              "      <td>1</td>\n",
              "      <td>0</td>\n",
              "      <td>0</td>\n",
              "      <td>1</td>\n",
              "    </tr>\n",
              "    <tr>\n",
              "      <th>4</th>\n",
              "      <td>SHQZEYTZ</td>\n",
              "      <td>29</td>\n",
              "      <td>RG270</td>\n",
              "      <td>19</td>\n",
              "      <td>657087</td>\n",
              "      <td>0</td>\n",
              "      <td>1</td>\n",
              "      <td>0</td>\n",
              "      <td>0</td>\n",
              "      <td>1</td>\n",
              "      <td>0</td>\n",
              "      <td>0</td>\n",
              "      <td>0</td>\n",
              "      <td>1</td>\n",
              "      <td>0</td>\n",
              "      <td>1</td>\n",
              "      <td>0</td>\n",
              "      <td>1</td>\n",
              "      <td>0</td>\n",
              "    </tr>\n",
              "  </tbody>\n",
              "</table>\n",
              "</div>"
            ],
            "text/plain": [
              "         ID  Age Region_Code  ...  Is_Active_Yes  Gender_Female  Gender_Male\n",
              "0  VBENBARO   29       RG254  ...              0              0            1\n",
              "1  CCMEWNKY   43       RG268  ...              0              0            1\n",
              "2  VK3KGA9M   31       RG270  ...              0              0            1\n",
              "3  TT8RPZVC   29       RG272  ...              0              0            1\n",
              "4  SHQZEYTZ   29       RG270  ...              0              1            0\n",
              "\n",
              "[5 rows x 19 columns]"
            ]
          },
          "metadata": {
            "tags": []
          },
          "execution_count": 209
        }
      ]
    },
    {
      "cell_type": "code",
      "metadata": {
        "colab": {
          "base_uri": "https://localhost:8080/"
        },
        "id": "j9AvVmX5zptR",
        "outputId": "fa3ccdd5-6fe3-4af5-a5d5-372bfa37dd86"
      },
      "source": [
        "test_final.columns.values"
      ],
      "execution_count": null,
      "outputs": [
        {
          "output_type": "execute_result",
          "data": {
            "text/plain": [
              "array(['ID', 'Age', 'Region_Code', 'Vintage', 'Avg_Account_Balance',\n",
              "       'Occupation_Entrepreneur', 'Occupation_Other',\n",
              "       'Occupation_Salaried', 'Occupation_Self_Employed',\n",
              "       'Channel_Code_X1', 'Channel_Code_X2', 'Channel_Code_X3',\n",
              "       'Channel_Code_X4', 'Credit_Product_No', 'Credit_Product_Yes',\n",
              "       'Is_Active_No', 'Is_Active_Yes', 'Gender_Female', 'Gender_Male'],\n",
              "      dtype=object)"
            ]
          },
          "metadata": {
            "tags": []
          },
          "execution_count": 210
        }
      ]
    },
    {
      "cell_type": "code",
      "metadata": {
        "id": "N4BP3kyP85kB"
      },
      "source": [
        "scaler_final = pickle.load(open('scaler_full.pkl','rb'))\n",
        "X_test_final_scaled=scaler_final.transform(test_final[['Age','Vintage', 'Avg_Account_Balance',\n",
        "       'Occupation_Entrepreneur', 'Occupation_Other',\n",
        "       'Occupation_Salaried', 'Occupation_Self_Employed',\n",
        "       'Channel_Code_X1', 'Channel_Code_X2', 'Channel_Code_X3',\n",
        "       'Channel_Code_X4', 'Credit_Product_No', 'Credit_Product_Yes',\n",
        "       'Is_Active_No', 'Is_Active_Yes', 'Gender_Female', 'Gender_Male']])"
      ],
      "execution_count": null,
      "outputs": []
    },
    {
      "cell_type": "code",
      "metadata": {
        "id": "3LaUlp189Pan"
      },
      "source": [
        "#But MLP performs very well when submitted\n",
        "mlp_final = pickle.load(open('mlp_full_final.pkl','rb'))\n",
        "p_is_lead=[]\n",
        "prob=mlp_final.predict_proba(X_test_final_scaled)\n",
        "for p in prob:\n",
        "  p_is_lead.append(p[1])\n",
        "list_of_tuples = list(zip(test_final.ID.to_list(), p_is_lead)) \n",
        "sub_mlp_final = pd.DataFrame(list_of_tuples,\n",
        "                  columns = ['ID', 'Is_Lead']) \n",
        "sub_mlp_final.to_csv(\"MLP_final_full_data.csv\",index=False)\n",
        "\n"
      ],
      "execution_count": null,
      "outputs": []
    },
    {
      "cell_type": "markdown",
      "metadata": {
        "id": "oXz6yXTWBEDh"
      },
      "source": [
        "**For Testing purposes on Accuracy & AUC_ROC_Score for MLP & XGB**"
      ]
    },
    {
      "cell_type": "code",
      "metadata": {
        "id": "-Q2UkTp-zSuE"
      },
      "source": [
        "scaler = pickle.load(open('scaler.pkl','rb'))"
      ],
      "execution_count": null,
      "outputs": []
    },
    {
      "cell_type": "code",
      "metadata": {
        "colab": {
          "base_uri": "https://localhost:8080/",
          "height": 439
        },
        "id": "5tYovJfb0BwI",
        "outputId": "e363796d-b16c-4111-a9c2-6de75cbaa53e"
      },
      "source": [
        "test_final[['Age','Vintage', 'Avg_Account_Balance',\n",
        "       'Occupation_Entrepreneur', 'Occupation_Other',\n",
        "       'Occupation_Salaried', 'Occupation_Self_Employed',\n",
        "       'Channel_Code_X1', 'Channel_Code_X2', 'Channel_Code_X3',\n",
        "       'Channel_Code_X4', 'Credit_Product_No', 'Credit_Product_Yes',\n",
        "       'Is_Active_No', 'Is_Active_Yes', 'Gender_Female', 'Gender_Male']]"
      ],
      "execution_count": null,
      "outputs": [
        {
          "output_type": "execute_result",
          "data": {
            "text/html": [
              "<div>\n",
              "<style scoped>\n",
              "    .dataframe tbody tr th:only-of-type {\n",
              "        vertical-align: middle;\n",
              "    }\n",
              "\n",
              "    .dataframe tbody tr th {\n",
              "        vertical-align: top;\n",
              "    }\n",
              "\n",
              "    .dataframe thead th {\n",
              "        text-align: right;\n",
              "    }\n",
              "</style>\n",
              "<table border=\"1\" class=\"dataframe\">\n",
              "  <thead>\n",
              "    <tr style=\"text-align: right;\">\n",
              "      <th></th>\n",
              "      <th>Age</th>\n",
              "      <th>Vintage</th>\n",
              "      <th>Avg_Account_Balance</th>\n",
              "      <th>Occupation_Entrepreneur</th>\n",
              "      <th>Occupation_Other</th>\n",
              "      <th>Occupation_Salaried</th>\n",
              "      <th>Occupation_Self_Employed</th>\n",
              "      <th>Channel_Code_X1</th>\n",
              "      <th>Channel_Code_X2</th>\n",
              "      <th>Channel_Code_X3</th>\n",
              "      <th>Channel_Code_X4</th>\n",
              "      <th>Credit_Product_No</th>\n",
              "      <th>Credit_Product_Yes</th>\n",
              "      <th>Is_Active_No</th>\n",
              "      <th>Is_Active_Yes</th>\n",
              "      <th>Gender_Female</th>\n",
              "      <th>Gender_Male</th>\n",
              "    </tr>\n",
              "  </thead>\n",
              "  <tbody>\n",
              "    <tr>\n",
              "      <th>0</th>\n",
              "      <td>29</td>\n",
              "      <td>25</td>\n",
              "      <td>742366</td>\n",
              "      <td>0</td>\n",
              "      <td>1</td>\n",
              "      <td>0</td>\n",
              "      <td>0</td>\n",
              "      <td>1</td>\n",
              "      <td>0</td>\n",
              "      <td>0</td>\n",
              "      <td>0</td>\n",
              "      <td>0</td>\n",
              "      <td>1</td>\n",
              "      <td>1</td>\n",
              "      <td>0</td>\n",
              "      <td>0</td>\n",
              "      <td>1</td>\n",
              "    </tr>\n",
              "    <tr>\n",
              "      <th>1</th>\n",
              "      <td>43</td>\n",
              "      <td>49</td>\n",
              "      <td>925537</td>\n",
              "      <td>0</td>\n",
              "      <td>1</td>\n",
              "      <td>0</td>\n",
              "      <td>0</td>\n",
              "      <td>0</td>\n",
              "      <td>1</td>\n",
              "      <td>0</td>\n",
              "      <td>0</td>\n",
              "      <td>0</td>\n",
              "      <td>0</td>\n",
              "      <td>1</td>\n",
              "      <td>0</td>\n",
              "      <td>0</td>\n",
              "      <td>1</td>\n",
              "    </tr>\n",
              "    <tr>\n",
              "      <th>2</th>\n",
              "      <td>31</td>\n",
              "      <td>14</td>\n",
              "      <td>215949</td>\n",
              "      <td>0</td>\n",
              "      <td>0</td>\n",
              "      <td>1</td>\n",
              "      <td>0</td>\n",
              "      <td>1</td>\n",
              "      <td>0</td>\n",
              "      <td>0</td>\n",
              "      <td>0</td>\n",
              "      <td>1</td>\n",
              "      <td>0</td>\n",
              "      <td>1</td>\n",
              "      <td>0</td>\n",
              "      <td>0</td>\n",
              "      <td>1</td>\n",
              "    </tr>\n",
              "    <tr>\n",
              "      <th>3</th>\n",
              "      <td>29</td>\n",
              "      <td>33</td>\n",
              "      <td>868070</td>\n",
              "      <td>0</td>\n",
              "      <td>1</td>\n",
              "      <td>0</td>\n",
              "      <td>0</td>\n",
              "      <td>1</td>\n",
              "      <td>0</td>\n",
              "      <td>0</td>\n",
              "      <td>0</td>\n",
              "      <td>1</td>\n",
              "      <td>0</td>\n",
              "      <td>1</td>\n",
              "      <td>0</td>\n",
              "      <td>0</td>\n",
              "      <td>1</td>\n",
              "    </tr>\n",
              "    <tr>\n",
              "      <th>4</th>\n",
              "      <td>29</td>\n",
              "      <td>19</td>\n",
              "      <td>657087</td>\n",
              "      <td>0</td>\n",
              "      <td>1</td>\n",
              "      <td>0</td>\n",
              "      <td>0</td>\n",
              "      <td>1</td>\n",
              "      <td>0</td>\n",
              "      <td>0</td>\n",
              "      <td>0</td>\n",
              "      <td>1</td>\n",
              "      <td>0</td>\n",
              "      <td>1</td>\n",
              "      <td>0</td>\n",
              "      <td>1</td>\n",
              "      <td>0</td>\n",
              "    </tr>\n",
              "    <tr>\n",
              "      <th>...</th>\n",
              "      <td>...</td>\n",
              "      <td>...</td>\n",
              "      <td>...</td>\n",
              "      <td>...</td>\n",
              "      <td>...</td>\n",
              "      <td>...</td>\n",
              "      <td>...</td>\n",
              "      <td>...</td>\n",
              "      <td>...</td>\n",
              "      <td>...</td>\n",
              "      <td>...</td>\n",
              "      <td>...</td>\n",
              "      <td>...</td>\n",
              "      <td>...</td>\n",
              "      <td>...</td>\n",
              "      <td>...</td>\n",
              "      <td>...</td>\n",
              "    </tr>\n",
              "    <tr>\n",
              "      <th>105307</th>\n",
              "      <td>52</td>\n",
              "      <td>86</td>\n",
              "      <td>4242558</td>\n",
              "      <td>0</td>\n",
              "      <td>0</td>\n",
              "      <td>1</td>\n",
              "      <td>0</td>\n",
              "      <td>0</td>\n",
              "      <td>1</td>\n",
              "      <td>0</td>\n",
              "      <td>0</td>\n",
              "      <td>0</td>\n",
              "      <td>1</td>\n",
              "      <td>0</td>\n",
              "      <td>1</td>\n",
              "      <td>0</td>\n",
              "      <td>1</td>\n",
              "    </tr>\n",
              "    <tr>\n",
              "      <th>105308</th>\n",
              "      <td>55</td>\n",
              "      <td>86</td>\n",
              "      <td>1159153</td>\n",
              "      <td>0</td>\n",
              "      <td>1</td>\n",
              "      <td>0</td>\n",
              "      <td>0</td>\n",
              "      <td>0</td>\n",
              "      <td>1</td>\n",
              "      <td>0</td>\n",
              "      <td>0</td>\n",
              "      <td>0</td>\n",
              "      <td>1</td>\n",
              "      <td>1</td>\n",
              "      <td>0</td>\n",
              "      <td>0</td>\n",
              "      <td>1</td>\n",
              "    </tr>\n",
              "    <tr>\n",
              "      <th>105309</th>\n",
              "      <td>35</td>\n",
              "      <td>15</td>\n",
              "      <td>1703727</td>\n",
              "      <td>0</td>\n",
              "      <td>0</td>\n",
              "      <td>1</td>\n",
              "      <td>0</td>\n",
              "      <td>0</td>\n",
              "      <td>0</td>\n",
              "      <td>0</td>\n",
              "      <td>1</td>\n",
              "      <td>1</td>\n",
              "      <td>0</td>\n",
              "      <td>1</td>\n",
              "      <td>0</td>\n",
              "      <td>0</td>\n",
              "      <td>1</td>\n",
              "    </tr>\n",
              "    <tr>\n",
              "      <th>105310</th>\n",
              "      <td>53</td>\n",
              "      <td>93</td>\n",
              "      <td>737178</td>\n",
              "      <td>0</td>\n",
              "      <td>1</td>\n",
              "      <td>0</td>\n",
              "      <td>0</td>\n",
              "      <td>0</td>\n",
              "      <td>0</td>\n",
              "      <td>1</td>\n",
              "      <td>0</td>\n",
              "      <td>1</td>\n",
              "      <td>0</td>\n",
              "      <td>0</td>\n",
              "      <td>1</td>\n",
              "      <td>0</td>\n",
              "      <td>1</td>\n",
              "    </tr>\n",
              "    <tr>\n",
              "      <th>105311</th>\n",
              "      <td>27</td>\n",
              "      <td>21</td>\n",
              "      <td>591565</td>\n",
              "      <td>0</td>\n",
              "      <td>0</td>\n",
              "      <td>1</td>\n",
              "      <td>0</td>\n",
              "      <td>1</td>\n",
              "      <td>0</td>\n",
              "      <td>0</td>\n",
              "      <td>0</td>\n",
              "      <td>1</td>\n",
              "      <td>0</td>\n",
              "      <td>1</td>\n",
              "      <td>0</td>\n",
              "      <td>0</td>\n",
              "      <td>1</td>\n",
              "    </tr>\n",
              "  </tbody>\n",
              "</table>\n",
              "<p>105312 rows × 17 columns</p>\n",
              "</div>"
            ],
            "text/plain": [
              "        Age  Vintage  ...  Gender_Female  Gender_Male\n",
              "0        29       25  ...              0            1\n",
              "1        43       49  ...              0            1\n",
              "2        31       14  ...              0            1\n",
              "3        29       33  ...              0            1\n",
              "4        29       19  ...              1            0\n",
              "...     ...      ...  ...            ...          ...\n",
              "105307   52       86  ...              0            1\n",
              "105308   55       86  ...              0            1\n",
              "105309   35       15  ...              0            1\n",
              "105310   53       93  ...              0            1\n",
              "105311   27       21  ...              0            1\n",
              "\n",
              "[105312 rows x 17 columns]"
            ]
          },
          "metadata": {
            "tags": []
          },
          "execution_count": 162
        }
      ]
    },
    {
      "cell_type": "code",
      "metadata": {
        "id": "cWa9HncZzWDZ"
      },
      "source": [
        "X_test_scaled=scaler.transform(test_final[['Age','Vintage', 'Avg_Account_Balance',\n",
        "       'Occupation_Entrepreneur', 'Occupation_Other',\n",
        "       'Occupation_Salaried', 'Occupation_Self_Employed',\n",
        "       'Channel_Code_X1', 'Channel_Code_X2', 'Channel_Code_X3',\n",
        "       'Channel_Code_X4', 'Credit_Product_No', 'Credit_Product_Yes',\n",
        "       'Is_Active_No', 'Is_Active_Yes', 'Gender_Female', 'Gender_Male']])"
      ],
      "execution_count": null,
      "outputs": []
    },
    {
      "cell_type": "code",
      "metadata": {
        "colab": {
          "base_uri": "https://localhost:8080/"
        },
        "id": "PdSgNQEA0iwX",
        "outputId": "d2484f6d-35f1-4dfb-f2bb-718388243b71"
      },
      "source": [
        "mlp = pickle.load(open('mlp.pkl','rb'))\n",
        "print(mlp.predict_proba(X_test_scaled))\n",
        "print(mlp.predict(X_test_scaled))"
      ],
      "execution_count": null,
      "outputs": [
        {
          "output_type": "stream",
          "text": [
            "[[0.93736557 0.06263443]\n",
            " [0.09301964 0.90698036]\n",
            " [0.93586785 0.06413215]\n",
            " ...\n",
            " [0.89727365 0.10272635]\n",
            " [0.85014107 0.14985893]\n",
            " [0.94033227 0.05966773]]\n",
            "[0 1 0 ... 0 0 0]\n"
          ],
          "name": "stdout"
        }
      ]
    },
    {
      "cell_type": "code",
      "metadata": {
        "id": "CiFGbZCZ1W9h"
      },
      "source": [
        "p_is_lead=[]\n",
        "prob=mlp.predict_proba(X_test_scaled)\n",
        "for p in prob:\n",
        "  p_is_lead.append(p[1])\n",
        "  "
      ],
      "execution_count": null,
      "outputs": []
    },
    {
      "cell_type": "code",
      "metadata": {
        "id": "Wq5u2NWS214n"
      },
      "source": [
        "list_of_tuples = list(zip(test_final.ID.to_list(), p_is_lead)) "
      ],
      "execution_count": null,
      "outputs": []
    },
    {
      "cell_type": "code",
      "metadata": {
        "id": "No_f37zt3X7W"
      },
      "source": [
        "sub_mlp = pd.DataFrame(list_of_tuples,\n",
        "                  columns = ['ID', 'Is_Lead']) "
      ],
      "execution_count": null,
      "outputs": []
    },
    {
      "cell_type": "code",
      "metadata": {
        "id": "ImB7Hg2z3e5I"
      },
      "source": [
        "sub_mlp.to_csv(\"MLP_10.csv\",index=False)"
      ],
      "execution_count": null,
      "outputs": []
    },
    {
      "cell_type": "code",
      "metadata": {
        "colab": {
          "base_uri": "https://localhost:8080/"
        },
        "id": "e6owundS072w",
        "outputId": "87ec81e1-396f-447c-afa9-37470e3881cb"
      },
      "source": [
        "boost = pickle.load(open('xgb.pkl','rb'))\n",
        "print(boost.predict_proba(X_test_scaled))\n",
        "print(boost.predict(X_test_scaled))"
      ],
      "execution_count": null,
      "outputs": [
        {
          "output_type": "stream",
          "text": [
            "[[0.91344136 0.08655865]\n",
            " [0.14560235 0.85439765]\n",
            " [0.939028   0.06097197]\n",
            " ...\n",
            " [0.8877196  0.11228041]\n",
            " [0.7774961  0.22250393]\n",
            " [0.94015026 0.05984973]]\n",
            "[0 1 0 ... 0 0 0]\n"
          ],
          "name": "stdout"
        }
      ]
    },
    {
      "cell_type": "code",
      "metadata": {
        "id": "-rvk9HDp55E1"
      },
      "source": [
        "p_is_lead=[]\n",
        "prob=boost.predict_proba(X_test_scaled)\n",
        "for p in prob:\n",
        "  p_is_lead.append(p[1])\n",
        "list_of_tuples = list(zip(test_final.ID.to_list(), p_is_lead)) \n",
        "sub_xgb = pd.DataFrame(list_of_tuples,\n",
        "                  columns = ['ID', 'Is_Lead']) \n",
        "sub_xgb.to_csv(\"XGB_10.csv\",index=False)"
      ],
      "execution_count": null,
      "outputs": []
    }
  ]
}