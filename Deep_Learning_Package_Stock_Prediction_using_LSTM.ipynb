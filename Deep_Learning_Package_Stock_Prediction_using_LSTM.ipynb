{
  "nbformat": 4,
  "nbformat_minor": 0,
  "metadata": {
    "colab": {
      "name": "Deep_Learning_Package_Stock_Prediction_using_LSTM.ipynb",
      "provenance": [],
      "collapsed_sections": [],
      "authorship_tag": "ABX9TyNxCDCmLZ25C4Z4TuS6M6BU",
      "include_colab_link": true
    },
    "kernelspec": {
      "name": "python3",
      "display_name": "Python 3"
    }
  },
  "cells": [
    {
      "cell_type": "markdown",
      "metadata": {
        "id": "view-in-github",
        "colab_type": "text"
      },
      "source": [
        "<a href=\"https://colab.research.google.com/github/Kiran-Venkatesh/KV/blob/master/Deep_Learning_Package_Stock_Prediction_using_LSTM.ipynb\" target=\"_parent\"><img src=\"https://colab.research.google.com/assets/colab-badge.svg\" alt=\"Open In Colab\"/></a>"
      ]
    },
    {
      "cell_type": "code",
      "metadata": {
        "id": "VqNpnWyTCiDE",
        "colab": {
          "base_uri": "https://localhost:8080/"
        },
        "outputId": "260ec95c-16d3-4004-bde9-851c097107a5"
      },
      "source": [
        "pip install yfinance"
      ],
      "execution_count": null,
      "outputs": [
        {
          "output_type": "stream",
          "text": [
            "Collecting yfinance\n",
            "  Downloading https://files.pythonhosted.org/packages/7a/e8/b9d7104d3a4bf39924799067592d9e59119fcfc900a425a12e80a3123ec8/yfinance-0.1.55.tar.gz\n",
            "Requirement already satisfied: pandas>=0.24 in /usr/local/lib/python3.6/dist-packages (from yfinance) (1.1.4)\n",
            "Requirement already satisfied: numpy>=1.15 in /usr/local/lib/python3.6/dist-packages (from yfinance) (1.18.5)\n",
            "Requirement already satisfied: requests>=2.20 in /usr/local/lib/python3.6/dist-packages (from yfinance) (2.23.0)\n",
            "Requirement already satisfied: multitasking>=0.0.7 in /usr/local/lib/python3.6/dist-packages (from yfinance) (0.0.9)\n",
            "Collecting lxml>=4.5.1\n",
            "\u001b[?25l  Downloading https://files.pythonhosted.org/packages/64/28/0b761b64ecbd63d272ed0e7a6ae6e4402fc37886b59181bfdf274424d693/lxml-4.6.1-cp36-cp36m-manylinux1_x86_64.whl (5.5MB)\n",
            "\u001b[K     |████████████████████████████████| 5.5MB 7.5MB/s \n",
            "\u001b[?25hRequirement already satisfied: pytz>=2017.2 in /usr/local/lib/python3.6/dist-packages (from pandas>=0.24->yfinance) (2018.9)\n",
            "Requirement already satisfied: python-dateutil>=2.7.3 in /usr/local/lib/python3.6/dist-packages (from pandas>=0.24->yfinance) (2.8.1)\n",
            "Requirement already satisfied: chardet<4,>=3.0.2 in /usr/local/lib/python3.6/dist-packages (from requests>=2.20->yfinance) (3.0.4)\n",
            "Requirement already satisfied: certifi>=2017.4.17 in /usr/local/lib/python3.6/dist-packages (from requests>=2.20->yfinance) (2020.6.20)\n",
            "Requirement already satisfied: idna<3,>=2.5 in /usr/local/lib/python3.6/dist-packages (from requests>=2.20->yfinance) (2.10)\n",
            "Requirement already satisfied: urllib3!=1.25.0,!=1.25.1,<1.26,>=1.21.1 in /usr/local/lib/python3.6/dist-packages (from requests>=2.20->yfinance) (1.24.3)\n",
            "Requirement already satisfied: six>=1.5 in /usr/local/lib/python3.6/dist-packages (from python-dateutil>=2.7.3->pandas>=0.24->yfinance) (1.15.0)\n",
            "Building wheels for collected packages: yfinance\n",
            "  Building wheel for yfinance (setup.py) ... \u001b[?25l\u001b[?25hdone\n",
            "  Created wheel for yfinance: filename=yfinance-0.1.55-py2.py3-none-any.whl size=22618 sha256=f10607da89c1582c5ea4c9734beb4119b5984ce603b052247b9ed6c7c7165841\n",
            "  Stored in directory: /root/.cache/pip/wheels/04/98/cc/2702a4242d60bdc14f48b4557c427ded1fe92aedf257d4565c\n",
            "Successfully built yfinance\n",
            "Installing collected packages: lxml, yfinance\n",
            "  Found existing installation: lxml 4.2.6\n",
            "    Uninstalling lxml-4.2.6:\n",
            "      Successfully uninstalled lxml-4.2.6\n",
            "Successfully installed lxml-4.6.1 yfinance-0.1.55\n"
          ],
          "name": "stdout"
        }
      ]
    },
    {
      "cell_type": "code",
      "metadata": {
        "id": "oStz7VSWDGwp",
        "colab": {
          "base_uri": "https://localhost:8080/"
        },
        "outputId": "04259554-10c3-4d33-f62d-4f72d0e8987f"
      },
      "source": [
        "import yfinance as yf\n",
        "\n",
        "data_df = yf.download(\"PFE\", start=\"2015-02-01\", end=\"2020-11-21\")\n",
        "data_df=data_df.reset_index()"
      ],
      "execution_count": null,
      "outputs": [
        {
          "output_type": "stream",
          "text": [
            "\r[*********************100%***********************]  1 of 1 completed\n"
          ],
          "name": "stdout"
        }
      ]
    },
    {
      "cell_type": "code",
      "metadata": {
        "colab": {
          "base_uri": "https://localhost:8080/",
          "height": 204
        },
        "id": "ckR-cAgBgjii",
        "outputId": "5241d1bd-c24c-4191-923e-eb1784aa6e0c"
      },
      "source": [
        "data_df.head()"
      ],
      "execution_count": null,
      "outputs": [
        {
          "output_type": "execute_result",
          "data": {
            "text/html": [
              "<div>\n",
              "<style scoped>\n",
              "    .dataframe tbody tr th:only-of-type {\n",
              "        vertical-align: middle;\n",
              "    }\n",
              "\n",
              "    .dataframe tbody tr th {\n",
              "        vertical-align: top;\n",
              "    }\n",
              "\n",
              "    .dataframe thead th {\n",
              "        text-align: right;\n",
              "    }\n",
              "</style>\n",
              "<table border=\"1\" class=\"dataframe\">\n",
              "  <thead>\n",
              "    <tr style=\"text-align: right;\">\n",
              "      <th></th>\n",
              "      <th>Date</th>\n",
              "      <th>Open</th>\n",
              "      <th>High</th>\n",
              "      <th>Low</th>\n",
              "      <th>Close</th>\n",
              "      <th>Adj Close</th>\n",
              "      <th>Volume</th>\n",
              "    </tr>\n",
              "  </thead>\n",
              "  <tbody>\n",
              "    <tr>\n",
              "      <th>0</th>\n",
              "      <td>2015-02-02</td>\n",
              "      <td>29.829222</td>\n",
              "      <td>30.028463</td>\n",
              "      <td>29.430740</td>\n",
              "      <td>30.028463</td>\n",
              "      <td>24.094809</td>\n",
              "      <td>24550000</td>\n",
              "    </tr>\n",
              "    <tr>\n",
              "      <th>1</th>\n",
              "      <td>2015-02-03</td>\n",
              "      <td>30.208729</td>\n",
              "      <td>30.512335</td>\n",
              "      <td>29.848198</td>\n",
              "      <td>30.379507</td>\n",
              "      <td>24.376486</td>\n",
              "      <td>34785300</td>\n",
              "    </tr>\n",
              "    <tr>\n",
              "      <th>2</th>\n",
              "      <td>2015-02-04</td>\n",
              "      <td>30.332067</td>\n",
              "      <td>30.616699</td>\n",
              "      <td>30.094877</td>\n",
              "      <td>30.426945</td>\n",
              "      <td>24.629921</td>\n",
              "      <td>38671400</td>\n",
              "    </tr>\n",
              "    <tr>\n",
              "      <th>3</th>\n",
              "      <td>2015-02-05</td>\n",
              "      <td>31.347248</td>\n",
              "      <td>31.499052</td>\n",
              "      <td>30.929790</td>\n",
              "      <td>31.299810</td>\n",
              "      <td>25.336487</td>\n",
              "      <td>62653700</td>\n",
              "    </tr>\n",
              "    <tr>\n",
              "      <th>4</th>\n",
              "      <td>2015-02-06</td>\n",
              "      <td>31.271347</td>\n",
              "      <td>31.707781</td>\n",
              "      <td>31.053131</td>\n",
              "      <td>31.470589</td>\n",
              "      <td>25.474730</td>\n",
              "      <td>36868500</td>\n",
              "    </tr>\n",
              "  </tbody>\n",
              "</table>\n",
              "</div>"
            ],
            "text/plain": [
              "        Date       Open       High        Low      Close  Adj Close    Volume\n",
              "0 2015-02-02  29.829222  30.028463  29.430740  30.028463  24.094809  24550000\n",
              "1 2015-02-03  30.208729  30.512335  29.848198  30.379507  24.376486  34785300\n",
              "2 2015-02-04  30.332067  30.616699  30.094877  30.426945  24.629921  38671400\n",
              "3 2015-02-05  31.347248  31.499052  30.929790  31.299810  25.336487  62653700\n",
              "4 2015-02-06  31.271347  31.707781  31.053131  31.470589  25.474730  36868500"
            ]
          },
          "metadata": {
            "tags": []
          },
          "execution_count": 3
        }
      ]
    },
    {
      "cell_type": "code",
      "metadata": {
        "id": "GfzqKqSyDzeh",
        "colab": {
          "base_uri": "https://localhost:8080/"
        },
        "outputId": "2a524931-db6e-4211-fef4-c39f3d4a3a42"
      },
      "source": [
        "import math\n",
        "import matplotlib.pyplot as plt\n",
        "import keras\n",
        "import pandas as pd\n",
        "import numpy as np\n",
        "from keras.models import Sequential\n",
        "from keras.layers import Dense\n",
        "from keras.layers import LSTM\n",
        "from keras.layers import Dropout\n",
        "from keras.layers import *\n",
        "from sklearn.preprocessing import MinMaxScaler\n",
        "from sklearn.metrics import mean_squared_error\n",
        "from sklearn.metrics import mean_absolute_error\n",
        "from sklearn.model_selection import train_test_split\n",
        "from keras.callbacks import EarlyStopping\n",
        "len(data_df)"
      ],
      "execution_count": null,
      "outputs": [
        {
          "output_type": "execute_result",
          "data": {
            "text/plain": [
              "1464"
            ]
          },
          "metadata": {
            "tags": []
          },
          "execution_count": 4
        }
      ]
    },
    {
      "cell_type": "code",
      "metadata": {
        "colab": {
          "base_uri": "https://localhost:8080/"
        },
        "id": "MzHIiVO9Xzkb",
        "outputId": "9c4ce0f3-14c4-4a72-f117-9768b91f7938"
      },
      "source": [
        "int(0.8*len(data_df))"
      ],
      "execution_count": null,
      "outputs": [
        {
          "output_type": "execute_result",
          "data": {
            "text/plain": [
              "1171"
            ]
          },
          "metadata": {
            "tags": []
          },
          "execution_count": 14
        }
      ]
    },
    {
      "cell_type": "code",
      "metadata": {
        "colab": {
          "base_uri": "https://localhost:8080/"
        },
        "id": "GtjBDKXcjk05",
        "outputId": "3e5e7b91-e719-49be-dc49-61024183bdc4"
      },
      "source": [
        "data_df.iloc[0]"
      ],
      "execution_count": null,
      "outputs": [
        {
          "output_type": "execute_result",
          "data": {
            "text/plain": [
              "Date         2015-02-02 00:00:00\n",
              "Open                     29.8292\n",
              "High                     30.0285\n",
              "Low                      29.4307\n",
              "Close                    30.0285\n",
              "Adj Close                24.0948\n",
              "Volume                  24550000\n",
              "Name: 0, dtype: object"
            ]
          },
          "metadata": {
            "tags": []
          },
          "execution_count": 19
        }
      ]
    },
    {
      "cell_type": "code",
      "metadata": {
        "id": "8RI9-4LyEyos"
      },
      "source": [
        "training_set = data_df.iloc[:int(0.8*len(data_df)), 1:2].values\n",
        "test_set = data_df.iloc[int(0.8*len(data_df)):, 1:2].values"
      ],
      "execution_count": null,
      "outputs": []
    },
    {
      "cell_type": "code",
      "metadata": {
        "id": "EBnQe8N3Nm2t",
        "colab": {
          "base_uri": "https://localhost:8080/"
        },
        "outputId": "e4cc4953-0d2b-4750-93f6-be642c728121"
      },
      "source": [
        "# Feature Scaling\n",
        "sc = MinMaxScaler(feature_range = (0, 1))\n",
        "training_set_scaled = sc.fit_transform(training_set)\n",
        "# Creating a data structure with 60 time-steps and 1 output\n",
        "X_train = []\n",
        "y_train = []\n",
        "for i in range(60, len(training_set)):\n",
        "  X_train.append(training_set_scaled[i-60:i, 0])\n",
        "  y_train.append(training_set_scaled[i, 0])\n",
        "X_train, y_train = np.array(X_train), np.array(y_train)\n",
        "X_train = np.reshape(X_train, (X_train.shape[0], X_train.shape[1], 1))\n",
        "X_train.shape"
      ],
      "execution_count": null,
      "outputs": [
        {
          "output_type": "execute_result",
          "data": {
            "text/plain": [
              "(1111, 60, 1)"
            ]
          },
          "metadata": {
            "tags": []
          },
          "execution_count": 7
        }
      ]
    },
    {
      "cell_type": "code",
      "metadata": {
        "colab": {
          "base_uri": "https://localhost:8080/"
        },
        "id": "4PZ8zS9miLTA",
        "outputId": "8b64a2ce-bf06-4a5e-c719-10fe0e37f5e0"
      },
      "source": [
        "X_train"
      ],
      "execution_count": null,
      "outputs": [
        {
          "output_type": "execute_result",
          "data": {
            "text/plain": [
              "array([[[0.16592177],\n",
              "        [0.18826816],\n",
              "        [0.19553068],\n",
              "        ...,\n",
              "        [0.37597759],\n",
              "        [0.38379884],\n",
              "        [0.35027931]],\n",
              "\n",
              "       [[0.18826816],\n",
              "        [0.19553068],\n",
              "        [0.25530723],\n",
              "        ...,\n",
              "        [0.38379884],\n",
              "        [0.35027931],\n",
              "        [0.31843566]],\n",
              "\n",
              "       [[0.19553068],\n",
              "        [0.25530723],\n",
              "        [0.25083797],\n",
              "        ...,\n",
              "        [0.35027931],\n",
              "        [0.31843566],\n",
              "        [0.31508389]],\n",
              "\n",
              "       ...,\n",
              "\n",
              "       [[0.81284921],\n",
              "        [0.83687137],\n",
              "        [0.84022337],\n",
              "        ...,\n",
              "        [0.45251402],\n",
              "        [0.44413413],\n",
              "        [0.47039104]],\n",
              "\n",
              "       [[0.83687137],\n",
              "        [0.84022337],\n",
              "        [0.84972051],\n",
              "        ...,\n",
              "        [0.44413413],\n",
              "        [0.47039104],\n",
              "        [0.44189939]],\n",
              "\n",
              "       [[0.84022337],\n",
              "        [0.84972051],\n",
              "        [0.88826815],\n",
              "        ...,\n",
              "        [0.47039104],\n",
              "        [0.44189939],\n",
              "        [0.43575425]]])"
            ]
          },
          "metadata": {
            "tags": []
          },
          "execution_count": 10
        }
      ]
    },
    {
      "cell_type": "code",
      "metadata": {
        "id": "KZMkfQoKkilC",
        "colab": {
          "base_uri": "https://localhost:8080/"
        },
        "outputId": "015afb99-c9c7-4551-ef2f-54a44097f6c0"
      },
      "source": [
        "len(test_set)"
      ],
      "execution_count": null,
      "outputs": [
        {
          "output_type": "execute_result",
          "data": {
            "text/plain": [
              "293"
            ]
          },
          "metadata": {
            "tags": []
          },
          "execution_count": 11
        }
      ]
    },
    {
      "cell_type": "code",
      "metadata": {
        "id": "9CTSoZzIPfXF",
        "colab": {
          "base_uri": "https://localhost:8080/"
        },
        "outputId": "4cce6d0b-db71-43a6-a62b-1d2615970902"
      },
      "source": [
        "inputs = data_df.iloc[int(0.8*len(data_df))-60:,1:2].values\n",
        "inputs = inputs.reshape(-1,1)\n",
        "inputs = sc.transform(inputs)\n",
        "X_test = []\n",
        "y_test=[]\n",
        "for i in range(60, len(inputs)):\n",
        "    X_test.append(inputs[i-60:i, 0])\n",
        "    y_test.append(inputs[i, 0])\n",
        "    \n",
        "X_test = np.array(X_test)\n",
        "y_test=np.array(y_test)\n",
        "X_test = np.reshape(X_test, (X_test.shape[0], X_test.shape[1], 1))\n",
        "print(X_test.shape)"
      ],
      "execution_count": null,
      "outputs": [
        {
          "output_type": "stream",
          "text": [
            "(293, 60, 1)\n"
          ],
          "name": "stdout"
        }
      ]
    },
    {
      "cell_type": "code",
      "metadata": {
        "id": "Iyx04a-WU4Jo",
        "colab": {
          "base_uri": "https://localhost:8080/"
        },
        "outputId": "e318d999-3883-4148-8419-ff8c7b1321ec"
      },
      "source": [
        "model = Sequential()\n",
        "#Adding the first LSTM layer and some Dropout regularisation\n",
        "model.add(LSTM(units = 50, return_sequences = True, input_shape = (X_train.shape[1], 1)))\n",
        "model.add(Dropout(0.2))\n",
        "# Adding a second LSTM layer and some Dropout regularisation\n",
        "model.add(LSTM(units = 50, return_sequences = True))\n",
        "model.add(Dropout(0.2))\n",
        "# Adding a third LSTM layer and some Dropout regularisation\n",
        "model.add(LSTM(units = 50, return_sequences = True))\n",
        "model.add(Dropout(0.2))\n",
        "# Adding a fourth LSTM layer and some Dropout regularisation\n",
        "model.add(LSTM(units = 50))\n",
        "model.add(Dropout(0.2))\n",
        "# Adding the output layer\n",
        "model.add(Dense(units = 1))\n",
        "\n",
        "# Compiling the RNN\n",
        "model.compile(optimizer = 'adam', loss = 'mean_squared_error')\n",
        "\n",
        "# Fitting the RNN to the Training set\n",
        "model.fit(X_train, y_train, epochs = 100, batch_size = 32)"
      ],
      "execution_count": null,
      "outputs": [
        {
          "output_type": "stream",
          "text": [
            "Epoch 1/100\n",
            "35/35 [==============================] - 4s 110ms/step - loss: 0.0342\n",
            "Epoch 2/100\n",
            "35/35 [==============================] - 4s 114ms/step - loss: 0.0089\n",
            "Epoch 3/100\n",
            "35/35 [==============================] - 4s 115ms/step - loss: 0.0081\n",
            "Epoch 4/100\n",
            "35/35 [==============================] - 4s 113ms/step - loss: 0.0067\n",
            "Epoch 5/100\n",
            "35/35 [==============================] - 4s 112ms/step - loss: 0.0069\n",
            "Epoch 6/100\n",
            "35/35 [==============================] - 4s 111ms/step - loss: 0.0065\n",
            "Epoch 7/100\n",
            "35/35 [==============================] - 4s 108ms/step - loss: 0.0070\n",
            "Epoch 8/100\n",
            "35/35 [==============================] - 4s 111ms/step - loss: 0.0066\n",
            "Epoch 9/100\n",
            "35/35 [==============================] - 4s 110ms/step - loss: 0.0056\n",
            "Epoch 10/100\n",
            "35/35 [==============================] - 4s 113ms/step - loss: 0.0058\n",
            "Epoch 11/100\n",
            "35/35 [==============================] - 4s 113ms/step - loss: 0.0057\n",
            "Epoch 12/100\n",
            "35/35 [==============================] - 4s 112ms/step - loss: 0.0075\n",
            "Epoch 13/100\n",
            "35/35 [==============================] - 4s 113ms/step - loss: 0.0050\n",
            "Epoch 14/100\n",
            "35/35 [==============================] - 4s 109ms/step - loss: 0.0051\n",
            "Epoch 15/100\n",
            "35/35 [==============================] - 4s 112ms/step - loss: 0.0048\n",
            "Epoch 16/100\n",
            "35/35 [==============================] - 4s 109ms/step - loss: 0.0046\n",
            "Epoch 17/100\n",
            "35/35 [==============================] - 4s 110ms/step - loss: 0.0046\n",
            "Epoch 18/100\n",
            "35/35 [==============================] - 4s 120ms/step - loss: 0.0044\n",
            "Epoch 19/100\n",
            "35/35 [==============================] - 4s 122ms/step - loss: 0.0045\n",
            "Epoch 20/100\n",
            "35/35 [==============================] - 4s 126ms/step - loss: 0.0050\n",
            "Epoch 21/100\n",
            "35/35 [==============================] - 4s 110ms/step - loss: 0.0040\n",
            "Epoch 22/100\n",
            "35/35 [==============================] - 4s 110ms/step - loss: 0.0039\n",
            "Epoch 23/100\n",
            "35/35 [==============================] - 4s 110ms/step - loss: 0.0041\n",
            "Epoch 24/100\n",
            "35/35 [==============================] - 4s 113ms/step - loss: 0.0036\n",
            "Epoch 25/100\n",
            "35/35 [==============================] - 4s 110ms/step - loss: 0.0040\n",
            "Epoch 26/100\n",
            "35/35 [==============================] - 4s 112ms/step - loss: 0.0038\n",
            "Epoch 27/100\n",
            "35/35 [==============================] - 4s 114ms/step - loss: 0.0035\n",
            "Epoch 28/100\n",
            "35/35 [==============================] - 4s 114ms/step - loss: 0.0033\n",
            "Epoch 29/100\n",
            "35/35 [==============================] - 4s 121ms/step - loss: 0.0038\n",
            "Epoch 30/100\n",
            "35/35 [==============================] - 4s 118ms/step - loss: 0.0032\n",
            "Epoch 31/100\n",
            "35/35 [==============================] - 4s 112ms/step - loss: 0.0036\n",
            "Epoch 32/100\n",
            "35/35 [==============================] - 4s 111ms/step - loss: 0.0035\n",
            "Epoch 33/100\n",
            "35/35 [==============================] - 4s 111ms/step - loss: 0.0032\n",
            "Epoch 34/100\n",
            "35/35 [==============================] - 4s 111ms/step - loss: 0.0036\n",
            "Epoch 35/100\n",
            "35/35 [==============================] - 4s 115ms/step - loss: 0.0035\n",
            "Epoch 36/100\n",
            "35/35 [==============================] - 4s 112ms/step - loss: 0.0033\n",
            "Epoch 37/100\n",
            "35/35 [==============================] - 4s 111ms/step - loss: 0.0029\n",
            "Epoch 38/100\n",
            "35/35 [==============================] - 4s 114ms/step - loss: 0.0028\n",
            "Epoch 39/100\n",
            "35/35 [==============================] - 4s 114ms/step - loss: 0.0027\n",
            "Epoch 40/100\n",
            "35/35 [==============================] - 4s 114ms/step - loss: 0.0030\n",
            "Epoch 41/100\n",
            "35/35 [==============================] - 4s 113ms/step - loss: 0.0030\n",
            "Epoch 42/100\n",
            "35/35 [==============================] - 4s 115ms/step - loss: 0.0029\n",
            "Epoch 43/100\n",
            "35/35 [==============================] - 4s 114ms/step - loss: 0.0025\n",
            "Epoch 44/100\n",
            "35/35 [==============================] - 4s 116ms/step - loss: 0.0028\n",
            "Epoch 45/100\n",
            "35/35 [==============================] - 4s 115ms/step - loss: 0.0027\n",
            "Epoch 46/100\n",
            "35/35 [==============================] - 4s 113ms/step - loss: 0.0026\n",
            "Epoch 47/100\n",
            "35/35 [==============================] - 4s 113ms/step - loss: 0.0030\n",
            "Epoch 48/100\n",
            "35/35 [==============================] - 4s 115ms/step - loss: 0.0027\n",
            "Epoch 49/100\n",
            "35/35 [==============================] - 4s 120ms/step - loss: 0.0024\n",
            "Epoch 50/100\n",
            "35/35 [==============================] - 4s 122ms/step - loss: 0.0024\n",
            "Epoch 51/100\n",
            "35/35 [==============================] - 4s 116ms/step - loss: 0.0025\n",
            "Epoch 52/100\n",
            "35/35 [==============================] - 4s 118ms/step - loss: 0.0023\n",
            "Epoch 53/100\n",
            "35/35 [==============================] - 4s 120ms/step - loss: 0.0026\n",
            "Epoch 54/100\n",
            "35/35 [==============================] - 4s 119ms/step - loss: 0.0025\n",
            "Epoch 55/100\n",
            "35/35 [==============================] - 4s 118ms/step - loss: 0.0022\n",
            "Epoch 56/100\n",
            "35/35 [==============================] - 4s 119ms/step - loss: 0.0024\n",
            "Epoch 57/100\n",
            "35/35 [==============================] - 4s 120ms/step - loss: 0.0022\n",
            "Epoch 58/100\n",
            "35/35 [==============================] - 4s 115ms/step - loss: 0.0024\n",
            "Epoch 59/100\n",
            "35/35 [==============================] - 4s 114ms/step - loss: 0.0023\n",
            "Epoch 60/100\n",
            "35/35 [==============================] - 4s 116ms/step - loss: 0.0021\n",
            "Epoch 61/100\n",
            "35/35 [==============================] - 4s 118ms/step - loss: 0.0022\n",
            "Epoch 62/100\n",
            "35/35 [==============================] - 4s 116ms/step - loss: 0.0023\n",
            "Epoch 63/100\n",
            "35/35 [==============================] - 4s 116ms/step - loss: 0.0020\n",
            "Epoch 64/100\n",
            "35/35 [==============================] - 4s 115ms/step - loss: 0.0020\n",
            "Epoch 65/100\n",
            "35/35 [==============================] - 4s 119ms/step - loss: 0.0021\n",
            "Epoch 66/100\n",
            "35/35 [==============================] - 4s 117ms/step - loss: 0.0020\n",
            "Epoch 67/100\n",
            "35/35 [==============================] - 4s 118ms/step - loss: 0.0019\n",
            "Epoch 68/100\n",
            "35/35 [==============================] - 4s 117ms/step - loss: 0.0020\n",
            "Epoch 69/100\n",
            "35/35 [==============================] - 4s 117ms/step - loss: 0.0019\n",
            "Epoch 70/100\n",
            "35/35 [==============================] - 4s 118ms/step - loss: 0.0020\n",
            "Epoch 71/100\n",
            "35/35 [==============================] - 4s 116ms/step - loss: 0.0019\n",
            "Epoch 72/100\n",
            "35/35 [==============================] - 4s 118ms/step - loss: 0.0021\n",
            "Epoch 73/100\n",
            "35/35 [==============================] - 4s 118ms/step - loss: 0.0017\n",
            "Epoch 74/100\n",
            "35/35 [==============================] - 4s 114ms/step - loss: 0.0020\n",
            "Epoch 75/100\n",
            "35/35 [==============================] - 4s 115ms/step - loss: 0.0018\n",
            "Epoch 76/100\n",
            "35/35 [==============================] - 4s 116ms/step - loss: 0.0019\n",
            "Epoch 77/100\n",
            "35/35 [==============================] - 4s 120ms/step - loss: 0.0017\n",
            "Epoch 78/100\n",
            "35/35 [==============================] - 4s 121ms/step - loss: 0.0019\n",
            "Epoch 79/100\n",
            "35/35 [==============================] - 4s 119ms/step - loss: 0.0018\n",
            "Epoch 80/100\n",
            "35/35 [==============================] - 6s 157ms/step - loss: 0.0020\n",
            "Epoch 81/100\n",
            "35/35 [==============================] - 6s 174ms/step - loss: 0.0020\n",
            "Epoch 82/100\n",
            "35/35 [==============================] - 5s 144ms/step - loss: 0.0020\n",
            "Epoch 83/100\n",
            "35/35 [==============================] - 4s 119ms/step - loss: 0.0018\n",
            "Epoch 84/100\n",
            "35/35 [==============================] - 4s 118ms/step - loss: 0.0019\n",
            "Epoch 85/100\n",
            "35/35 [==============================] - 4s 115ms/step - loss: 0.0015\n",
            "Epoch 86/100\n",
            "35/35 [==============================] - 4s 117ms/step - loss: 0.0017\n",
            "Epoch 87/100\n",
            "35/35 [==============================] - 4s 118ms/step - loss: 0.0016\n",
            "Epoch 88/100\n",
            "35/35 [==============================] - 4s 119ms/step - loss: 0.0015\n",
            "Epoch 89/100\n",
            "35/35 [==============================] - 4s 118ms/step - loss: 0.0016\n",
            "Epoch 90/100\n",
            "35/35 [==============================] - 4s 121ms/step - loss: 0.0015\n",
            "Epoch 91/100\n",
            "35/35 [==============================] - 4s 124ms/step - loss: 0.0016\n",
            "Epoch 92/100\n",
            "35/35 [==============================] - 5s 132ms/step - loss: 0.0015\n",
            "Epoch 93/100\n",
            "35/35 [==============================] - 5s 137ms/step - loss: 0.0016\n",
            "Epoch 94/100\n",
            "35/35 [==============================] - 4s 121ms/step - loss: 0.0016\n",
            "Epoch 95/100\n",
            "35/35 [==============================] - 4s 115ms/step - loss: 0.0015\n",
            "Epoch 96/100\n",
            "35/35 [==============================] - 4s 117ms/step - loss: 0.0017\n",
            "Epoch 97/100\n",
            "35/35 [==============================] - 4s 117ms/step - loss: 0.0017\n",
            "Epoch 98/100\n",
            "35/35 [==============================] - 4s 119ms/step - loss: 0.0016\n",
            "Epoch 99/100\n",
            "35/35 [==============================] - 4s 117ms/step - loss: 0.0016\n",
            "Epoch 100/100\n",
            "35/35 [==============================] - 4s 115ms/step - loss: 0.0016\n"
          ],
          "name": "stdout"
        },
        {
          "output_type": "execute_result",
          "data": {
            "text/plain": [
              "<tensorflow.python.keras.callbacks.History at 0x7f2aa5ad3ba8>"
            ]
          },
          "metadata": {
            "tags": []
          },
          "execution_count": 10
        }
      ]
    },
    {
      "cell_type": "code",
      "metadata": {
        "colab": {
          "base_uri": "https://localhost:8080/"
        },
        "id": "Xx4h5A89YT4-",
        "outputId": "4524efc1-9f7a-4d18-a68b-0d84d12a6bcd"
      },
      "source": [
        "model.summary()"
      ],
      "execution_count": null,
      "outputs": [
        {
          "output_type": "stream",
          "text": [
            "Model: \"sequential\"\n",
            "_________________________________________________________________\n",
            "Layer (type)                 Output Shape              Param #   \n",
            "=================================================================\n",
            "lstm (LSTM)                  (None, 60, 50)            10400     \n",
            "_________________________________________________________________\n",
            "dropout (Dropout)            (None, 60, 50)            0         \n",
            "_________________________________________________________________\n",
            "lstm_1 (LSTM)                (None, 60, 50)            20200     \n",
            "_________________________________________________________________\n",
            "dropout_1 (Dropout)          (None, 60, 50)            0         \n",
            "_________________________________________________________________\n",
            "lstm_2 (LSTM)                (None, 60, 50)            20200     \n",
            "_________________________________________________________________\n",
            "dropout_2 (Dropout)          (None, 60, 50)            0         \n",
            "_________________________________________________________________\n",
            "lstm_3 (LSTM)                (None, 50)                20200     \n",
            "_________________________________________________________________\n",
            "dropout_3 (Dropout)          (None, 50)                0         \n",
            "_________________________________________________________________\n",
            "dense (Dense)                (None, 1)                 51        \n",
            "=================================================================\n",
            "Total params: 71,051\n",
            "Trainable params: 71,051\n",
            "Non-trainable params: 0\n",
            "_________________________________________________________________\n"
          ],
          "name": "stdout"
        }
      ]
    },
    {
      "cell_type": "code",
      "metadata": {
        "id": "UJj2AiR9l5V2"
      },
      "source": [
        "predicted_stock_price = model.predict(X_test)\n",
        "predicted_stock_price = sc.inverse_transform(predicted_stock_price)\n"
      ],
      "execution_count": null,
      "outputs": []
    },
    {
      "cell_type": "code",
      "metadata": {
        "id": "S5M6QLOzncnN",
        "colab": {
          "base_uri": "https://localhost:8080/"
        },
        "outputId": "862422e7-1244-4316-e982-db89485bf262"
      },
      "source": [
        "from sklearn.metrics import r2_score\n",
        "import itertools\n",
        "y_pred = list(itertools.chain.from_iterable(predicted_stock_price))\n",
        "print(r2_score(y_test,predicted_stock_price))"
      ],
      "execution_count": null,
      "outputs": [
        {
          "output_type": "stream",
          "text": [
            "-75964.76270972245\n"
          ],
          "name": "stdout"
        }
      ]
    },
    {
      "cell_type": "code",
      "metadata": {
        "id": "2sY6J3uOl6ss",
        "colab": {
          "base_uri": "https://localhost:8080/",
          "height": 513
        },
        "outputId": "346b30fc-ff90-4cda-d4ec-45535e7b5df9"
      },
      "source": [
        "# Visualising the results\n",
        "plt.figure(figsize=(16,8))\n",
        "plt.plot(data_df.loc[int(0.8*len(data_df)):, 'Date'],test_set, color = 'red', label = 'Real Pfizer Stock Price')\n",
        "plt.plot(data_df.loc[int(0.8*len(data_df)):, 'Date'],predicted_stock_price, color = 'blue', label = 'Predicted Pfizer Stock Price')\n",
        "plt.title('Pfizer Stock Price Prediction')\n",
        "plt.xlabel('Time')\n",
        "plt.ylabel('Pfizer Stock Price')\n",
        "plt.legend()\n",
        "plt.show()"
      ],
      "execution_count": null,
      "outputs": [
        {
          "output_type": "display_data",
          "data": {
            "image/png": "[encoded data removed]",
            "text/plain": [
              "<Figure size 1152x576 with 1 Axes>"
            ]
          },
          "metadata": {
            "tags": [],
            "needs_background": "light"
          }
        }
      ]
    }
  ]
}